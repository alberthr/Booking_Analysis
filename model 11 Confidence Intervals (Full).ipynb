{
 "cells": [
  {
   "cell_type": "markdown",
   "metadata": {},
   "source": [
    "### Open File"
   ]
  },
  {
   "cell_type": "code",
   "execution_count": 14,
   "metadata": {},
   "outputs": [],
   "source": [
    "import pandas as pd\n",
    "import numpy as np\n",
    "import datetime as dt\n",
    "import pickle\n",
    "from collections import Counter\n",
    "from matplotlib import pyplot as plt\n",
    "pd.options.mode.chained_assignment = None"
   ]
  },
  {
   "cell_type": "code",
   "execution_count": 15,
   "metadata": {},
   "outputs": [],
   "source": [
    "from sklearn.model_selection import train_test_split\n",
    "from sklearn.metrics import accuracy_score, cohen_kappa_score, f1_score, precision_score, recall_score"
   ]
  },
  {
   "cell_type": "markdown",
   "metadata": {},
   "source": [
    "### Create Data Frame"
   ]
  },
  {
   "cell_type": "code",
   "execution_count": 16,
   "metadata": {},
   "outputs": [],
   "source": [
    "df_model = pickle.load(open('./sav/df_model.sav', 'rb'))\n",
    "df_subset = pickle.load(open('./sav/df_subset.sav', 'rb'))\n",
    "df = df_model.drop(df_subset.index).sample(n=2000, random_state=2222)"
   ]
  },
  {
   "cell_type": "code",
   "execution_count": 17,
   "metadata": {},
   "outputs": [],
   "source": [
    "y = df['Category']\n",
    "X = df[df.columns[1:-1]]"
   ]
  },
  {
   "cell_type": "markdown",
   "metadata": {},
   "source": [
    "### Final Predictions"
   ]
  },
  {
   "cell_type": "code",
   "execution_count": 18,
   "metadata": {},
   "outputs": [],
   "source": [
    "models = pickle.load(open('./sav/model_f1.sav', 'rb'))"
   ]
  },
  {
   "cell_type": "code",
   "execution_count": 19,
   "metadata": {},
   "outputs": [
    {
     "name": "stdout",
     "output_type": "stream",
     "text": [
      "Accuracy : 0.621\n",
      "F1-Score : 0.3777\n",
      "Precision: 0.7188\n",
      "Recall   : 0.2561\n"
     ]
    },
    {
     "data": {
      "text/html": [
       "<div>\n",
       "<style scoped>\n",
       "    .dataframe tbody tr th:only-of-type {\n",
       "        vertical-align: middle;\n",
       "    }\n",
       "\n",
       "    .dataframe tbody tr th {\n",
       "        vertical-align: top;\n",
       "    }\n",
       "\n",
       "    .dataframe thead th {\n",
       "        text-align: right;\n",
       "    }\n",
       "</style>\n",
       "<table border=\"1\" class=\"dataframe\">\n",
       "  <thead>\n",
       "    <tr style=\"text-align: right;\">\n",
       "      <th>Category</th>\n",
       "      <th>Bad</th>\n",
       "      <th>Good</th>\n",
       "    </tr>\n",
       "    <tr>\n",
       "      <th>row_0</th>\n",
       "      <th></th>\n",
       "      <th></th>\n",
       "    </tr>\n",
       "  </thead>\n",
       "  <tbody>\n",
       "    <tr>\n",
       "      <th>Bad</th>\n",
       "      <td>230</td>\n",
       "      <td>668</td>\n",
       "    </tr>\n",
       "    <tr>\n",
       "      <th>Good</th>\n",
       "      <td>90</td>\n",
       "      <td>1012</td>\n",
       "    </tr>\n",
       "  </tbody>\n",
       "</table>\n",
       "</div>"
      ],
      "text/plain": [
       "Category  Bad  Good\n",
       "row_0              \n",
       "Bad       230   668\n",
       "Good       90  1012"
      ]
     },
     "execution_count": 19,
     "metadata": {},
     "output_type": "execute_result"
    }
   ],
   "source": [
    "clf = models[2]\n",
    "pred = clf.predict(X)\n",
    "print(\"Accuracy :\", round(accuracy_score(pred, y),4))\n",
    "print(\"F1-Score :\", round(f1_score(pred, y, pos_label=\"Bad\"),4))\n",
    "print(\"Precision:\", round(precision_score(pred, y, pos_label=\"Bad\"),4))\n",
    "print(\"Recall   :\", round(recall_score(pred, y, pos_label=\"Bad\"),4))\n",
    "pd.crosstab(np.array(pred), y) # * 100 / len(y)"
   ]
  },
  {
   "cell_type": "markdown",
   "metadata": {},
   "source": [
    "#### Cut Off Adjustment"
   ]
  },
  {
   "cell_type": "code",
   "execution_count": 20,
   "metadata": {},
   "outputs": [],
   "source": [
    "prob =clf.predict_proba(X)[:,0]"
   ]
  },
  {
   "cell_type": "code",
   "execution_count": 21,
   "metadata": {},
   "outputs": [],
   "source": [
    "threshold = 0.505\n",
    "pred = [\"Bad\" if i >= threshold else \"Good\" for i in prob]"
   ]
  },
  {
   "cell_type": "code",
   "execution_count": 22,
   "metadata": {},
   "outputs": [
    {
     "name": "stdout",
     "output_type": "stream",
     "text": [
      "Accuracy : 0.6465\n",
      "F1-Score : 0.3889\n",
      "Precision: 0.7031\n",
      "Recall   : 0.2688\n"
     ]
    },
    {
     "data": {
      "text/html": [
       "<div>\n",
       "<style scoped>\n",
       "    .dataframe tbody tr th:only-of-type {\n",
       "        vertical-align: middle;\n",
       "    }\n",
       "\n",
       "    .dataframe tbody tr th {\n",
       "        vertical-align: top;\n",
       "    }\n",
       "\n",
       "    .dataframe thead th {\n",
       "        text-align: right;\n",
       "    }\n",
       "</style>\n",
       "<table border=\"1\" class=\"dataframe\">\n",
       "  <thead>\n",
       "    <tr style=\"text-align: right;\">\n",
       "      <th>Category</th>\n",
       "      <th>Bad</th>\n",
       "      <th>Good</th>\n",
       "    </tr>\n",
       "    <tr>\n",
       "      <th>row_0</th>\n",
       "      <th></th>\n",
       "      <th></th>\n",
       "    </tr>\n",
       "  </thead>\n",
       "  <tbody>\n",
       "    <tr>\n",
       "      <th>Bad</th>\n",
       "      <td>225</td>\n",
       "      <td>612</td>\n",
       "    </tr>\n",
       "    <tr>\n",
       "      <th>Good</th>\n",
       "      <td>95</td>\n",
       "      <td>1068</td>\n",
       "    </tr>\n",
       "  </tbody>\n",
       "</table>\n",
       "</div>"
      ],
      "text/plain": [
       "Category  Bad  Good\n",
       "row_0              \n",
       "Bad       225   612\n",
       "Good       95  1068"
      ]
     },
     "execution_count": 22,
     "metadata": {},
     "output_type": "execute_result"
    }
   ],
   "source": [
    "print(\"Accuracy :\", round(accuracy_score(pred, y),4))\n",
    "print(\"F1-Score :\", round(f1_score(pred, y, pos_label=\"Bad\"),4))\n",
    "print(\"Precision:\", round(precision_score(pred, y, pos_label=\"Bad\"),4))\n",
    "print(\"Recall   :\", round(recall_score(pred, y, pos_label=\"Bad\"),4))\n",
    "pd.crosstab(np.array(pred), y) # * 100 / len(y)"
   ]
  },
  {
   "cell_type": "code",
   "execution_count": null,
   "metadata": {},
   "outputs": [],
   "source": []
  },
  {
   "cell_type": "markdown",
   "metadata": {},
   "source": [
    "### Confidence Interval"
   ]
  },
  {
   "cell_type": "code",
   "execution_count": 10,
   "metadata": {},
   "outputs": [],
   "source": [
    "pred_ac, pred_pr, pred_rc, pred_f1 = [], [], [], []"
   ]
  },
  {
   "cell_type": "code",
   "execution_count": 11,
   "metadata": {},
   "outputs": [
    {
     "name": "stdout",
     "output_type": "stream",
     "text": [
      "999\r"
     ]
    }
   ],
   "source": [
    "np.random.seed(1)\n",
    "for i in range(1000):\n",
    "    sample = np.random.randint(0, len(X), size=len(X))\n",
    "    X_sample = np.array(pred)[sample]\n",
    "    y_sample = np.array(y)[sample]\n",
    "    print(i, end='\\r', flush=True)\n",
    "    pred_ac.append(accuracy_score(X_sample, y_sample))\n",
    "    pred_f1.append(f1_score(X_sample, y_sample, pos_label=\"Bad\"))\n",
    "    pred_rc.append(recall_score(X_sample, y_sample, pos_label=\"Bad\"))\n",
    "    pred_pr.append(precision_score(X_sample, y_sample, pos_label=\"Bad\"))"
   ]
  },
  {
   "cell_type": "code",
   "execution_count": 12,
   "metadata": {},
   "outputs": [
    {
     "data": {
      "text/plain": [
       "<matplotlib.legend.Legend at 0x253017b0ac0>"
      ]
     },
     "execution_count": 12,
     "metadata": {},
     "output_type": "execute_result"
    },
    {
     "data": {
      "image/png": "[encoded data removed]",
      "text/plain": [
       "<Figure size 1152x360 with 3 Axes>"
      ]
     },
     "metadata": {
      "needs_background": "light"
     },
     "output_type": "display_data"
    }
   ],
   "source": [
    "fig, ax=plt.subplots(1, 3, figsize=(16, 5))\n",
    "ax[0].hist(pred_f1, bins=25, label='F1', color='green')\n",
    "ax[1].hist(pred_pr, bins=25, label='Precision', color='orange')\n",
    "ax[2].hist(pred_rc, bins=25, label='Recall', color=\"darkblue\")\n",
    "ax[0].legend()\n",
    "ax[1].legend()\n",
    "ax[2].legend()"
   ]
  },
  {
   "cell_type": "code",
   "execution_count": 13,
   "metadata": {
    "scrolled": true
   },
   "outputs": [
    {
     "name": "stdout",
     "output_type": "stream",
     "text": [
      "             0.5%    50%  99.5%\n",
      "Accuracy : 0.6215 0.6465 0.6760\n",
      "F1       : 0.3432 0.3895 0.4354\n",
      "Precision: 0.6399 0.7030 0.7667\n",
      "Recall   : 0.2287 0.2696 0.3069\n"
     ]
    }
   ],
   "source": [
    "print('             0.5%    50%  99.5%')\n",
    "print('Accuracy :',f'{np.percentile(pred_ac,0.5):.4f}',f'{np.percentile(pred_ac,50):.4f}',f'{np.percentile(pred_ac,99.5):.4f}')\n",
    "print('F1       :',f'{np.percentile(pred_f1,0.5):.4f}',f'{np.percentile(pred_f1,50):.4f}',f'{np.percentile(pred_f1,99.5):.4f}')\n",
    "print('Precision:',f'{np.percentile(pred_pr,0.5):.4f}',f'{np.percentile(pred_pr,50):.4f}',f'{np.percentile(pred_pr,99.5):.4f}')\n",
    "print('Recall   :',f'{np.percentile(pred_rc,0.5):.4f}',f'{np.percentile(pred_rc,50):.4f}',f'{np.percentile(pred_rc,99.5):.4f}')"
   ]
  },
  {
   "cell_type": "code",
   "execution_count": null,
   "metadata": {},
   "outputs": [],
   "source": []
  },
  {
   "cell_type": "code",
   "execution_count": null,
   "metadata": {},
   "outputs": [],
   "source": []
  },
  {
   "cell_type": "code",
   "execution_count": null,
   "metadata": {},
   "outputs": [],
   "source": []
  },
  {
   "cell_type": "code",
   "execution_count": null,
   "metadata": {},
   "outputs": [],
   "source": []
  }
 ],
 "metadata": {
  "kernelspec": {
   "display_name": "Python 3",
   "language": "python",
   "name": "python3"
  },
  "language_info": {
   "codemirror_mode": {
    "name": "ipython",
    "version": 3
   },
   "file_extension": ".py",
   "mimetype": "text/x-python",
   "name": "python",
   "nbconvert_exporter": "python",
   "pygments_lexer": "ipython3",
   "version": "3.8.3"
  }
 },
 "nbformat": 4,
 "nbformat_minor": 2
}
