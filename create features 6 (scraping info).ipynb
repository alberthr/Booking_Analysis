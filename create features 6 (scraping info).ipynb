{
 "cells": [
  {
   "cell_type": "code",
   "execution_count": 1,
   "metadata": {},
   "outputs": [],
   "source": [
    "import pandas as pd\n",
    "import numpy as np"
   ]
  },
  {
   "cell_type": "code",
   "execution_count": 2,
   "metadata": {},
   "outputs": [],
   "source": [
    "df = pd.read_csv('./data/df_features.gz')"
   ]
  },
  {
   "cell_type": "code",
   "execution_count": 3,
   "metadata": {},
   "outputs": [
    {
     "data": {
      "text/plain": [
       "Index(['Hotel_Address', 'Additional_Number_of_Scoring', 'Review_Date',\n",
       "       'Average_Score', 'Hotel_Name', 'Reviewer_Nationality',\n",
       "       'Negative_Review', 'Review_Total_Negative_Word_Counts',\n",
       "       'Total_Number_of_Reviews', 'Positive_Review',\n",
       "       'Review_Total_Positive_Word_Counts',\n",
       "       'Total_Number_of_Reviews_Reviewer_Has_Given', 'Reviewer_Score',\n",
       "       'days_since_review', 'lat', 'lng', 'Diff', 'Review_Month',\n",
       "       'Review_Year', 'Country', 'City', 'Pet', 'Purpose', 'Whom', 'Room',\n",
       "       'Length', 'Device', 'Room_Recode', 'Nationality_Recode',\n",
       "       'Length_Recode', 'Length_N', 'Close_Landmarks', 'Dist_Center',\n",
       "       'Dist_Airport', 'Dist_Train'],\n",
       "      dtype='object')"
      ]
     },
     "execution_count": 3,
     "metadata": {},
     "output_type": "execute_result"
    }
   ],
   "source": [
    "df.columns"
   ]
  },
  {
   "cell_type": "markdown",
   "metadata": {},
   "source": [
    "### Scraping Info"
   ]
  },
  {
   "cell_type": "code",
   "execution_count": 4,
   "metadata": {},
   "outputs": [
    {
     "data": {
      "text/html": [
       "<div>\n",
       "<style scoped>\n",
       "    .dataframe tbody tr th:only-of-type {\n",
       "        vertical-align: middle;\n",
       "    }\n",
       "\n",
       "    .dataframe tbody tr th {\n",
       "        vertical-align: top;\n",
       "    }\n",
       "\n",
       "    .dataframe thead th {\n",
       "        text-align: right;\n",
       "    }\n",
       "</style>\n",
       "<table border=\"1\" class=\"dataframe\">\n",
       "  <thead>\n",
       "    <tr style=\"text-align: right;\">\n",
       "      <th></th>\n",
       "      <th>Booking_Address</th>\n",
       "      <th>CODE</th>\n",
       "      <th>City</th>\n",
       "      <th>Hotel_Name</th>\n",
       "      <th>Hotel_Name_Booking</th>\n",
       "      <th>Hotel_Address</th>\n",
       "      <th>Hotel_Address_Booking</th>\n",
       "      <th>Price</th>\n",
       "      <th>Stars</th>\n",
       "    </tr>\n",
       "  </thead>\n",
       "  <tbody>\n",
       "    <tr>\n",
       "      <th>0</th>\n",
       "      <td>https://www.booking.com/hotel/gb/number-eleven...</td>\n",
       "      <td>gb</td>\n",
       "      <td>London</td>\n",
       "      <td>11 Cadogan Gardens</td>\n",
       "      <td>11 Cadogan Gardens</td>\n",
       "      <td>11 Cadogan Gardens Sloane Square Kensington an...</td>\n",
       "      <td>11 Cadogan Gardens, Sloane Square, Kensington ...</td>\n",
       "      <td>266.0</td>\n",
       "      <td>hotel de 5 estrellas</td>\n",
       "    </tr>\n",
       "  </tbody>\n",
       "</table>\n",
       "</div>"
      ],
      "text/plain": [
       "                                     Booking_Address CODE    City  \\\n",
       "0  https://www.booking.com/hotel/gb/number-eleven...   gb  London   \n",
       "\n",
       "           Hotel_Name  Hotel_Name_Booking  \\\n",
       "0  11 Cadogan Gardens  11 Cadogan Gardens   \n",
       "\n",
       "                                       Hotel_Address  \\\n",
       "0  11 Cadogan Gardens Sloane Square Kensington an...   \n",
       "\n",
       "                               Hotel_Address_Booking  Price  \\\n",
       "0  11 Cadogan Gardens, Sloane Square, Kensington ...  266.0   \n",
       "\n",
       "                  Stars  \n",
       "0  hotel de 5 estrellas  "
      ]
     },
     "execution_count": 4,
     "metadata": {},
     "output_type": "execute_result"
    }
   ],
   "source": [
    "scraping = pd.read_excel('./data/hotel_city_booking_price_stars.xlsx')\n",
    "scraping.head(1)"
   ]
  },
  {
   "cell_type": "code",
   "execution_count": 5,
   "metadata": {},
   "outputs": [
    {
     "data": {
      "text/plain": [
       "Index(['Booking_Address', 'CODE', 'City', 'Hotel_Name', 'Hotel_Name_Booking',\n",
       "       'Hotel_Address', 'Hotel_Address_Booking', 'Price', 'Stars'],\n",
       "      dtype='object')"
      ]
     },
     "execution_count": 5,
     "metadata": {},
     "output_type": "execute_result"
    }
   ],
   "source": [
    "scraping.columns"
   ]
  },
  {
   "cell_type": "code",
   "execution_count": 6,
   "metadata": {},
   "outputs": [
    {
     "data": {
      "text/plain": [
       "((515738, 37), (515738, 35))"
      ]
     },
     "execution_count": 6,
     "metadata": {},
     "output_type": "execute_result"
    }
   ],
   "source": [
    "df_updated = pd.merge(df, scraping[['Hotel_Address','Price','Stars']], on='Hotel_Address')\n",
    "df_updated.shape, df.shape"
   ]
  },
  {
   "cell_type": "code",
   "execution_count": 7,
   "metadata": {},
   "outputs": [
    {
     "data": {
      "text/plain": [
       "Index(['Hotel_Address', 'Additional_Number_of_Scoring', 'Review_Date',\n",
       "       'Average_Score', 'Hotel_Name', 'Reviewer_Nationality',\n",
       "       'Negative_Review', 'Review_Total_Negative_Word_Counts',\n",
       "       'Total_Number_of_Reviews', 'Positive_Review',\n",
       "       'Review_Total_Positive_Word_Counts',\n",
       "       'Total_Number_of_Reviews_Reviewer_Has_Given', 'Reviewer_Score',\n",
       "       'days_since_review', 'lat', 'lng', 'Diff', 'Review_Month',\n",
       "       'Review_Year', 'Country', 'City', 'Pet', 'Purpose', 'Whom', 'Room',\n",
       "       'Length', 'Device', 'Room_Recode', 'Nationality_Recode',\n",
       "       'Length_Recode', 'Length_N', 'Close_Landmarks', 'Dist_Center',\n",
       "       'Dist_Airport', 'Dist_Train', 'Price', 'Stars'],\n",
       "      dtype='object')"
      ]
     },
     "execution_count": 7,
     "metadata": {},
     "output_type": "execute_result"
    }
   ],
   "source": [
    "df_updated.columns"
   ]
  },
  {
   "cell_type": "markdown",
   "metadata": {},
   "source": [
    "#### Save Results"
   ]
  },
  {
   "cell_type": "code",
   "execution_count": 8,
   "metadata": {},
   "outputs": [],
   "source": [
    "df_updated.to_csv(\"./data/df_features.gz\", index_label=False, compression=\"gzip\")"
   ]
  },
  {
   "cell_type": "code",
   "execution_count": null,
   "metadata": {},
   "outputs": [],
   "source": []
  }
 ],
 "metadata": {
  "kernelspec": {
   "display_name": "Python 3",
   "language": "python",
   "name": "python3"
  },
  "language_info": {
   "codemirror_mode": {
    "name": "ipython",
    "version": 3
   },
   "file_extension": ".py",
   "mimetype": "text/x-python",
   "name": "python",
   "nbconvert_exporter": "python",
   "pygments_lexer": "ipython3",
   "version": "3.7.7"
  }
 },
 "nbformat": 4,
 "nbformat_minor": 2
}
