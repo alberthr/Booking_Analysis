{
 "cells": [
  {
   "cell_type": "code",
   "execution_count": 1,
   "metadata": {},
   "outputs": [],
   "source": [
    "import pandas as pd\n",
    "import numpy as np"
   ]
  },
  {
   "cell_type": "code",
   "execution_count": 2,
   "metadata": {},
   "outputs": [],
   "source": [
    "df = pd.read_csv(\"515k-hotel-reviews-data-in-europe.zip\")"
   ]
  },
  {
   "cell_type": "code",
   "execution_count": 3,
   "metadata": {},
   "outputs": [
    {
     "data": {
      "text/plain": [
       "Index(['Hotel_Address', 'Additional_Number_of_Scoring', 'Review_Date',\n",
       "       'Average_Score', 'Hotel_Name', 'Reviewer_Nationality',\n",
       "       'Negative_Review', 'Review_Total_Negative_Word_Counts',\n",
       "       'Total_Number_of_Reviews', 'Positive_Review',\n",
       "       'Review_Total_Positive_Word_Counts',\n",
       "       'Total_Number_of_Reviews_Reviewer_Has_Given', 'Reviewer_Score', 'Tags',\n",
       "       'days_since_review', 'lat', 'lng'],\n",
       "      dtype='object')"
      ]
     },
     "execution_count": 3,
     "metadata": {},
     "output_type": "execute_result"
    }
   ],
   "source": [
    "df.columns"
   ]
  },
  {
   "cell_type": "code",
   "execution_count": 4,
   "metadata": {},
   "outputs": [
    {
     "data": {
      "text/plain": [
       "(515738, 17)"
      ]
     },
     "execution_count": 4,
     "metadata": {},
     "output_type": "execute_result"
    }
   ],
   "source": [
    "df.shape"
   ]
  },
  {
   "cell_type": "code",
   "execution_count": 5,
   "metadata": {},
   "outputs": [
    {
     "data": {
      "text/plain": [
       "163 Marsh Wall Docklands Tower Hamlets London E14 9SJ United Kingdom              4789\n",
       "372 Strand Westminster Borough London WC2R 0JJ United Kingdom                     4256\n",
       "Westminster Bridge Road Lambeth London SE1 7UT United Kingdom                     4169\n",
       "Scarsdale Place Kensington Kensington and Chelsea London W8 5SY United Kingdom    3578\n",
       "7 Pepys Street City of London London EC3N 4AF United Kingdom                      3212\n",
       "1 Inverness Terrace Westminster Borough London W2 3JP United Kingdom              2958\n",
       "Wrights Lane Kensington and Chelsea London W8 5SP United Kingdom                  2768\n",
       "225 Edgware Road Westminster Borough London W2 1JU United Kingdom                 2628\n",
       "4 18 Harrington Gardens Kensington and Chelsea London SW7 4LH United Kingdom      2565\n",
       "1 Waterview Drive Greenwich London SE10 0TW United Kingdom                        2551\n",
       "Name: Hotel_Address, dtype: int64"
      ]
     },
     "execution_count": 5,
     "metadata": {},
     "output_type": "execute_result"
    }
   ],
   "source": [
    "df.Hotel_Address.value_counts()[:10]"
   ]
  },
  {
   "cell_type": "code",
   "execution_count": 6,
   "metadata": {},
   "outputs": [
    {
     "data": {
      "text/plain": [
       "'Netherlands'"
      ]
     },
     "execution_count": 6,
     "metadata": {},
     "output_type": "execute_result"
    }
   ],
   "source": [
    "df.Hotel_Address[0].split()[-1]"
   ]
  },
  {
   "cell_type": "code",
   "execution_count": 7,
   "metadata": {},
   "outputs": [
    {
     "data": {
      "text/plain": [
       "United Kingdom    262301\n",
       "Spain              60149\n",
       "France             59928\n",
       "Netherlands        57214\n",
       "Austria            38939\n",
       "Italy              37207\n",
       "Name: Country, dtype: int64"
      ]
     },
     "execution_count": 7,
     "metadata": {},
     "output_type": "execute_result"
    }
   ],
   "source": [
    "def get_country(adress):\n",
    "    country = adress.split()[-1]\n",
    "    if country == \"Kingdom\":\n",
    "        return(\"United Kingdom\")\n",
    "    else:\n",
    "        return(country)\n",
    "    \n",
    "df['Country'] = df.Hotel_Address.apply(lambda x: get_country(x))\n",
    "df.Country.value_counts()"
   ]
  },
  {
   "cell_type": "code",
   "execution_count": 8,
   "metadata": {},
   "outputs": [],
   "source": [
    "def get_city(adress, country):\n",
    "    city = adress.split()[-2]\n",
    "    if country == \"United Kingdom\":\n",
    "        return(adress.split()[-5])\n",
    "    else:\n",
    "        return(city)\n",
    "\n",
    "df['City'] = df[['Hotel_Address','Country']].apply(lambda x: get_city(x[0], x[1]), axis=1)"
   ]
  },
  {
   "cell_type": "code",
   "execution_count": 9,
   "metadata": {},
   "outputs": [
    {
     "data": {
      "text/plain": [
       "London       262301\n",
       "Barcelona     60149\n",
       "Paris         59928\n",
       "Amsterdam     57214\n",
       "Vienna        38939\n",
       "Milan         37207\n",
       "Name: City, dtype: int64"
      ]
     },
     "execution_count": 9,
     "metadata": {},
     "output_type": "execute_result"
    }
   ],
   "source": [
    "df.City.value_counts()"
   ]
  },
  {
   "cell_type": "code",
   "execution_count": 10,
   "metadata": {},
   "outputs": [
    {
     "data": {
      "text/plain": [
       "Index(['Hotel_Address', 'Additional_Number_of_Scoring', 'Review_Date',\n",
       "       'Average_Score', 'Hotel_Name', 'Reviewer_Nationality',\n",
       "       'Negative_Review', 'Review_Total_Negative_Word_Counts',\n",
       "       'Total_Number_of_Reviews', 'Positive_Review',\n",
       "       'Review_Total_Positive_Word_Counts',\n",
       "       'Total_Number_of_Reviews_Reviewer_Has_Given', 'Reviewer_Score', 'Tags',\n",
       "       'days_since_review', 'lat', 'lng', 'Country', 'City'],\n",
       "      dtype='object')"
      ]
     },
     "execution_count": 10,
     "metadata": {},
     "output_type": "execute_result"
    }
   ],
   "source": [
    "df.columns"
   ]
  },
  {
   "cell_type": "code",
   "execution_count": 11,
   "metadata": {},
   "outputs": [
    {
     "data": {
      "text/html": [
       "<div>\n",
       "<style scoped>\n",
       "    .dataframe tbody tr th:only-of-type {\n",
       "        vertical-align: middle;\n",
       "    }\n",
       "\n",
       "    .dataframe tbody tr th {\n",
       "        vertical-align: top;\n",
       "    }\n",
       "\n",
       "    .dataframe thead th {\n",
       "        text-align: right;\n",
       "    }\n",
       "</style>\n",
       "<table border=\"1\" class=\"dataframe\">\n",
       "  <thead>\n",
       "    <tr style=\"text-align: right;\">\n",
       "      <th></th>\n",
       "      <th>Hotel_Name</th>\n",
       "    </tr>\n",
       "    <tr>\n",
       "      <th>City</th>\n",
       "      <th></th>\n",
       "    </tr>\n",
       "  </thead>\n",
       "  <tbody>\n",
       "    <tr>\n",
       "      <td>Amsterdam</td>\n",
       "      <td>105</td>\n",
       "    </tr>\n",
       "    <tr>\n",
       "      <td>Barcelona</td>\n",
       "      <td>211</td>\n",
       "    </tr>\n",
       "    <tr>\n",
       "      <td>London</td>\n",
       "      <td>400</td>\n",
       "    </tr>\n",
       "    <tr>\n",
       "      <td>Milan</td>\n",
       "      <td>162</td>\n",
       "    </tr>\n",
       "    <tr>\n",
       "      <td>Paris</td>\n",
       "      <td>458</td>\n",
       "    </tr>\n",
       "    <tr>\n",
       "      <td>Vienna</td>\n",
       "      <td>158</td>\n",
       "    </tr>\n",
       "  </tbody>\n",
       "</table>\n",
       "</div>"
      ],
      "text/plain": [
       "           Hotel_Name\n",
       "City                 \n",
       "Amsterdam         105\n",
       "Barcelona         211\n",
       "London            400\n",
       "Milan             162\n",
       "Paris             458\n",
       "Vienna            158"
      ]
     },
     "execution_count": 11,
     "metadata": {},
     "output_type": "execute_result"
    }
   ],
   "source": [
    "df[['City','Hotel_Name']].groupby(['City','Hotel_Name']).count().reset_index().groupby(['City']).count()"
   ]
  },
  {
   "cell_type": "code",
   "execution_count": 17,
   "metadata": {},
   "outputs": [
    {
     "data": {
      "text/html": [
       "<div>\n",
       "<style scoped>\n",
       "    .dataframe tbody tr th:only-of-type {\n",
       "        vertical-align: middle;\n",
       "    }\n",
       "\n",
       "    .dataframe tbody tr th {\n",
       "        vertical-align: top;\n",
       "    }\n",
       "\n",
       "    .dataframe thead th {\n",
       "        text-align: right;\n",
       "    }\n",
       "</style>\n",
       "<table border=\"1\" class=\"dataframe\">\n",
       "  <thead>\n",
       "    <tr style=\"text-align: right;\">\n",
       "      <th></th>\n",
       "      <th>Hotel_Name</th>\n",
       "      <th>City</th>\n",
       "      <th>lng</th>\n",
       "      <th>lat</th>\n",
       "    </tr>\n",
       "  </thead>\n",
       "  <tbody>\n",
       "    <tr>\n",
       "      <td>0</td>\n",
       "      <td>11 Cadogan Gardens</td>\n",
       "      <td>London</td>\n",
       "      <td>-0.159235</td>\n",
       "      <td>51.493616</td>\n",
       "    </tr>\n",
       "    <tr>\n",
       "      <td>1</td>\n",
       "      <td>1K Hotel</td>\n",
       "      <td>Paris</td>\n",
       "      <td>2.365874</td>\n",
       "      <td>48.863932</td>\n",
       "    </tr>\n",
       "    <tr>\n",
       "      <td>2</td>\n",
       "      <td>25hours Hotel beim MuseumsQuartier</td>\n",
       "      <td>Vienna</td>\n",
       "      <td>16.354630</td>\n",
       "      <td>48.206474</td>\n",
       "    </tr>\n",
       "    <tr>\n",
       "      <td>3</td>\n",
       "      <td>41</td>\n",
       "      <td>London</td>\n",
       "      <td>-0.143649</td>\n",
       "      <td>51.498147</td>\n",
       "    </tr>\n",
       "    <tr>\n",
       "      <td>4</td>\n",
       "      <td>45 Park Lane Dorchester Collection</td>\n",
       "      <td>London</td>\n",
       "      <td>-0.151536</td>\n",
       "      <td>51.506371</td>\n",
       "    </tr>\n",
       "    <tr>\n",
       "      <td>5</td>\n",
       "      <td>88 Studios</td>\n",
       "      <td>London</td>\n",
       "      <td>-0.209073</td>\n",
       "      <td>51.499279</td>\n",
       "    </tr>\n",
       "    <tr>\n",
       "      <td>6</td>\n",
       "      <td>9Hotel Republique</td>\n",
       "      <td>Paris</td>\n",
       "      <td>2.360586</td>\n",
       "      <td>48.870842</td>\n",
       "    </tr>\n",
       "    <tr>\n",
       "      <td>7</td>\n",
       "      <td>A La Villa Madame</td>\n",
       "      <td>Paris</td>\n",
       "      <td>2.331526</td>\n",
       "      <td>48.848861</td>\n",
       "    </tr>\n",
       "    <tr>\n",
       "      <td>8</td>\n",
       "      <td>ABaC Restaurant Hotel Barcelona GL Monumento</td>\n",
       "      <td>Barcelona</td>\n",
       "      <td>2.136294</td>\n",
       "      <td>41.410694</td>\n",
       "    </tr>\n",
       "    <tr>\n",
       "      <td>9</td>\n",
       "      <td>AC Hotel Barcelona Forum a Marriott Lifestyle ...</td>\n",
       "      <td>Barcelona</td>\n",
       "      <td>2.218805</td>\n",
       "      <td>41.410131</td>\n",
       "    </tr>\n",
       "  </tbody>\n",
       "</table>\n",
       "</div>"
      ],
      "text/plain": [
       "                                          Hotel_Name       City        lng  \\\n",
       "0                                 11 Cadogan Gardens     London  -0.159235   \n",
       "1                                           1K Hotel      Paris   2.365874   \n",
       "2                 25hours Hotel beim MuseumsQuartier     Vienna  16.354630   \n",
       "3                                                 41     London  -0.143649   \n",
       "4                 45 Park Lane Dorchester Collection     London  -0.151536   \n",
       "5                                         88 Studios     London  -0.209073   \n",
       "6                                  9Hotel Republique      Paris   2.360586   \n",
       "7                                  A La Villa Madame      Paris   2.331526   \n",
       "8       ABaC Restaurant Hotel Barcelona GL Monumento  Barcelona   2.136294   \n",
       "9  AC Hotel Barcelona Forum a Marriott Lifestyle ...  Barcelona   2.218805   \n",
       "\n",
       "         lat  \n",
       "0  51.493616  \n",
       "1  48.863932  \n",
       "2  48.206474  \n",
       "3  51.498147  \n",
       "4  51.506371  \n",
       "5  51.499279  \n",
       "6  48.870842  \n",
       "7  48.848861  \n",
       "8  41.410694  \n",
       "9  41.410131  "
      ]
     },
     "execution_count": 17,
     "metadata": {},
     "output_type": "execute_result"
    }
   ],
   "source": [
    "df[['Hotel_Name','City','lng','lat']].groupby(['Hotel_Name','City']).median().reset_index().head(10)"
   ]
  },
  {
   "cell_type": "code",
   "execution_count": 13,
   "metadata": {},
   "outputs": [
    {
     "data": {
      "text/html": [
       "<div>\n",
       "<style scoped>\n",
       "    .dataframe tbody tr th:only-of-type {\n",
       "        vertical-align: middle;\n",
       "    }\n",
       "\n",
       "    .dataframe tbody tr th {\n",
       "        vertical-align: top;\n",
       "    }\n",
       "\n",
       "    .dataframe thead th {\n",
       "        text-align: right;\n",
       "    }\n",
       "</style>\n",
       "<table border=\"1\" class=\"dataframe\">\n",
       "  <thead>\n",
       "    <tr style=\"text-align: right;\">\n",
       "      <th></th>\n",
       "      <th>Hotel_Name</th>\n",
       "      <th>Count</th>\n",
       "      <th>lng</th>\n",
       "      <th>lat</th>\n",
       "    </tr>\n",
       "  </thead>\n",
       "  <tbody>\n",
       "    <tr>\n",
       "      <td>0</td>\n",
       "      <td>Eurostars Grand Marina Hotel GL</td>\n",
       "      <td>1082</td>\n",
       "      <td>2.181698</td>\n",
       "      <td>41.371308</td>\n",
       "    </tr>\n",
       "    <tr>\n",
       "      <td>1</td>\n",
       "      <td>Catalonia Atenas</td>\n",
       "      <td>1061</td>\n",
       "      <td>2.186601</td>\n",
       "      <td>41.411006</td>\n",
       "    </tr>\n",
       "    <tr>\n",
       "      <td>2</td>\n",
       "      <td>Catalonia Plaza Catalunya</td>\n",
       "      <td>964</td>\n",
       "      <td>2.168292</td>\n",
       "      <td>41.386529</td>\n",
       "    </tr>\n",
       "    <tr>\n",
       "      <td>3</td>\n",
       "      <td>Catalonia Barcelona Plaza</td>\n",
       "      <td>932</td>\n",
       "      <td>2.149117</td>\n",
       "      <td>41.375029</td>\n",
       "    </tr>\n",
       "    <tr>\n",
       "      <td>4</td>\n",
       "      <td>Barcelona Princess</td>\n",
       "      <td>897</td>\n",
       "      <td>2.218653</td>\n",
       "      <td>41.410972</td>\n",
       "    </tr>\n",
       "  </tbody>\n",
       "</table>\n",
       "</div>"
      ],
      "text/plain": [
       "                        Hotel_Name  Count       lng        lat\n",
       "0  Eurostars Grand Marina Hotel GL   1082  2.181698  41.371308\n",
       "1                 Catalonia Atenas   1061  2.186601  41.411006\n",
       "2        Catalonia Plaza Catalunya    964  2.168292  41.386529\n",
       "3        Catalonia Barcelona Plaza    932  2.149117  41.375029\n",
       "4               Barcelona Princess    897  2.218653  41.410972"
      ]
     },
     "execution_count": 13,
     "metadata": {},
     "output_type": "execute_result"
    }
   ],
   "source": [
    "def get_hotels(city):\n",
    "    ct = df.Hotel_Name[df.City == city].value_counts().to_frame().reset_index()\n",
    "    ct.columns = ['Hotel_Name','Count']\n",
    "    return(ct)\n",
    "    \n",
    "df_mapa = get_hotels('Barcelona').merge(df[['Hotel_Name','lng','lat']].groupby(['Hotel_Name']).median().reset_index(),\n",
    "                                        left_on='Hotel_Name', right_on='Hotel_Name', how='left')\n",
    "df_mapa.head()"
   ]
  },
  {
   "cell_type": "code",
   "execution_count": 14,
   "metadata": {},
   "outputs": [
    {
     "data": {
      "text/plain": [
       "<function matplotlib.pyplot.show(*args, **kw)>"
      ]
     },
     "execution_count": 14,
     "metadata": {},
     "output_type": "execute_result"
    },
    {
     "data": {
      "image/png": "[encoded data removed]",
      "text/plain": [
       "<Figure size 1152x576 with 1 Axes>"
      ]
     },
     "metadata": {
      "needs_background": "light"
     },
     "output_type": "display_data"
    }
   ],
   "source": [
    "%matplotlib inline\n",
    "import matplotlib.pyplot as plt\n",
    "\n",
    "plt.figure(figsize=(16,8))\n",
    "plt.scatter(df_mapa.lat, df_mapa.lng, c='red', s=df_mapa.Count, alpha=0.1)\n",
    "plt.show"
   ]
  },
  {
   "cell_type": "markdown",
   "metadata": {},
   "source": [
    "### Scrapping Hotel Prices\n",
    "First i create a standardized name of the hotel which i will use in Google to look for its booking.com adress\n",
    "It will be done in 2 steps. First i need to scrap the address in booking and i will use Google for this.\n",
    "Second i will visit each page and pick the price and see if there's more interesting information to scrap."
   ]
  },
  {
   "cell_type": "code",
   "execution_count": 48,
   "metadata": {},
   "outputs": [
    {
     "data": {
      "text/plain": [
       "0                       Hotel 11 Cadogan Gardens London\n",
       "1                                  Hotel 1K Hotel Paris\n",
       "2       Hotel 25hours Hotel beim MuseumsQuartier Vienna\n",
       "3                                       Hotel 41 London\n",
       "4       Hotel 45 Park Lane Dorchester Collection London\n",
       "                             ...                       \n",
       "1489              Hotel citizenM London Bankside London\n",
       "1490            Hotel citizenM London Shoreditch London\n",
       "1491              Hotel citizenM Tower of London London\n",
       "1492                Hotel every hotel Piccadilly London\n",
       "1493                     Hotel pentahotel Vienna Vienna\n",
       "Length: 1494, dtype: object"
      ]
     },
     "execution_count": 48,
     "metadata": {},
     "output_type": "execute_result"
    }
   ],
   "source": [
    "scrap = df[['Hotel_Name','City']].groupby(['Hotel_Name','City']).count().reset_index()\n",
    "scrap = scrap.apply(lambda x: ('Hotel ' + x[0] + ' ' + x[1]), axis=1)\n",
    "scrap"
   ]
  },
  {
   "cell_type": "markdown",
   "metadata": {},
   "source": [
    "This is the adress i will use in Google. The idea is that i will pick the first adress coming from booking.com as the final address of the hotel in the sistem. Once i will gather all of the addresses i will try to scrap the prices in each one of them"
   ]
  },
  {
   "cell_type": "code",
   "execution_count": 50,
   "metadata": {},
   "outputs": [],
   "source": [
    "google = ['https://www.google.com/search?sxsrf=&q=booking.com'+i.replace(\" \", \"+\") for i in scrap]"
   ]
  },
  {
   "cell_type": "markdown",
   "metadata": {},
   "source": [
    "Once i've got all the addresses of a Google search i start scrapping the addresses in Booking"
   ]
  },
  {
   "cell_type": "markdown",
   "metadata": {},
   "source": [
    "#### Scrapping of Booking addresses"
   ]
  },
  {
   "cell_type": "code",
   "execution_count": 88,
   "metadata": {},
   "outputs": [],
   "source": [
    "import requests\n",
    "from bs4 import BeautifulSoup"
   ]
  },
  {
   "cell_type": "code",
   "execution_count": 91,
   "metadata": {},
   "outputs": [
    {
     "name": "stdout",
     "output_type": "stream",
     "text": [
      "0 https://www.booking.com/hotel/gb/number-eleven.es.html\n",
      "1 https://www.booking.com/hotel/fr/1-k-hotel.es.html\n",
      "2 https://www.booking.com/hotel/at/25hours-wien.es.html\n",
      "3 https://www.booking.com/hotel/gb/41clubredcarnations.es.html\n",
      "4 https://www.booking.com/hotel/gb/parklane.en-gb.html\n"
     ]
    }
   ],
   "source": [
    "bookingadress = []\n",
    "for i, hotel in enumerate(google[:5]):\n",
    "    URL = hotel\n",
    "    page = requests.get(URL)\n",
    "    soup = BeautifulSoup(page.content, 'html.parser')\n",
    "    bkng = []\n",
    "    for page in soup.find_all('a', href=True):\n",
    "        if page['href'][:37] == '/url?q=https://www.booking.com/hotel/':\n",
    "            bkng.append(page['href'][7:].split('&', 1)[0])\n",
    "    bookingadress.append(bkng[0])\n",
    "    print(i,bkng[0])"
   ]
  },
  {
   "cell_type": "code",
   "execution_count": 87,
   "metadata": {},
   "outputs": [
    {
     "data": {
      "text/plain": [
       "['https://www.booking.com/hotel/gb/number-eleven.es.html',\n",
       " 'https://www.booking.com/hotel/fr/1-k-hotel.es.html',\n",
       " 'https://www.booking.com/hotel/at/25hours-wien.es.html',\n",
       " 'https://www.booking.com/hotel/gb/41clubredcarnations.es.html',\n",
       " 'https://www.booking.com/hotel/gb/parklane.en-gb.html']"
      ]
     },
     "execution_count": 87,
     "metadata": {},
     "output_type": "execute_result"
    }
   ],
   "source": [
    "bookingadress"
   ]
  },
  {
   "cell_type": "markdown",
   "metadata": {},
   "source": [
    "#### Scrapping of Booking prices"
   ]
  },
  {
   "cell_type": "code",
   "execution_count": 224,
   "metadata": {},
   "outputs": [
    {
     "name": "stdout",
     "output_type": "stream",
     "text": [
      "https://www.booking.com/hotel/gb/parklane.en-gb.html\n"
     ]
    }
   ],
   "source": [
    "head = {\"User-Agent\":\"Mozilla/5.0 (X11; Linux x86_64) AppleWebKit/537.36 (KHTML, like Gecko) Chrome/50.0.2661.75 Safari/537.36\"}\n",
    "URL = bookingadress[4]\n",
    "page = requests.get(URL, headers=head)\n",
    "soup = BeautifulSoup(page.content, 'html.parser')\n",
    "print(bookingadress[4])"
   ]
  },
  {
   "cell_type": "code",
   "execution_count": null,
   "metadata": {},
   "outputs": [],
   "source": []
  },
  {
   "cell_type": "code",
   "execution_count": 225,
   "metadata": {},
   "outputs": [],
   "source": [
    "a = soup.find_all(\"script\",type=\"application/ld+json\")"
   ]
  },
  {
   "cell_type": "code",
   "execution_count": 228,
   "metadata": {},
   "outputs": [
    {
     "data": {
      "text/plain": [
       "bs4.element.ResultSet"
      ]
     },
     "execution_count": 228,
     "metadata": {},
     "output_type": "execute_result"
    }
   ],
   "source": [
    "type(a)"
   ]
  },
  {
   "cell_type": "code",
   "execution_count": 229,
   "metadata": {},
   "outputs": [
    {
     "data": {
      "text/plain": [
       "[<script type=\"application/ld+json\">\n",
       " {\n",
       "    \"@context\" : \"http://schema.org\",\n",
       "    \"aggregateRating\" : {\n",
       "       \"ratingValue\" : 9.5,\n",
       "       \"@type\" : \"AggregateRating\",\n",
       "       \"bestRating\" : 10,\n",
       "       \"reviewCount\" : 73\n",
       "    },\n",
       "    \"hasMap\" : \"https://maps.googleapis.com/maps/api/staticmap?sensor=false&markers=color:blue%7c51.5064962,-0.1518117&size=1600x1200&zoom=15&center=51.5064962,-0.1518117&client=gme-booking&channel=booking-frontend&signature=0ixSmPJy5uchMlxhGVu7d1ZSCBk=\",\n",
       "    \"@type\" : \"Hotel\",\n",
       "    \"description\" : \"Overlooking Hyde Park, 45 Park Lane features an on-site fitness studio and a modern American steak restaurant.\",\n",
       "    \"image\" : \"https://r-cf.bstatic.com/images/hotel/max500/830/8304314.jpg\",\n",
       "    \"priceRange\" : \"Prices for upcoming dates start at € 821 per night (We Price Match)\",\n",
       "    \"name\" : \"45 Park Lane - Dorchester Collection\",\n",
       "    \"url\" : \"https://www.booking.com/hotel/gb/parklane.en-gb.html\",\n",
       "    \"address\" : {\n",
       "       \"streetAddress\" : \"45 Park Lane, Westminster Borough, London, W1K 1PN, United Kingdom\",\n",
       "       \"addressCountry\" : \"UK\",\n",
       "       \"addressRegion\" : \"Greater London\",\n",
       "       \"postalCode\" : \"W1K 1PN\",\n",
       "       \"@type\" : \"PostalAddress\",\n",
       "       \"addressLocality\" : \"45 Park Lane\"\n",
       "    }\n",
       " }\n",
       " </script>]"
      ]
     },
     "execution_count": 229,
     "metadata": {},
     "output_type": "execute_result"
    }
   ],
   "source": [
    "a"
   ]
  },
  {
   "cell_type": "code",
   "execution_count": null,
   "metadata": {},
   "outputs": [],
   "source": []
  },
  {
   "cell_type": "code",
   "execution_count": null,
   "metadata": {},
   "outputs": [],
   "source": []
  },
  {
   "cell_type": "code",
   "execution_count": null,
   "metadata": {},
   "outputs": [],
   "source": []
  },
  {
   "cell_type": "code",
   "execution_count": null,
   "metadata": {},
   "outputs": [],
   "source": []
  }
 ],
 "metadata": {
  "kernelspec": {
   "display_name": "Python 3",
   "language": "python",
   "name": "python3"
  },
  "language_info": {
   "codemirror_mode": {
    "name": "ipython",
    "version": 3
   },
   "file_extension": ".py",
   "mimetype": "text/x-python",
   "name": "python",
   "nbconvert_exporter": "python",
   "pygments_lexer": "ipython3",
   "version": "3.7.4"
  },
  "toc": {
   "base_numbering": 1,
   "nav_menu": {},
   "number_sections": true,
   "sideBar": true,
   "skip_h1_title": false,
   "title_cell": "Table of Contents",
   "title_sidebar": "Contents",
   "toc_cell": false,
   "toc_position": {},
   "toc_section_display": true,
   "toc_window_display": false
  }
 },
 "nbformat": 4,
 "nbformat_minor": 2
}
