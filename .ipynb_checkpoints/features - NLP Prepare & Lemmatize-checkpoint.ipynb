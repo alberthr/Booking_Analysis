{
 "cells": [
  {
   "cell_type": "markdown",
   "metadata": {},
   "source": [
    "#### Import Libraries"
   ]
  },
  {
   "cell_type": "code",
   "execution_count": 1,
   "metadata": {},
   "outputs": [
    {
     "name": "stderr",
     "output_type": "stream",
     "text": [
      "[nltk_data] Downloading package stopwords to\n",
      "[nltk_data]     C:\\Users\\Albert\\AppData\\Roaming\\nltk_data...\n",
      "[nltk_data]   Package stopwords is already up-to-date!\n"
     ]
    },
    {
     "data": {
      "text/plain": [
       "True"
      ]
     },
     "execution_count": 1,
     "metadata": {},
     "output_type": "execute_result"
    }
   ],
   "source": [
    "import nltk\n",
    "nltk.download('stopwords')"
   ]
  },
  {
   "cell_type": "code",
   "execution_count": 2,
   "metadata": {},
   "outputs": [],
   "source": [
    "import re\n",
    "import numpy as np\n",
    "import pandas as pd\n",
    "from pprint import pprint"
   ]
  },
  {
   "cell_type": "code",
   "execution_count": 3,
   "metadata": {},
   "outputs": [],
   "source": [
    "import gensim\n",
    "from gensim.utils import simple_preprocess"
   ]
  },
  {
   "cell_type": "code",
   "execution_count": 4,
   "metadata": {},
   "outputs": [],
   "source": [
    "import spacy"
   ]
  },
  {
   "cell_type": "markdown",
   "metadata": {},
   "source": [
    "#### Prepare Stopwords"
   ]
  },
  {
   "cell_type": "code",
   "execution_count": 5,
   "metadata": {},
   "outputs": [],
   "source": [
    "from nltk.corpus import stopwords\n",
    "stop_words = stopwords.words('english')\n",
    "#stop_words.extend(['another_word'])"
   ]
  },
  {
   "cell_type": "markdown",
   "metadata": {},
   "source": [
    "#### Import Data"
   ]
  },
  {
   "cell_type": "code",
   "execution_count": 6,
   "metadata": {},
   "outputs": [],
   "source": [
    "df = pd.read_csv(\"./data/515k-hotel-reviews-data-in-europe.zip\")"
   ]
  },
  {
   "cell_type": "code",
   "execution_count": 7,
   "metadata": {},
   "outputs": [
    {
     "data": {
      "text/plain": [
       "Index(['Hotel_Address', 'Additional_Number_of_Scoring', 'Review_Date',\n",
       "       'Average_Score', 'Hotel_Name', 'Reviewer_Nationality',\n",
       "       'Negative_Review', 'Review_Total_Negative_Word_Counts',\n",
       "       'Total_Number_of_Reviews', 'Positive_Review',\n",
       "       'Review_Total_Positive_Word_Counts',\n",
       "       'Total_Number_of_Reviews_Reviewer_Has_Given', 'Reviewer_Score',\n",
       "       'days_since_review', 'lat', 'lng', 'Diff', 'Review_Month',\n",
       "       'Review_Year', 'Country', 'City', 'Pet', 'Purpose', 'Whom', 'Room',\n",
       "       'Length', 'Device', 'Room_Recode', 'Nationality_Recode',\n",
       "       'Length_Recode', 'Length_N', 'Close_Landmarks', 'Dist_Center',\n",
       "       'Dist_Airport', 'Dist_Train', 'Price', 'Stars'],\n",
       "      dtype='object')"
      ]
     },
     "execution_count": 7,
     "metadata": {},
     "output_type": "execute_result"
    }
   ],
   "source": [
    "df.columns"
   ]
  },
  {
   "cell_type": "markdown",
   "metadata": {},
   "source": [
    "## Negative Reviews"
   ]
  },
  {
   "cell_type": "code",
   "execution_count": 8,
   "metadata": {},
   "outputs": [
    {
     "data": {
      "text/plain": [
       "[' I am so angry that i made this post available via all possible sites i use when planing my trips so no one will make the mistake of booking this place I made my booking via booking com We stayed for 6 nights in this hotel from 11 to 17 July Upon arrival we were placed in a small room on the 2nd floor of the hotel It turned out that this was not the room we booked I had specially reserved the 2 level duplex room so that we would have a big windows and high ceilings The room itself was ok if you don t mind the broken window that can not be closed hello rain and a mini fridge that contained some sort of a bio weapon at least i guessed so by the smell of it I intimately asked to change the room and after explaining 2 times that i booked a duplex btw it costs the same as a simple double but got way more volume due to the high ceiling was offered a room but only the next day SO i had to check out the next day before 11 o clock in order to get the room i waned to Not the best way to begin your holiday So we had to wait till 13 00 in order to check in my new room what a wonderful waist of my time The room 023 i got was just as i wanted to peaceful internal garden view big window We were tired from waiting the room so we placed our belongings and rushed to the city In the evening it turned out that there was a constant noise in the room i guess it was made by vibrating vent tubes or something it was constant and annoying as hell AND it did not stop even at 2 am making it hard to fall asleep for me and my wife I have an audio recording that i can not attach here but if you want i can send it via e mail The next day the technician came but was not able to determine the cause of the disturbing sound so i was offered to change the room once again the hotel was fully booked and they had only 1 room left the one that was smaller but seems newer ',\n",
       " 'No Negative',\n",
       " ' Rooms are nice but for elderly a bit difficult as most rooms are two story with narrow steps So ask for single level Inside the rooms are very very basic just tea coffee and boiler and no bar empty fridge ']"
      ]
     },
     "execution_count": 8,
     "metadata": {},
     "output_type": "execute_result"
    }
   ],
   "source": [
    "# Convert to list\n",
    "data = df['Negative_Review'].values.tolist()\n",
    "data[:3]"
   ]
  },
  {
   "cell_type": "markdown",
   "metadata": {},
   "source": [
    "#### Remove emails, new lines and distracting characters"
   ]
  },
  {
   "cell_type": "code",
   "execution_count": 9,
   "metadata": {},
   "outputs": [
    {
     "data": {
      "text/plain": [
       "[' I am so angry that i made this post available via all possible sites i use when planing my trips so no one will make the mistake of booking this place I made my booking via booking com We stayed for 6 nights in this hotel from 11 to 17 July Upon arrival we were placed in a small room on the 2nd floor of the hotel It turned out that this was not the room we booked I had specially reserved the 2 level duplex room so that we would have a big windows and high ceilings The room itself was ok if you don t mind the broken window that can not be closed hello rain and a mini fridge that contained some sort of a bio weapon at least i guessed so by the smell of it I intimately asked to change the room and after explaining 2 times that i booked a duplex btw it costs the same as a simple double but got way more volume due to the high ceiling was offered a room but only the next day SO i had to check out the next day before 11 o clock in order to get the room i waned to Not the best way to begin your holiday So we had to wait till 13 00 in order to check in my new room what a wonderful waist of my time The room 023 i got was just as i wanted to peaceful internal garden view big window We were tired from waiting the room so we placed our belongings and rushed to the city In the evening it turned out that there was a constant noise in the room i guess it was made by vibrating vent tubes or something it was constant and annoying as hell AND it did not stop even at 2 am making it hard to fall asleep for me and my wife I have an audio recording that i can not attach here but if you want i can send it via e mail The next day the technician came but was not able to determine the cause of the disturbing sound so i was offered to change the room once again the hotel was fully booked and they had only 1 room left the one that was smaller but seems newer ',\n",
       " 'No Negative',\n",
       " ' Rooms are nice but for elderly a bit difficult as most rooms are two story with narrow steps So ask for single level Inside the rooms are very very basic just tea coffee and boiler and no bar empty fridge ']"
      ]
     },
     "execution_count": 9,
     "metadata": {},
     "output_type": "execute_result"
    }
   ],
   "source": [
    "# Remove Emails\n",
    "data = [re.sub('\\S*@\\S*\\s?', '', sent) for sent in data]\n",
    "\n",
    "# Remove new line characters\n",
    "data = [re.sub('\\s+', ' ', sent) for sent in data]\n",
    "\n",
    "# Remove distracting single quotes\n",
    "data = [re.sub(\"\\'\", \"\", sent) for sent in data]\n",
    "data[:3]"
   ]
  },
  {
   "cell_type": "markdown",
   "metadata": {},
   "source": [
    "#### Tokenize words and Clean-up text"
   ]
  },
  {
   "cell_type": "code",
   "execution_count": 10,
   "metadata": {},
   "outputs": [
    {
     "name": "stdout",
     "output_type": "stream",
     "text": [
      "[['am', 'so', 'angry', 'that', 'made', 'this', 'post', 'available', 'via', 'all', 'possible', 'sites', 'use', 'when', 'planing', 'my', 'trips', 'so', 'no', 'one', 'will', 'make', 'the', 'mistake', 'of', 'booking', 'this', 'place', 'made', 'my', 'booking', 'via', 'booking', 'com', 'we', 'stayed', 'for', 'nights', 'in', 'this', 'hotel', 'from', 'to', 'july', 'upon', 'arrival', 'we', 'were', 'placed', 'in', 'small', 'room', 'on', 'the', 'nd', 'floor', 'of', 'the', 'hotel', 'it', 'turned', 'out', 'that', 'this', 'was', 'not', 'the', 'room', 'we', 'booked', 'had', 'specially', 'reserved', 'the', 'level', 'duplex', 'room', 'so', 'that', 'we', 'would', 'have', 'big', 'windows', 'and', 'high', 'ceilings', 'the', 'room', 'itself', 'was', 'ok', 'if', 'you', 'don', 'mind', 'the', 'broken', 'window', 'that', 'can', 'not', 'be', 'closed', 'hello', 'rain', 'and', 'mini', 'fridge', 'that', 'contained', 'some', 'sort', 'of', 'bio', 'weapon', 'at', 'least', 'guessed', 'so', 'by', 'the', 'smell', 'of', 'it', 'intimately', 'asked', 'to', 'change', 'the', 'room', 'and', 'after', 'explaining', 'times', 'that', 'booked', 'duplex', 'btw', 'it', 'costs', 'the', 'same', 'as', 'simple', 'double', 'but', 'got', 'way', 'more', 'volume', 'due', 'to', 'the', 'high', 'ceiling', 'was', 'offered', 'room', 'but', 'only', 'the', 'next', 'day', 'so', 'had', 'to', 'check', 'out', 'the', 'next', 'day', 'before', 'clock', 'in', 'order', 'to', 'get', 'the', 'room', 'waned', 'to', 'not', 'the', 'best', 'way', 'to', 'begin', 'your', 'holiday', 'so', 'we', 'had', 'to', 'wait', 'till', 'in', 'order', 'to', 'check', 'in', 'my', 'new', 'room', 'what', 'wonderful', 'waist', 'of', 'my', 'time', 'the', 'room', 'got', 'was', 'just', 'as', 'wanted', 'to', 'peaceful', 'internal', 'garden', 'view', 'big', 'window', 'we', 'were', 'tired', 'from', 'waiting', 'the', 'room', 'so', 'we', 'placed', 'our', 'belongings', 'and', 'rushed', 'to', 'the', 'city', 'in', 'the', 'evening', 'it', 'turned', 'out', 'that', 'there', 'was', 'constant', 'noise', 'in', 'the', 'room', 'guess', 'it', 'was', 'made', 'by', 'vibrating', 'vent', 'tubes', 'or', 'something', 'it', 'was', 'constant', 'and', 'annoying', 'as', 'hell', 'and', 'it', 'did', 'not', 'stop', 'even', 'at', 'am', 'making', 'it', 'hard', 'to', 'fall', 'asleep', 'for', 'me', 'and', 'my', 'wife', 'have', 'an', 'audio', 'recording', 'that', 'can', 'not', 'attach', 'here', 'but', 'if', 'you', 'want', 'can', 'send', 'it', 'via', 'mail', 'the', 'next', 'day', 'the', 'technician', 'came', 'but', 'was', 'not', 'able', 'to', 'determine', 'the', 'cause', 'of', 'the', 'disturbing', 'sound', 'so', 'was', 'offered', 'to', 'change', 'the', 'room', 'once', 'again', 'the', 'hotel', 'was', 'fully', 'booked', 'and', 'they', 'had', 'only', 'room', 'left', 'the', 'one', 'that', 'was', 'smaller', 'but', 'seems', 'newer'], ['no', 'negative'], ['rooms', 'are', 'nice', 'but', 'for', 'elderly', 'bit', 'difficult', 'as', 'most', 'rooms', 'are', 'two', 'story', 'with', 'narrow', 'steps', 'so', 'ask', 'for', 'single', 'level', 'inside', 'the', 'rooms', 'are', 'very', 'very', 'basic', 'just', 'tea', 'coffee', 'and', 'boiler', 'and', 'no', 'bar', 'empty', 'fridge']]\n"
     ]
    }
   ],
   "source": [
    "def sent_to_words(sentences):\n",
    "    for sentence in sentences:\n",
    "        yield(gensim.utils.simple_preprocess(str(sentence), deacc=True))  # deacc=True removes punctuations\n",
    "\n",
    "data_words = list(sent_to_words(data))\n",
    "\n",
    "print(data_words[:3])"
   ]
  },
  {
   "cell_type": "markdown",
   "metadata": {},
   "source": [
    "#### Remove Stopwords and Lemmatize"
   ]
  },
  {
   "cell_type": "code",
   "execution_count": 11,
   "metadata": {},
   "outputs": [],
   "source": [
    "def remove_stopwords(texts):\n",
    "    return [[word for word in simple_preprocess(str(doc)) if word not in stop_words] for doc in texts]\n",
    "\n",
    "def lemmatization(texts, allowed_postags=['NOUN', 'ADJ', 'VERB', 'ADV']):\n",
    "    \"\"\"https://spacy.io/api/annotation\"\"\"\n",
    "    texts_out = []\n",
    "    for sent in texts:\n",
    "        doc = nlp(\" \".join(sent)) \n",
    "        texts_out.append([token.lemma_ for token in doc if token.pos_ in allowed_postags])\n",
    "    return texts_out"
   ]
  },
  {
   "cell_type": "code",
   "execution_count": 12,
   "metadata": {
    "collapsed": true
   },
   "outputs": [
    {
     "data": {
      "text/plain": [
       "[['angry',\n",
       "  'make',\n",
       "  'post',\n",
       "  'available',\n",
       "  'possible',\n",
       "  'site',\n",
       "  'use',\n",
       "  'plan',\n",
       "  'trip',\n",
       "  'make',\n",
       "  'mistake',\n",
       "  'book',\n",
       "  'place',\n",
       "  'make',\n",
       "  'booking',\n",
       "  'book',\n",
       "  'com',\n",
       "  'stay',\n",
       "  'night',\n",
       "  'hotel',\n",
       "  'arrival',\n",
       "  'place',\n",
       "  'small',\n",
       "  'room',\n",
       "  'floor',\n",
       "  'hotel',\n",
       "  'turn',\n",
       "  'room',\n",
       "  'book',\n",
       "  'reserve',\n",
       "  'level',\n",
       "  'duplex',\n",
       "  'room',\n",
       "  'would',\n",
       "  'big',\n",
       "  'window',\n",
       "  'high',\n",
       "  'ceiling',\n",
       "  'room',\n",
       "  'mind',\n",
       "  'break',\n",
       "  'window',\n",
       "  'close',\n",
       "  'hello',\n",
       "  'rain',\n",
       "  'mini',\n",
       "  'fridge',\n",
       "  'contain',\n",
       "  'bio',\n",
       "  'weapon',\n",
       "  'least',\n",
       "  'guess',\n",
       "  'smell',\n",
       "  'ask',\n",
       "  'change',\n",
       "  'room',\n",
       "  'explain',\n",
       "  'time',\n",
       "  'book',\n",
       "  'duplex',\n",
       "  'cost',\n",
       "  'simple',\n",
       "  'double',\n",
       "  'get',\n",
       "  'way',\n",
       "  'volume',\n",
       "  'due',\n",
       "  'high',\n",
       "  'ceiling',\n",
       "  'offer',\n",
       "  'room',\n",
       "  'next',\n",
       "  'day',\n",
       "  'check',\n",
       "  'next',\n",
       "  'day',\n",
       "  'clock',\n",
       "  'order',\n",
       "  'get',\n",
       "  'room',\n",
       "  'wan',\n",
       "  'good',\n",
       "  'way',\n",
       "  'begin',\n",
       "  'holiday',\n",
       "  'wait',\n",
       "  'order',\n",
       "  'check',\n",
       "  'new',\n",
       "  'room',\n",
       "  'wonderful',\n",
       "  'waist',\n",
       "  'time',\n",
       "  'room',\n",
       "  'get',\n",
       "  'want',\n",
       "  'peaceful',\n",
       "  'internal',\n",
       "  'garden',\n",
       "  'view',\n",
       "  'big',\n",
       "  'window',\n",
       "  'tired',\n",
       "  'waiting',\n",
       "  'room',\n",
       "  'place',\n",
       "  'belonging',\n",
       "  'rush',\n",
       "  'city',\n",
       "  'evening',\n",
       "  'turn',\n",
       "  'constant',\n",
       "  'noise',\n",
       "  'room',\n",
       "  'guess',\n",
       "  'make',\n",
       "  'vibrate',\n",
       "  'vent',\n",
       "  'tube',\n",
       "  'something',\n",
       "  'constant',\n",
       "  'annoying',\n",
       "  'hell',\n",
       "  'stop',\n",
       "  'make',\n",
       "  'hard',\n",
       "  'fall',\n",
       "  'asleep',\n",
       "  'wife',\n",
       "  'audio',\n",
       "  'recording',\n",
       "  'attach',\n",
       "  'want',\n",
       "  'send',\n",
       "  'mail',\n",
       "  'next',\n",
       "  'day',\n",
       "  'technician',\n",
       "  'come',\n",
       "  'able',\n",
       "  'determine',\n",
       "  'because',\n",
       "  'disturb',\n",
       "  'sound',\n",
       "  'offer',\n",
       "  'change',\n",
       "  'room',\n",
       "  'hotel',\n",
       "  'book',\n",
       "  'room',\n",
       "  'leave',\n",
       "  'small',\n",
       "  'seem',\n",
       "  'new'],\n",
       " ['negative'],\n",
       " ['room',\n",
       "  'nice',\n",
       "  'elderly',\n",
       "  'bit',\n",
       "  'difficult',\n",
       "  'room',\n",
       "  'story',\n",
       "  'narrow',\n",
       "  'step',\n",
       "  'ask',\n",
       "  'single',\n",
       "  'level',\n",
       "  'room',\n",
       "  'basic',\n",
       "  'tea',\n",
       "  'coffee',\n",
       "  'boiler',\n",
       "  'bar',\n",
       "  'empty',\n",
       "  'fridge'],\n",
       " ['room',\n",
       "  'dirty',\n",
       "  'afraid',\n",
       "  'walk',\n",
       "  'barefoot',\n",
       "  'floor',\n",
       "  'look',\n",
       "  'clean',\n",
       "  'week',\n",
       "  'white',\n",
       "  'furniture',\n",
       "  'look',\n",
       "  'nice',\n",
       "  'picture',\n",
       "  'dirty',\n",
       "  'door',\n",
       "  'look',\n",
       "  'attack',\n",
       "  'angry',\n",
       "  'dog',\n",
       "  'shower',\n",
       "  'drain',\n",
       "  'clog',\n",
       "  'staff',\n",
       "  'respond',\n",
       "  'request',\n",
       "  'clean',\n",
       "  'day',\n",
       "  'heavy',\n",
       "  'rainfall',\n",
       "  'common',\n",
       "  'occurrence',\n",
       "  'amsterdam',\n",
       "  'roof',\n",
       "  'room',\n",
       "  'leak',\n",
       "  'bed',\n",
       "  'could',\n",
       "  'see',\n",
       "  'sign',\n",
       "  'early',\n",
       "  'water',\n",
       "  'damage',\n",
       "  'see',\n",
       "  'insect',\n",
       "  'run',\n",
       "  'floor',\n",
       "  'overall',\n",
       "  'second',\n",
       "  'floor',\n",
       "  'property',\n",
       "  'look',\n",
       "  'dirty',\n",
       "  'keep',\n",
       "  'top',\n",
       "  'repairman',\n",
       "  'come',\n",
       "  'fix',\n",
       "  'something',\n",
       "  'room',\n",
       "  'next',\n",
       "  'door',\n",
       "  'midnight',\n",
       "  'noisy',\n",
       "  'many',\n",
       "  'guest',\n",
       "  'understand',\n",
       "  'challenge',\n",
       "  'run',\n",
       "  'hotel',\n",
       "  'old',\n",
       "  'building',\n",
       "  'negligence',\n",
       "  'inconsistent',\n",
       "  'price',\n",
       "  'demand',\n",
       "  'hotel',\n",
       "  'last',\n",
       "  'night',\n",
       "  'complain',\n",
       "  'water',\n",
       "  'damage',\n",
       "  'night',\n",
       "  'shift',\n",
       "  'manager',\n",
       "  'offer',\n",
       "  'move',\n",
       "  'different',\n",
       "  'room',\n",
       "  'offer',\n",
       "  'come',\n",
       "  'midnight',\n",
       "  'bed',\n",
       "  'ready',\n",
       "  'sleep'],\n",
       " ['book',\n",
       "  'company',\n",
       "  'line',\n",
       "  'show',\n",
       "  'picture',\n",
       "  'room',\n",
       "  'think',\n",
       "  'get',\n",
       "  'pay',\n",
       "  'arrive',\n",
       "  'room',\n",
       "  'book',\n",
       "  'staff',\n",
       "  'tell',\n",
       "  'could',\n",
       "  'book',\n",
       "  'villa',\n",
       "  'suite',\n",
       "  'theough',\n",
       "  'false',\n",
       "  'advertising',\n",
       "  'realise',\n",
       "  'grouped',\n",
       "  'lot',\n",
       "  'room',\n",
       "  'photo',\n",
       "  'leave',\n",
       "  'consumer',\n",
       "  'confuse',\n",
       "  'disgruntle',\n",
       "  'wife',\n",
       "  'birthday',\n",
       "  'present',\n",
       "  'make',\n",
       "  'website',\n",
       "  'clear',\n",
       "  'pricing',\n",
       "  'photo',\n",
       "  'know',\n",
       "  'pay',\n",
       "  'wnded',\n",
       "  'photo',\n",
       "  'tell',\n",
       "  'get',\n",
       "  'something',\n",
       "  'happy',\n",
       "  'use']]"
      ]
     },
     "execution_count": 12,
     "metadata": {},
     "output_type": "execute_result"
    }
   ],
   "source": [
    "# Remove Stop Words\n",
    "data_words_nostops = remove_stopwords(data_words)\n",
    "\n",
    "# Initialize spacy 'en' model, keeping only tagger component (for efficiency)\n",
    "# python3 -m spacy download en\n",
    "nlp = spacy.load('en', disable=['parser', 'ner'])\n",
    "\n",
    "# Do lemmatization keeping only noun, adj, vb, adv\n",
    "data_lemmatized = lemmatization(data_words_nostops, allowed_postags=['NOUN', 'VERB', 'ADJ'])\n",
    "\n",
    "data_lemmatized[:5]"
   ]
  },
  {
   "cell_type": "markdown",
   "metadata": {},
   "source": [
    "#### Word Ranking"
   ]
  },
  {
   "cell_type": "code",
   "execution_count": 13,
   "metadata": {},
   "outputs": [],
   "source": [
    "words = [item for sublist in data_lemmatized for item in sublist]"
   ]
  },
  {
   "cell_type": "code",
   "execution_count": 14,
   "metadata": {},
   "outputs": [],
   "source": [
    "from collections import Counter\n",
    "count_dict = Counter(words)"
   ]
  },
  {
   "cell_type": "code",
   "execution_count": 15,
   "metadata": {},
   "outputs": [
    {
     "data": {
      "text/plain": [
       "41201"
      ]
     },
     "execution_count": 15,
     "metadata": {},
     "output_type": "execute_result"
    }
   ],
   "source": [
    "len(count_dict)"
   ]
  },
  {
   "cell_type": "code",
   "execution_count": 16,
   "metadata": {},
   "outputs": [
    {
     "data": {
      "text/plain": [
       "Index(['room', 'negative', 'hotel', 'breakfast', 'small', 'staff', 'nothing',\n",
       "       'bed', 'get', 'would', 'could', 'good', 'night', 'bathroom', 'stay',\n",
       "       'bit', 'time', 'work', 'shower', 'little', 'check', 'service', 'day',\n",
       "       'bar', 'need', 'price', 'make', 'pay', 'go', 'book', 'ask', 'reception',\n",
       "       'floor', 'poor', 'clean', 'expensive', 'door', 'window', 'take', 'use',\n",
       "       'water', 'noisy', 'air', 'coffee', 'give', 'wifi', 'bad', 'noise',\n",
       "       'restaurant', 'area'],\n",
       "      dtype='object')"
      ]
     },
     "execution_count": 16,
     "metadata": {},
     "output_type": "execute_result"
    }
   ],
   "source": [
    "pd.DataFrame.from_dict(count_dict, orient='index').sort_values(by=0, ascending=False).head(50).index"
   ]
  },
  {
   "cell_type": "code",
   "execution_count": 17,
   "metadata": {},
   "outputs": [],
   "source": [
    "df['Negative_Lemma'] = data_lemmatized"
   ]
  },
  {
   "cell_type": "markdown",
   "metadata": {},
   "source": [
    "## Positive Reviews"
   ]
  },
  {
   "cell_type": "code",
   "execution_count": 18,
   "metadata": {},
   "outputs": [
    {
     "data": {
      "text/plain": [
       "[' Only the park outside of the hotel was beautiful ',\n",
       " ' No real complaints the hotel was great great location surroundings rooms amenities and service Two recommendations however firstly the staff upon check in are very confusing regarding deposit payments and the staff offer you upon checkout to refund your original payment and you can make a new one Bit confusing Secondly the on site restaurant is a bit lacking very well thought out and excellent quality food for anyone of a vegetarian or vegan background but even a wrap or toasted sandwich option would be great Aside from those minor minor things fantastic spot and will be back when i return to Amsterdam ',\n",
       " ' Location was good and staff were ok It is cute hotel the breakfast range is nice Will go back ']"
      ]
     },
     "execution_count": 18,
     "metadata": {},
     "output_type": "execute_result"
    }
   ],
   "source": [
    "# Convert to list\n",
    "data = df['Positive_Review'].values.tolist()\n",
    "data[:3]"
   ]
  },
  {
   "cell_type": "markdown",
   "metadata": {},
   "source": [
    "#### Remove emails, new lines and distracting characters"
   ]
  },
  {
   "cell_type": "code",
   "execution_count": 19,
   "metadata": {},
   "outputs": [
    {
     "data": {
      "text/plain": [
       "[' Only the park outside of the hotel was beautiful ',\n",
       " ' No real complaints the hotel was great great location surroundings rooms amenities and service Two recommendations however firstly the staff upon check in are very confusing regarding deposit payments and the staff offer you upon checkout to refund your original payment and you can make a new one Bit confusing Secondly the on site restaurant is a bit lacking very well thought out and excellent quality food for anyone of a vegetarian or vegan background but even a wrap or toasted sandwich option would be great Aside from those minor minor things fantastic spot and will be back when i return to Amsterdam ',\n",
       " ' Location was good and staff were ok It is cute hotel the breakfast range is nice Will go back ']"
      ]
     },
     "execution_count": 19,
     "metadata": {},
     "output_type": "execute_result"
    }
   ],
   "source": [
    "# Remove Emails\n",
    "data = [re.sub('\\S*@\\S*\\s?', '', sent) for sent in data]\n",
    "\n",
    "# Remove new line characters\n",
    "data = [re.sub('\\s+', ' ', sent) for sent in data]\n",
    "\n",
    "# Remove distracting single quotes\n",
    "data = [re.sub(\"\\'\", \"\", sent) for sent in data]\n",
    "data[:3]"
   ]
  },
  {
   "cell_type": "markdown",
   "metadata": {},
   "source": [
    "#### Tokenize words and Clean-up text"
   ]
  },
  {
   "cell_type": "code",
   "execution_count": 20,
   "metadata": {},
   "outputs": [
    {
     "name": "stdout",
     "output_type": "stream",
     "text": [
      "[['only', 'the', 'park', 'outside', 'of', 'the', 'hotel', 'was', 'beautiful'], ['no', 'real', 'complaints', 'the', 'hotel', 'was', 'great', 'great', 'location', 'surroundings', 'rooms', 'amenities', 'and', 'service', 'two', 'recommendations', 'however', 'firstly', 'the', 'staff', 'upon', 'check', 'in', 'are', 'very', 'confusing', 'regarding', 'deposit', 'payments', 'and', 'the', 'staff', 'offer', 'you', 'upon', 'checkout', 'to', 'refund', 'your', 'original', 'payment', 'and', 'you', 'can', 'make', 'new', 'one', 'bit', 'confusing', 'secondly', 'the', 'on', 'site', 'restaurant', 'is', 'bit', 'lacking', 'very', 'well', 'thought', 'out', 'and', 'excellent', 'quality', 'food', 'for', 'anyone', 'of', 'vegetarian', 'or', 'vegan', 'background', 'but', 'even', 'wrap', 'or', 'toasted', 'sandwich', 'option', 'would', 'be', 'great', 'aside', 'from', 'those', 'minor', 'minor', 'things', 'fantastic', 'spot', 'and', 'will', 'be', 'back', 'when', 'return', 'to', 'amsterdam'], ['location', 'was', 'good', 'and', 'staff', 'were', 'ok', 'it', 'is', 'cute', 'hotel', 'the', 'breakfast', 'range', 'is', 'nice', 'will', 'go', 'back']]\n"
     ]
    }
   ],
   "source": [
    "def sent_to_words(sentences):\n",
    "    for sentence in sentences:\n",
    "        yield(gensim.utils.simple_preprocess(str(sentence), deacc=True))  # deacc=True removes punctuations\n",
    "\n",
    "data_words = list(sent_to_words(data))\n",
    "\n",
    "print(data_words[:3])"
   ]
  },
  {
   "cell_type": "markdown",
   "metadata": {},
   "source": [
    "#### Remove Stopwords and Lemmatize"
   ]
  },
  {
   "cell_type": "code",
   "execution_count": 21,
   "metadata": {},
   "outputs": [],
   "source": [
    "def remove_stopwords(texts):\n",
    "    return [[word for word in simple_preprocess(str(doc)) if word not in stop_words] for doc in texts]\n",
    "\n",
    "def lemmatization(texts, allowed_postags=['NOUN', 'ADJ', 'VERB', 'ADV']):\n",
    "    \"\"\"https://spacy.io/api/annotation\"\"\"\n",
    "    texts_out = []\n",
    "    for sent in texts:\n",
    "        doc = nlp(\" \".join(sent)) \n",
    "        texts_out.append([token.lemma_ for token in doc if token.pos_ in allowed_postags])\n",
    "    return texts_out"
   ]
  },
  {
   "cell_type": "code",
   "execution_count": 22,
   "metadata": {
    "collapsed": true
   },
   "outputs": [
    {
     "data": {
      "text/plain": [
       "[['park', 'outside', 'hotel', 'beautiful'],\n",
       " ['real',\n",
       "  'complaint',\n",
       "  'hotel',\n",
       "  'great',\n",
       "  'great',\n",
       "  'location',\n",
       "  'surrounding',\n",
       "  'room',\n",
       "  'amenity',\n",
       "  'service',\n",
       "  'recommendation',\n",
       "  'staff',\n",
       "  'check',\n",
       "  'confusing',\n",
       "  'regard',\n",
       "  'deposit',\n",
       "  'payment',\n",
       "  'staff',\n",
       "  'offer',\n",
       "  'checkout',\n",
       "  'refund',\n",
       "  'original',\n",
       "  'payment',\n",
       "  'make',\n",
       "  'new',\n",
       "  'bit',\n",
       "  'confusing',\n",
       "  'site',\n",
       "  'restaurant',\n",
       "  'bit',\n",
       "  'lack',\n",
       "  'think',\n",
       "  'excellent',\n",
       "  'quality',\n",
       "  'food',\n",
       "  'anyone',\n",
       "  'vegetarian',\n",
       "  'vegan',\n",
       "  'background',\n",
       "  'wrap',\n",
       "  'toast',\n",
       "  'sandwich',\n",
       "  'option',\n",
       "  'would',\n",
       "  'great',\n",
       "  'minor',\n",
       "  'minor',\n",
       "  'thing',\n",
       "  'fantastic',\n",
       "  'spot',\n",
       "  'return',\n",
       "  'amsterdam'],\n",
       " ['location',\n",
       "  'good',\n",
       "  'staff',\n",
       "  'cute',\n",
       "  'hotel',\n",
       "  'breakfast',\n",
       "  'range',\n",
       "  'nice',\n",
       "  'go'],\n",
       " ['great',\n",
       "  'location',\n",
       "  'nice',\n",
       "  'surrounding',\n",
       "  'bar',\n",
       "  'restaurant',\n",
       "  'nice',\n",
       "  'lovely',\n",
       "  'outdoor',\n",
       "  'area',\n",
       "  'building',\n",
       "  'character'],\n",
       " ['amazing', 'location', 'build', 'romantic', 'setting']]"
      ]
     },
     "execution_count": 22,
     "metadata": {},
     "output_type": "execute_result"
    }
   ],
   "source": [
    "# Remove Stop Words\n",
    "data_words_nostops = remove_stopwords(data_words)\n",
    "\n",
    "# Initialize spacy 'en' model, keeping only tagger component (for efficiency)\n",
    "# python3 -m spacy download en\n",
    "nlp = spacy.load('en', disable=['parser', 'ner'])\n",
    "\n",
    "# Do lemmatization keeping only noun, adj, vb, adv\n",
    "data_lemmatized = lemmatization(data_words_nostops, allowed_postags=['NOUN', 'VERB', 'ADJ'])\n",
    "\n",
    "data_lemmatized[:5]"
   ]
  },
  {
   "cell_type": "markdown",
   "metadata": {},
   "source": [
    "#### Word Ranking"
   ]
  },
  {
   "cell_type": "code",
   "execution_count": 23,
   "metadata": {},
   "outputs": [],
   "source": [
    "words = [item for sublist in data_lemmatized for item in sublist]"
   ]
  },
  {
   "cell_type": "code",
   "execution_count": 24,
   "metadata": {},
   "outputs": [],
   "source": [
    "from collections import Counter\n",
    "count_dict = Counter(words)"
   ]
  },
  {
   "cell_type": "code",
   "execution_count": 25,
   "metadata": {},
   "outputs": [
    {
     "data": {
      "text/plain": [
       "40180"
      ]
     },
     "execution_count": 25,
     "metadata": {},
     "output_type": "execute_result"
    }
   ],
   "source": [
    "len(count_dict)"
   ]
  },
  {
   "cell_type": "code",
   "execution_count": 26,
   "metadata": {},
   "outputs": [
    {
     "data": {
      "text/plain": [
       "Index(['staff', 'location', 'room', 'hotel', 'good', 'great', 'breakfast',\n",
       "       'friendly', 'helpful', 'nice', 'clean', 'bed', 'excellent',\n",
       "       'comfortable', 'stay', 'positive', 'lovely', 'station', 'close', 'walk',\n",
       "       'service', 'everything', 'restaurant', 'perfect', 'view', 'bar',\n",
       "       'quiet', 'amazing', 'comfy', 'bathroom', 'area', 'would', 'facility',\n",
       "       'get', 'modern', 'love', 'food', 'london', 'metro', 'fantastic',\n",
       "       'reception', 'free', 'make', 'spacious', 'city', 'place', 'easy',\n",
       "       'minute', 'beautiful', 'central'],\n",
       "      dtype='object')"
      ]
     },
     "execution_count": 26,
     "metadata": {},
     "output_type": "execute_result"
    }
   ],
   "source": [
    "pd.DataFrame.from_dict(count_dict, orient='index').sort_values(by=0, ascending=False).head(50).index"
   ]
  },
  {
   "cell_type": "code",
   "execution_count": 27,
   "metadata": {},
   "outputs": [],
   "source": [
    "df['Positive_Lemma'] = data_lemmatized"
   ]
  },
  {
   "cell_type": "markdown",
   "metadata": {},
   "source": [
    "## Save Information"
   ]
  },
  {
   "cell_type": "code",
   "execution_count": 28,
   "metadata": {},
   "outputs": [],
   "source": [
    "df_NLP = df[['Negative_Review','Positive_Review','Negative_Lemma','Positive_Lemma']]"
   ]
  },
  {
   "cell_type": "code",
   "execution_count": 29,
   "metadata": {},
   "outputs": [],
   "source": [
    "df_NLP.to_csv(\"./data/NLP.gz\", index_label=False, compression=\"gzip\")"
   ]
  },
  {
   "cell_type": "code",
   "execution_count": 30,
   "metadata": {},
   "outputs": [
    {
     "data": {
      "text/html": [
       "<div>\n",
       "<style scoped>\n",
       "    .dataframe tbody tr th:only-of-type {\n",
       "        vertical-align: middle;\n",
       "    }\n",
       "\n",
       "    .dataframe tbody tr th {\n",
       "        vertical-align: top;\n",
       "    }\n",
       "\n",
       "    .dataframe thead th {\n",
       "        text-align: right;\n",
       "    }\n",
       "</style>\n",
       "<table border=\"1\" class=\"dataframe\">\n",
       "  <thead>\n",
       "    <tr style=\"text-align: right;\">\n",
       "      <th></th>\n",
       "      <th>Negative_Review</th>\n",
       "      <th>Positive_Review</th>\n",
       "      <th>Negative_Lemma</th>\n",
       "      <th>Positive_Lemma</th>\n",
       "    </tr>\n",
       "  </thead>\n",
       "  <tbody>\n",
       "    <tr>\n",
       "      <th>0</th>\n",
       "      <td>I am so angry that i made this post available...</td>\n",
       "      <td>Only the park outside of the hotel was beauti...</td>\n",
       "      <td>[angry, make, post, available, possible, site,...</td>\n",
       "      <td>[park, outside, hotel, beautiful]</td>\n",
       "    </tr>\n",
       "    <tr>\n",
       "      <th>1</th>\n",
       "      <td>No Negative</td>\n",
       "      <td>No real complaints the hotel was great great ...</td>\n",
       "      <td>[negative]</td>\n",
       "      <td>[real, complaint, hotel, great, great, locatio...</td>\n",
       "    </tr>\n",
       "    <tr>\n",
       "      <th>2</th>\n",
       "      <td>Rooms are nice but for elderly a bit difficul...</td>\n",
       "      <td>Location was good and staff were ok It is cut...</td>\n",
       "      <td>[room, nice, elderly, bit, difficult, room, st...</td>\n",
       "      <td>[location, good, staff, cute, hotel, breakfast...</td>\n",
       "    </tr>\n",
       "    <tr>\n",
       "      <th>3</th>\n",
       "      <td>My room was dirty and I was afraid to walk ba...</td>\n",
       "      <td>Great location in nice surroundings the bar a...</td>\n",
       "      <td>[room, dirty, afraid, walk, barefoot, floor, l...</td>\n",
       "      <td>[great, location, nice, surrounding, bar, rest...</td>\n",
       "    </tr>\n",
       "    <tr>\n",
       "      <th>4</th>\n",
       "      <td>You When I booked with your company on line y...</td>\n",
       "      <td>Amazing location and building Romantic setting</td>\n",
       "      <td>[book, company, line, show, picture, room, thi...</td>\n",
       "      <td>[amazing, location, build, romantic, setting]</td>\n",
       "    </tr>\n",
       "  </tbody>\n",
       "</table>\n",
       "</div>"
      ],
      "text/plain": [
       "                                     Negative_Review  \\\n",
       "0   I am so angry that i made this post available...   \n",
       "1                                        No Negative   \n",
       "2   Rooms are nice but for elderly a bit difficul...   \n",
       "3   My room was dirty and I was afraid to walk ba...   \n",
       "4   You When I booked with your company on line y...   \n",
       "\n",
       "                                     Positive_Review  \\\n",
       "0   Only the park outside of the hotel was beauti...   \n",
       "1   No real complaints the hotel was great great ...   \n",
       "2   Location was good and staff were ok It is cut...   \n",
       "3   Great location in nice surroundings the bar a...   \n",
       "4    Amazing location and building Romantic setting    \n",
       "\n",
       "                                      Negative_Lemma  \\\n",
       "0  [angry, make, post, available, possible, site,...   \n",
       "1                                         [negative]   \n",
       "2  [room, nice, elderly, bit, difficult, room, st...   \n",
       "3  [room, dirty, afraid, walk, barefoot, floor, l...   \n",
       "4  [book, company, line, show, picture, room, thi...   \n",
       "\n",
       "                                      Positive_Lemma  \n",
       "0                  [park, outside, hotel, beautiful]  \n",
       "1  [real, complaint, hotel, great, great, locatio...  \n",
       "2  [location, good, staff, cute, hotel, breakfast...  \n",
       "3  [great, location, nice, surrounding, bar, rest...  \n",
       "4      [amazing, location, build, romantic, setting]  "
      ]
     },
     "execution_count": 30,
     "metadata": {},
     "output_type": "execute_result"
    }
   ],
   "source": [
    "df_NLP.head()"
   ]
  }
 ],
 "metadata": {
  "kernelspec": {
   "display_name": "Python 3",
   "language": "python",
   "name": "python3"
  },
  "language_info": {
   "codemirror_mode": {
    "name": "ipython",
    "version": 3
   },
   "file_extension": ".py",
   "mimetype": "text/x-python",
   "name": "python",
   "nbconvert_exporter": "python",
   "pygments_lexer": "ipython3",
   "version": "3.7.7"
  }
 },
 "nbformat": 4,
 "nbformat_minor": 4
}
