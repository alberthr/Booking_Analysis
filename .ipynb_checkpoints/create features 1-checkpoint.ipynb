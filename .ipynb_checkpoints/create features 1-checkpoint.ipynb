{
 "cells": [
  {
   "cell_type": "markdown",
   "metadata": {},
   "source": [
    "### Open file and prepare Data"
   ]
  },
  {
   "cell_type": "code",
   "execution_count": 1,
   "metadata": {
    "ExecuteTime": {
     "end_time": "2020-02-26T17:32:05.072864Z",
     "start_time": "2020-02-26T17:32:04.436457Z"
    }
   },
   "outputs": [],
   "source": [
    "import pandas as pd\n",
    "import numpy as np\n",
    "import datetime as dt"
   ]
  },
  {
   "cell_type": "code",
   "execution_count": 2,
   "metadata": {
    "ExecuteTime": {
     "end_time": "2020-02-26T17:32:09.914362Z",
     "start_time": "2020-02-26T17:32:05.074860Z"
    }
   },
   "outputs": [],
   "source": [
    "df = pd.read_csv(\"./data/515k-hotel-reviews-data-in-europe.zip\")"
   ]
  },
  {
   "cell_type": "markdown",
   "metadata": {
    "ExecuteTime": {
     "end_time": "2020-02-26T17:06:54.403239Z",
     "start_time": "2020-02-26T17:06:54.397247Z"
    }
   },
   "source": [
    "#### Create Diff column (Review Score - Hotel Average Score)"
   ]
  },
  {
   "cell_type": "code",
   "execution_count": 3,
   "metadata": {
    "ExecuteTime": {
     "end_time": "2020-02-26T17:32:09.950331Z",
     "start_time": "2020-02-26T17:32:09.918352Z"
    }
   },
   "outputs": [],
   "source": [
    "df['Diff'] = df.Reviewer_Score - df.Average_Score"
   ]
  },
  {
   "cell_type": "markdown",
   "metadata": {},
   "source": [
    "#### Create columns with month and year of the review"
   ]
  },
  {
   "cell_type": "code",
   "execution_count": 4,
   "metadata": {
    "ExecuteTime": {
     "end_time": "2020-02-26T17:32:18.523341Z",
     "start_time": "2020-02-26T17:32:09.953318Z"
    }
   },
   "outputs": [],
   "source": [
    "# Convert 'Review_Date' field to Date column type\n",
    "df['Review_Date'] = df['Review_Date'].apply(lambda x: dt.datetime.strptime(x,'%m/%d/%Y'))"
   ]
  },
  {
   "cell_type": "code",
   "execution_count": 5,
   "metadata": {
    "ExecuteTime": {
     "end_time": "2020-02-26T17:32:24.259006Z",
     "start_time": "2020-02-26T17:32:18.525340Z"
    }
   },
   "outputs": [],
   "source": [
    "df['Review_Month'] = df.Review_Date.apply(lambda x: x.month)\n",
    "df['Review_Year'] = df.Review_Date.apply(lambda x: x.year)"
   ]
  },
  {
   "cell_type": "markdown",
   "metadata": {},
   "source": [
    "#### Create country column"
   ]
  },
  {
   "cell_type": "code",
   "execution_count": 6,
   "metadata": {
    "ExecuteTime": {
     "end_time": "2020-02-26T17:32:24.837463Z",
     "start_time": "2020-02-26T17:32:24.260995Z"
    }
   },
   "outputs": [
    {
     "data": {
      "text/plain": [
       "United Kingdom    262301\n",
       "Spain              60149\n",
       "France             59928\n",
       "Netherlands        57214\n",
       "Austria            38939\n",
       "Italy              37207\n",
       "Name: Country, dtype: int64"
      ]
     },
     "execution_count": 6,
     "metadata": {},
     "output_type": "execute_result"
    }
   ],
   "source": [
    "def get_country(adress):\n",
    "    country = adress.split()[-1]\n",
    "    if country == \"Kingdom\":\n",
    "        return (\"United Kingdom\")\n",
    "    else:\n",
    "        return (country)\n",
    "\n",
    "\n",
    "df['Country'] = df.Hotel_Address.apply(lambda x: get_country(x))\n",
    "df.Country.value_counts()"
   ]
  },
  {
   "cell_type": "markdown",
   "metadata": {},
   "source": [
    "#### Create city column"
   ]
  },
  {
   "cell_type": "code",
   "execution_count": null,
   "metadata": {
    "ExecuteTime": {
     "end_time": "2020-02-26T17:32:51.125981Z",
     "start_time": "2020-02-26T17:32:24.840456Z"
    },
    "scrolled": true
   },
   "outputs": [],
   "source": [
    "def get_city(adress, country):\n",
    "    city = adress.split()[-2]\n",
    "    if country == \"United Kingdom\":\n",
    "        return (adress.split()[-5])\n",
    "    else:\n",
    "        return (city)\n",
    "\n",
    "\n",
    "df['City'] = df[['Hotel_Address',\n",
    "                 'Country']].apply(lambda x: get_city(x[0], x[1]), axis=1)\n",
    "df.City.value_counts()"
   ]
  },
  {
   "cell_type": "markdown",
   "metadata": {},
   "source": [
    "#### Create Tags columns"
   ]
  },
  {
   "cell_type": "markdown",
   "metadata": {},
   "source": [
    "Steps\n",
    "- Clean field tags of strings that make the field not to be recognised as a List\n",
    "- After some EDA we have found the patterns that define each one of the 6 possible fields in tags. Most of the cells have less than 6 tags. The strategy consisted in add blank fields in the list that filled the positions without an expected category tag\n",
    "- The third step has been to split the Tags column into a new Data Frame\n",
    "- As a last step we have merged the original Data Frame with the Data Frame with the tags separated in columns."
   ]
  },
  {
   "cell_type": "code",
   "execution_count": null,
   "metadata": {
    "ExecuteTime": {
     "end_time": "2020-02-26T17:32:53.588725Z",
     "start_time": "2020-02-26T17:32:51.130976Z"
    }
   },
   "outputs": [],
   "source": [
    "Tags = df.Tags\n",
    "Tags = Tags.apply(lambda x: x.replace('[', '').replace(']', '').replace(\"' \", '').replace(\" '\", '').split(', '))"
   ]
  },
  {
   "cell_type": "code",
   "execution_count": null,
   "metadata": {
    "ExecuteTime": {
     "end_time": "2020-02-26T17:33:28.630060Z",
     "start_time": "2020-02-26T17:32:53.591685Z"
    },
    "scrolled": true
   },
   "outputs": [],
   "source": [
    "for i, tag in enumerate(Tags):\n",
    "    if (tag[0] != 'With a pet' and tag[0] != ''):\n",
    "        Tags[i].insert(0, '')\n",
    "\n",
    "    if (tag[1] != 'Leisure trip' and tag[1] != 'Business trip'\n",
    "            and tag[1] != ''):\n",
    "        Tags[i].insert(1, '')\n",
    "\n",
    "    if (tag[2] != 'Couple' and tag[2] != 'Solo traveler' and tag[2] != 'Group'\n",
    "            and tag[2] != 'Family with young children'\n",
    "            and tag[2] != 'Family with older children'\n",
    "            and tag[2] != 'Travelers with friends' and tag[2] != ''):\n",
    "        Tags[i].insert(2, '')\n",
    "\n",
    "    if (tag[-1][:14] != 'Submitted from' and tag[-1] != ''):\n",
    "        Tags[i].append('')\n",
    "\n",
    "    if (tag[-2][:6] != 'Stayed' and tag[-2] != ''):\n",
    "        Tags[i].insert(-1, '')\n",
    "\n",
    "    if len(Tags[i]) < 6:\n",
    "        Tags[i].insert(3, '')"
   ]
  },
  {
   "cell_type": "code",
   "execution_count": null,
   "metadata": {
    "ExecuteTime": {
     "end_time": "2020-02-26T17:33:28.937774Z",
     "start_time": "2020-02-26T17:33:28.632056Z"
    },
    "scrolled": true
   },
   "outputs": [],
   "source": [
    "# check that all the reviews have now 6 fields\n",
    "Tags.apply(lambda x: len(x)).value_counts()"
   ]
  },
  {
   "cell_type": "code",
   "execution_count": null,
   "metadata": {
    "ExecuteTime": {
     "end_time": "2020-02-26T17:33:28.958753Z",
     "start_time": "2020-02-26T17:33:28.939771Z"
    }
   },
   "outputs": [],
   "source": [
    "dfTags = pd.DataFrame(Tags)"
   ]
  },
  {
   "cell_type": "code",
   "execution_count": null,
   "metadata": {
    "ExecuteTime": {
     "end_time": "2020-02-26T17:33:29.423843Z",
     "start_time": "2020-02-26T17:33:28.961750Z"
    }
   },
   "outputs": [],
   "source": [
    "dfTags_extended = pd.DataFrame(dfTags.Tags.values.tolist(), index=dfTags.index)\n",
    "dfTags_extended.columns = [\n",
    "    'Pet', 'Purpose', 'Whom', 'Room', 'Length', 'Device'\n",
    "]\n",
    "dfTags_extended.shape"
   ]
  },
  {
   "cell_type": "code",
   "execution_count": null,
   "metadata": {
    "ExecuteTime": {
     "end_time": "2020-02-26T17:33:29.774521Z",
     "start_time": "2020-02-26T17:33:29.426843Z"
    }
   },
   "outputs": [],
   "source": [
    "dfFull = pd.concat([df, dfTags_extended], axis=1, sort=False)"
   ]
  },
  {
   "cell_type": "markdown",
   "metadata": {},
   "source": [
    "##### Exploratory Analysis from Tags"
   ]
  },
  {
   "cell_type": "code",
   "execution_count": null,
   "metadata": {
    "ExecuteTime": {
     "end_time": "2020-02-26T17:33:29.836458Z",
     "start_time": "2020-02-26T17:33:29.776516Z"
    }
   },
   "outputs": [],
   "source": [
    "dfTags_extended.Pet.value_counts()"
   ]
  },
  {
   "cell_type": "code",
   "execution_count": null,
   "metadata": {
    "ExecuteTime": {
     "end_time": "2020-02-26T17:33:29.958346Z",
     "start_time": "2020-02-26T17:33:29.839454Z"
    }
   },
   "outputs": [],
   "source": [
    "dfTags_extended.Purpose.value_counts()"
   ]
  },
  {
   "cell_type": "code",
   "execution_count": null,
   "metadata": {
    "ExecuteTime": {
     "end_time": "2020-02-26T17:33:30.085226Z",
     "start_time": "2020-02-26T17:33:29.961341Z"
    }
   },
   "outputs": [],
   "source": [
    "dfTags_extended.Whom.value_counts()"
   ]
  },
  {
   "cell_type": "code",
   "execution_count": null,
   "metadata": {
    "ExecuteTime": {
     "end_time": "2020-02-26T17:33:30.218102Z",
     "start_time": "2020-02-26T17:33:30.088223Z"
    }
   },
   "outputs": [],
   "source": [
    "len(dfTags_extended.Room.value_counts())"
   ]
  },
  {
   "cell_type": "code",
   "execution_count": null,
   "metadata": {
    "ExecuteTime": {
     "end_time": "2020-02-26T17:33:30.334994Z",
     "start_time": "2020-02-26T17:33:30.220100Z"
    }
   },
   "outputs": [],
   "source": [
    "dfTags_extended.Length.value_counts()"
   ]
  },
  {
   "cell_type": "code",
   "execution_count": 19,
   "metadata": {
    "ExecuteTime": {
     "end_time": "2020-02-26T17:33:30.444890Z",
     "start_time": "2020-02-26T17:33:30.337991Z"
    }
   },
   "outputs": [
    {
     "data": {
      "text/plain": [
       "Submitted from a mobile device    307640\n",
       "                                  208098\n",
       "Name: Device, dtype: int64"
      ]
     },
     "execution_count": 19,
     "metadata": {},
     "output_type": "execute_result"
    }
   ],
   "source": [
    "dfTags_extended.Device.value_counts().head()"
   ]
  },
  {
   "cell_type": "code",
   "execution_count": 20,
   "metadata": {},
   "outputs": [],
   "source": [
    "df = dfFull.copy()"
   ]
  },
  {
   "cell_type": "markdown",
   "metadata": {},
   "source": [
    "#### Create city recoded Rooms"
   ]
  },
  {
   "cell_type": "code",
   "execution_count": 21,
   "metadata": {},
   "outputs": [],
   "source": [
    "rooms = pd.read_excel(\"./data/room_types.xlsx\", index_col='Original')"
   ]
  },
  {
   "cell_type": "code",
   "execution_count": 22,
   "metadata": {},
   "outputs": [],
   "source": [
    "rooms_dict = rooms.T.to_dict('records')[0]"
   ]
  },
  {
   "cell_type": "code",
   "execution_count": 23,
   "metadata": {
    "scrolled": true
   },
   "outputs": [],
   "source": [
    "tmp = []\n",
    "\n",
    "for i in df.Room[:]:\n",
    "    if i is not np.nan and i is not '':\n",
    "        tmp.append(rooms_dict[i])\n",
    "    else:\n",
    "        tmp.append(np.nan)\n",
    "        \n",
    "df['Room_Recode'] = tmp"
   ]
  },
  {
   "cell_type": "markdown",
   "metadata": {},
   "source": [
    "#### Create city recoded Nationalities"
   ]
  },
  {
   "cell_type": "code",
   "execution_count": 24,
   "metadata": {},
   "outputs": [],
   "source": [
    "nationality = pd.read_excel(\"./data/reviewer_nationality.xlsx\", index_col='Original')"
   ]
  },
  {
   "cell_type": "code",
   "execution_count": 25,
   "metadata": {},
   "outputs": [],
   "source": [
    "nationality_dict = nationality.T.to_dict('records')[0]"
   ]
  },
  {
   "cell_type": "code",
   "execution_count": 26,
   "metadata": {},
   "outputs": [],
   "source": [
    "tmp = []\n",
    "\n",
    "for i in df.Reviewer_Nationality[:]:\n",
    "    if i is not np.nan and i != ' ':\n",
    "        tmp.append(nationality_dict[i])\n",
    "    else:\n",
    "        tmp.append(np.nan)\n",
    "        \n",
    "df['Nationality_Recode'] = tmp"
   ]
  },
  {
   "cell_type": "markdown",
   "metadata": {},
   "source": [
    "#### Create recoded number of nights"
   ]
  },
  {
   "cell_type": "code",
   "execution_count": 27,
   "metadata": {},
   "outputs": [
    {
     "data": {
      "text/plain": [
       "array(['Stayed 1 night', 'Stayed 2 nights', 'Stayed 3 nights',\n",
       "       'Stayed 4 nights', 'Stayed 5 nights', 'Stayed 6 nights',\n",
       "       'Stayed 7 nights', 'Stayed 8 nights'], dtype=object)"
      ]
     },
     "execution_count": 27,
     "metadata": {},
     "output_type": "execute_result"
    }
   ],
   "source": [
    "top_length = df.Length.value_counts().index.values[:8]\n",
    "top_length"
   ]
  },
  {
   "cell_type": "code",
   "execution_count": 28,
   "metadata": {},
   "outputs": [],
   "source": [
    "tmp = []\n",
    "for i in df.Length:\n",
    "    if i in top_length:\n",
    "        tmp.append(i)\n",
    "    else:\n",
    "        tmp.append(\"Stayed 9+ nights\")\n",
    "df['Length_Recode'] = tmp"
   ]
  },
  {
   "cell_type": "markdown",
   "metadata": {},
   "source": [
    "#### Save File"
   ]
  },
  {
   "cell_type": "code",
   "execution_count": 29,
   "metadata": {
    "ExecuteTime": {
     "end_time": "2020-02-26T17:34:04.868860Z",
     "start_time": "2020-02-26T17:33:30.462874Z"
    }
   },
   "outputs": [],
   "source": [
    "df.to_csv(\"./data/df_features.gz\", index_label=False, compression=\"gzip\")"
   ]
  }
 ],
 "metadata": {
  "kernelspec": {
   "display_name": "Python 3",
   "language": "python",
   "name": "python3"
  },
  "language_info": {
   "codemirror_mode": {
    "name": "ipython",
    "version": 3
   },
   "file_extension": ".py",
   "mimetype": "text/x-python",
   "name": "python",
   "nbconvert_exporter": "python",
   "pygments_lexer": "ipython3",
   "version": "3.7.7"
  },
  "toc": {
   "base_numbering": 1,
   "nav_menu": {},
   "number_sections": true,
   "sideBar": true,
   "skip_h1_title": false,
   "title_cell": "Table of Contents",
   "title_sidebar": "Contents",
   "toc_cell": false,
   "toc_position": {
    "height": "calc(100% - 180px)",
    "left": "10px",
    "top": "150px",
    "width": "312px"
   },
   "toc_section_display": true,
   "toc_window_display": false
  }
 },
 "nbformat": 4,
 "nbformat_minor": 4
}
