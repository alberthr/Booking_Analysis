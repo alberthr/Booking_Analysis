{
 "cells": [
  {
   "cell_type": "markdown",
   "metadata": {},
   "source": [
    "### Open File"
   ]
  },
  {
   "cell_type": "code",
   "execution_count": 1,
   "metadata": {},
   "outputs": [],
   "source": [
    "import pandas as pd\n",
    "import numpy as np\n",
    "import datetime as dt\n",
    "from matplotlib import pyplot as plt"
   ]
  },
  {
   "cell_type": "code",
   "execution_count": 2,
   "metadata": {},
   "outputs": [],
   "source": [
    "df = pd.read_csv('./data/df_features.gz')"
   ]
  },
  {
   "cell_type": "markdown",
   "metadata": {},
   "source": [
    "I fix the date because when Pandas opens the file it reads it incorrectly"
   ]
  },
  {
   "cell_type": "code",
   "execution_count": 3,
   "metadata": {},
   "outputs": [],
   "source": [
    "df['Review_Date'] = df['Review_Date'].apply(lambda x: dt.datetime.strptime(x,'%Y-%m-%d'))\n",
    "df['Review_Month'] = df.Review_Month.apply(lambda x: str(x))"
   ]
  },
  {
   "cell_type": "markdown",
   "metadata": {},
   "source": [
    "I delete the rows without a distance to city center (because in the origin hotel don't have latitude and longitude)"
   ]
  },
  {
   "cell_type": "code",
   "execution_count": 4,
   "metadata": {
    "scrolled": true
   },
   "outputs": [],
   "source": [
    "df = df.dropna(subset=['Dist_Center'])\n",
    "#df = df.dropna(subset=['Reservation_ADR'])"
   ]
  },
  {
   "cell_type": "markdown",
   "metadata": {},
   "source": [
    "### Create Predicted Category for final models (2 categories)"
   ]
  },
  {
   "cell_type": "code",
   "execution_count": 5,
   "metadata": {},
   "outputs": [],
   "source": [
    "diff_hotels = df[['Hotel_Address','Diff']].groupby('Hotel_Address').describe()\n",
    "diff_hotels = diff_hotels.Diff.reset_index()"
   ]
  },
  {
   "cell_type": "code",
   "execution_count": 6,
   "metadata": {},
   "outputs": [],
   "source": [
    "df = pd.merge(df, diff_hotels, on='Hotel_Address')"
   ]
  },
  {
   "cell_type": "code",
   "execution_count": 7,
   "metadata": {},
   "outputs": [
    {
     "data": {
      "text/plain": [
       "Good    0.831582\n",
       "Bad     0.168418\n",
       "Name: Category, dtype: float64"
      ]
     },
     "execution_count": 7,
     "metadata": {},
     "output_type": "execute_result"
    }
   ],
   "source": [
    "category = np.array(['Bad' if i < 7 else 'Good' for i in df.Reviewer_Score])\n",
    "df.loc[:, 'Category'] = category\n",
    "df.Category.value_counts() / len(df) "
   ]
  },
  {
   "cell_type": "code",
   "execution_count": 8,
   "metadata": {},
   "outputs": [
    {
     "data": {
      "text/plain": [
       "Index(['Hotel_Address', 'Additional_Number_of_Scoring', 'Review_Date',\n",
       "       'Average_Score', 'Hotel_Name', 'Reviewer_Nationality',\n",
       "       'Review_Total_Negative_Word_Counts', 'Total_Number_of_Reviews',\n",
       "       'Review_Total_Positive_Word_Counts',\n",
       "       'Total_Number_of_Reviews_Reviewer_Has_Given', 'Reviewer_Score',\n",
       "       'days_since_review', 'lat', 'lng', 'Diff', 'Diff_Percentage',\n",
       "       'Review_Month', 'Review_Year', 'Country', 'City', 'Pet', 'Purpose',\n",
       "       'Whom', 'Room', 'Length', 'Device', 'Room_Recode', 'Nationality_Recode',\n",
       "       'Length_Recode', 'Close_Landmarks', 'Dist_Center', 'Dist_Airport',\n",
       "       'Dist_Train', 'Price', 'Stars', 'Length_N', 'Reservation_ADR',\n",
       "       'food_Neg', 'staff_Neg', 'location_Neg', 'value_Neg', 'comfort_Neg',\n",
       "       'room_Neg', 'facilities_Neg', 'cleanliness_Neg', 'food_Pos',\n",
       "       'staff_Pos', 'location_Pos', 'value_Pos', 'comfort_Pos', 'room_Pos',\n",
       "       'facilities_Pos', 'cleanliness_Pos', 'food_Neg_Hotel',\n",
       "       'staff_Neg_Hotel', 'location_Neg_Hotel', 'value_Neg_Hotel',\n",
       "       'comfort_Neg_Hotel', 'room_Neg_Hotel', 'facilities_Neg_Hotel',\n",
       "       'cleanliness_Neg_Hotel', 'food_Pos_Hotel', 'staff_Pos_Hotel',\n",
       "       'location_Pos_Hotel', 'value_Pos_Hotel', 'comfort_Pos_Hotel',\n",
       "       'room_Pos_Hotel', 'facilities_Pos_Hotel', 'cleanliness_Pos_Hotel',\n",
       "       'count', 'mean', 'std', 'min', '25%', '50%', '75%', 'max', 'Category'],\n",
       "      dtype='object')"
      ]
     },
     "execution_count": 8,
     "metadata": {},
     "output_type": "execute_result"
    }
   ],
   "source": [
    "df.columns"
   ]
  },
  {
   "cell_type": "markdown",
   "metadata": {},
   "source": [
    "### Balance Nationalities and / or Categories"
   ]
  },
  {
   "cell_type": "code",
   "execution_count": 9,
   "metadata": {},
   "outputs": [],
   "source": [
    "def balance_df(Balance_Nationality, Balance_Category):\n",
    "    df_balance_country = df.copy()\n",
    "    if Balance_Nationality:\n",
    "        df_balance_country = None\n",
    "        for i in list(df.Nationality_Recode.value_counts().index):\n",
    "            nationality = df[df.Nationality_Recode == i]\n",
    "            n = 20000\n",
    "            if len(nationality) < 20000:\n",
    "                n = len(nationality)\n",
    "            nationality = nationality.sample(n, random_state=1)\n",
    "            df_balance_country = pd.concat([df_balance_country, nationality])\n",
    "    \n",
    "    df_balance_class = df_balance_country.copy()\n",
    "    if Balance_Category:\n",
    "        df_balance_class = None\n",
    "        minclass = np.min(df_balance_country.Category.value_counts())\n",
    "        classes = list(df_balance_country.Category.value_counts().index)\n",
    "        for i in classes:\n",
    "            selected_class = df_balance_country[df_balance_country.Category == i].sample(minclass, random_state=1)\n",
    "            df_balance_class = pd.concat([df_balance_class, selected_class])\n",
    "    \n",
    "    return(df_balance_class)"
   ]
  },
  {
   "cell_type": "code",
   "execution_count": 10,
   "metadata": {},
   "outputs": [],
   "source": [
    "df_balanced = balance_df(Balance_Nationality=True, Balance_Category=True)"
   ]
  },
  {
   "cell_type": "markdown",
   "metadata": {},
   "source": [
    "### Prepare Data to run Models"
   ]
  },
  {
   "cell_type": "code",
   "execution_count": 11,
   "metadata": {},
   "outputs": [],
   "source": [
    "df_model = df_balanced.sample(n=20000, random_state=1)"
   ]
  },
  {
   "cell_type": "code",
   "execution_count": 15,
   "metadata": {},
   "outputs": [],
   "source": [
    "x_categorical = ['Review_Month', 'City', 'Pet', 'Purpose', 'Whom', 'Room_Recode', 'Nationality_Recode', 'Length_Recode']\n",
    "x_numerical = ['Average_Score', 'Total_Number_of_Reviews_Reviewer_Has_Given', 'Close_Landmarks', 'Dist_Center', \n",
    "               'Dist_Train', 'Dist_Airport','food_Neg_Hotel','staff_Neg_Hotel', 'location_Neg_Hotel', 'value_Neg_Hotel',\n",
    "               'comfort_Neg_Hotel', 'room_Neg_Hotel', 'facilities_Neg_Hotel','cleanliness_Neg_Hotel', \n",
    "               'food_Pos_Hotel', 'staff_Pos_Hotel','location_Pos_Hotel', 'value_Pos_Hotel', 'comfort_Pos_Hotel',\n",
    "               'room_Pos_Hotel', 'facilities_Pos_Hotel', 'cleanliness_Pos_Hotel','count', 'std', 'mean', 'min', '25%', \n",
    "               '50%', '75%', 'max']\n",
    "x_col = x_categorical + x_numerical\n",
    "y_col = 'Category'"
   ]
  },
  {
   "cell_type": "code",
   "execution_count": 16,
   "metadata": {},
   "outputs": [],
   "source": [
    "X_numerical = df_model[x_numerical]\n",
    "X_numerical_std = X_numerical.apply(lambda x: ((x-np.mean(x)) / np.std(x)))"
   ]
  },
  {
   "cell_type": "code",
   "execution_count": 17,
   "metadata": {
    "scrolled": true
   },
   "outputs": [],
   "source": [
    "X_categorical = pd.get_dummies(df_model[x_categorical], prefix_sep='_', drop_first=True)\n",
    "X_categorical = X_categorical.fillna('Not Available')"
   ]
  },
  {
   "cell_type": "code",
   "execution_count": 18,
   "metadata": {},
   "outputs": [],
   "source": [
    "X = pd.concat([X_numerical_std, X_categorical], axis=1, sort=False)\n",
    "y = df_model[y_col]"
   ]
  },
  {
   "cell_type": "markdown",
   "metadata": {},
   "source": [
    "Split into Train and Test"
   ]
  },
  {
   "cell_type": "code",
   "execution_count": 19,
   "metadata": {},
   "outputs": [],
   "source": [
    "from sklearn.model_selection import train_test_split\n",
    "X_train, X_test, y_train, y_test = train_test_split(X, y, test_size=0.5, random_state=100)"
   ]
  },
  {
   "cell_type": "code",
   "execution_count": 20,
   "metadata": {},
   "outputs": [
    {
     "data": {
      "text/plain": [
       "((10000, 74), (10000,), (10000, 74), (10000,))"
      ]
     },
     "execution_count": 20,
     "metadata": {},
     "output_type": "execute_result"
    }
   ],
   "source": [
    "X_test.shape, y_test.shape, X_train.shape, y_train.shape"
   ]
  },
  {
   "cell_type": "markdown",
   "metadata": {},
   "source": [
    "## MODELS"
   ]
  },
  {
   "cell_type": "code",
   "execution_count": 21,
   "metadata": {},
   "outputs": [
    {
     "data": {
      "text/plain": [
       "Index(['Average_Score', 'Total_Number_of_Reviews_Reviewer_Has_Given',\n",
       "       'Close_Landmarks', 'Dist_Center', 'Dist_Train', 'Dist_Airport',\n",
       "       'food_Neg_Hotel', 'staff_Neg_Hotel', 'location_Neg_Hotel',\n",
       "       'value_Neg_Hotel', 'comfort_Neg_Hotel', 'room_Neg_Hotel',\n",
       "       'facilities_Neg_Hotel', 'cleanliness_Neg_Hotel', 'food_Pos_Hotel',\n",
       "       'staff_Pos_Hotel', 'location_Pos_Hotel', 'value_Pos_Hotel',\n",
       "       'comfort_Pos_Hotel', 'room_Pos_Hotel', 'facilities_Pos_Hotel',\n",
       "       'cleanliness_Pos_Hotel', 'count', 'std', 'mean', 'min', '25%', '50%',\n",
       "       '75%', 'max', 'Review_Month_10', 'Review_Month_11', 'Review_Month_12',\n",
       "       'Review_Month_2', 'Review_Month_3', 'Review_Month_4', 'Review_Month_5',\n",
       "       'Review_Month_6', 'Review_Month_7', 'Review_Month_8', 'Review_Month_9',\n",
       "       'City_Barcelona', 'City_London', 'City_Milan', 'City_Paris',\n",
       "       'City_Vienna', 'Purpose_Leisure trip',\n",
       "       'Whom_Family with older children', 'Whom_Family with young children',\n",
       "       'Whom_Group', 'Whom_Solo traveler', 'Whom_Travelers with friends',\n",
       "       'Room_Recode_Executive', 'Room_Recode_Other (Standard)',\n",
       "       'Room_Recode_Studio', 'Room_Recode_Suite',\n",
       "       'Nationality_Recode_Asia & Pacific', 'Nationality_Recode_China',\n",
       "       'Nationality_Recode_Eastern Europe', 'Nationality_Recode_Middle east',\n",
       "       'Nationality_Recode_North America', 'Nationality_Recode_Oceania',\n",
       "       'Nationality_Recode_South/Latin America',\n",
       "       'Nationality_Recode_Sub-Saharian Africa',\n",
       "       'Nationality_Recode_UK & Ireland', 'Nationality_Recode_Western Europe',\n",
       "       'Length_Recode_Stayed 2 nights', 'Length_Recode_Stayed 3 nights',\n",
       "       'Length_Recode_Stayed 4 nights', 'Length_Recode_Stayed 5 nights',\n",
       "       'Length_Recode_Stayed 6 nights', 'Length_Recode_Stayed 7 nights',\n",
       "       'Length_Recode_Stayed 8 nights', 'Length_Recode_Stayed 9+ nights'],\n",
       "      dtype='object')"
      ]
     },
     "execution_count": 21,
     "metadata": {},
     "output_type": "execute_result"
    }
   ],
   "source": [
    "X_test.columns"
   ]
  },
  {
   "cell_type": "markdown",
   "metadata": {},
   "source": [
    "### Random Forest"
   ]
  },
  {
   "cell_type": "code",
   "execution_count": 86,
   "metadata": {
    "scrolled": true
   },
   "outputs": [],
   "source": [
    "from sklearn.ensemble import RandomForestClassifier\n",
    "from sklearn.linear_model import LogisticRegression\n",
    "import xgboost as xgb\n",
    "from sklearn.naive_bayes import GaussianNB, BernoulliNB\n",
    "\n",
    "from sklearn.metrics import accuracy_score, cohen_kappa_score\n",
    "import random\n",
    "from random import sample"
   ]
  },
  {
   "cell_type": "code",
   "execution_count": 89,
   "metadata": {},
   "outputs": [],
   "source": [
    "def check_model(variable, X_train, X_test, y_train, y_test):\n",
    "    clf = xgb.XGBClassifier(objective=\"binary:logistic\", n_estimators = 7, max_depth=4, random_state=1)\n",
    "    clf = RandomForestClassifier(n_estimators = 50, max_depth = 4, random_state=1)\n",
    "    clf = BernoulliNB()\n",
    "    clf = LogisticRegression(solver='lbfgs', max_iter=1000, random_state=1)\n",
    "    \n",
    "    clf.fit(X_train, y_train)\n",
    "    prediccion = clf.predict(X_test)\n",
    "    acc_score = accuracy_score(prediccion, y_test)\n",
    "    # print(variable, acc_score)\n",
    "    return(variable, acc_score)"
   ]
  },
  {
   "cell_type": "code",
   "execution_count": 90,
   "metadata": {},
   "outputs": [
    {
     "name": "stdout",
     "output_type": "stream",
     "text": [
      "0 Original Score: 0.6535 | New score: 0.6556 | Variable to remove: value_Pos_Hotel\n",
      "1 Original Score: 0.6556 | New score: 0.6562 | Variable to remove: Whom_Group\n",
      "2 Original Score: 0.6562 | New score: 0.6564 | Variable to remove: Review_Month_2\n",
      "3 Original Score: 0.6564 | New score: 0.6575 | Variable to remove: cleanliness_Neg_Hotel\n",
      "4 Original Score: 0.6575 | New score: 0.6584 | Variable to remove: room_Pos_Hotel\n",
      "5 Original Score: 0.6584 | New score: 0.6585 | Variable to remove: location_Neg_Hotel\n",
      "6 Original Score: 0.6585 | New score: 0.6586 | Variable to remove: Length_Recode_Stayed 2 nights\n",
      "7 Original Score: 0.6586 | New score: 0.6587 | Variable to remove: Room_Recode_Studio\n",
      "8 Original Score: 0.6587 | New score: 0.6589 | Variable to remove: Length_Recode_Stayed 9+ nights\n",
      "9 Original Score: 0.6589 | New score: 0.6592 | Variable to remove: value_Neg_Hotel\n",
      "10 Original Score: 0.6592 | New score: 0.66 | Variable to remove: Nationality_Recode_Middle east\n",
      "11 Original Score: 0.66 | New score: 0.6601 | Variable to remove: max\n",
      "12 Original Score: 0.6601 | New score: 0.6602 | Variable to remove: location_Pos_Hotel\n",
      "13 Original Score: 0.6602 | New score: 0.6607 | Variable to remove: Length_Recode_Stayed 7 nights\n",
      "14 Original Score: 0.6607 | New score: 0.6609 | Variable to remove: count\n",
      "15 Original Score: 0.6609 | New score: 0.661 | Variable to remove: facilities_Pos_Hotel\n",
      "End of process\n"
     ]
    }
   ],
   "source": [
    "# FULL MODEL\n",
    "\n",
    "score = check_model('', X_train, X_test, y_train, y_test)[1]\n",
    "varout = []\n",
    "varin = list(X_test.columns)\n",
    "\n",
    "import random\n",
    "\n",
    "# BACKWARD ELIMINATION DELETE FIRST RANDOM VARIABLE THAT INCRESES THE ACCURACY)\n",
    "\n",
    "for n in range(len(varin)):\n",
    "    max_score = score\n",
    "    max_feature = []\n",
    "    \n",
    "    random.seed(1)\n",
    "    for i in sample(varin, len(varin)):\n",
    "        var_test = varin.copy()\n",
    "        var_test.remove(i)\n",
    "        X_train_vartest = X_train[var_test]\n",
    "        X_test_vartest = X_test[var_test]\n",
    "        check = check_model(i, X_train_vartest, X_test_vartest, y_train, y_test)\n",
    "        if check[1] > max_score:\n",
    "            max_feature = check[0]\n",
    "            max_score = check[1] \n",
    "            varin.remove(max_feature)   \n",
    "            varout.append(max_feature)\n",
    "            print(n, 'Original Score:', score, '| New score:', max_score, '| Variable to remove:', max_feature)\n",
    "            break\n",
    "    \n",
    "    if max_score > score:\n",
    "        score = max_score\n",
    "    else:\n",
    "        print('End of process')\n",
    "        break"
   ]
  },
  {
   "cell_type": "code",
   "execution_count": null,
   "metadata": {},
   "outputs": [],
   "source": []
  }
 ],
 "metadata": {
  "kernelspec": {
   "display_name": "Python 3",
   "language": "python",
   "name": "python3"
  },
  "language_info": {
   "codemirror_mode": {
    "name": "ipython",
    "version": 3
   },
   "file_extension": ".py",
   "mimetype": "text/x-python",
   "name": "python",
   "nbconvert_exporter": "python",
   "pygments_lexer": "ipython3",
   "version": "3.7.7"
  }
 },
 "nbformat": 4,
 "nbformat_minor": 2
}
