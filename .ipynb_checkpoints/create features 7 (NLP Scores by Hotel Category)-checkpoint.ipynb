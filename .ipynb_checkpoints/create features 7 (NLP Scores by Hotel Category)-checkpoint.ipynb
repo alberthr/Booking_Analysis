{
 "cells": [
  {
   "cell_type": "markdown",
   "metadata": {},
   "source": [
    "### Import Data"
   ]
  },
  {
   "cell_type": "code",
   "execution_count": 49,
   "metadata": {},
   "outputs": [],
   "source": [
    "import pandas as pd\n",
    "import numpy as np\n",
    "from matplotlib import pyplot as plt"
   ]
  },
  {
   "cell_type": "code",
   "execution_count": 50,
   "metadata": {},
   "outputs": [],
   "source": [
    "from collections import Counter\n",
    "import ast"
   ]
  },
  {
   "cell_type": "code",
   "execution_count": 51,
   "metadata": {},
   "outputs": [],
   "source": [
    "df = pd.read_csv('./data/NLP.gz')"
   ]
  },
  {
   "cell_type": "code",
   "execution_count": 52,
   "metadata": {},
   "outputs": [
    {
     "data": {
      "text/html": [
       "<div>\n",
       "<style scoped>\n",
       "    .dataframe tbody tr th:only-of-type {\n",
       "        vertical-align: middle;\n",
       "    }\n",
       "\n",
       "    .dataframe tbody tr th {\n",
       "        vertical-align: top;\n",
       "    }\n",
       "\n",
       "    .dataframe thead th {\n",
       "        text-align: right;\n",
       "    }\n",
       "</style>\n",
       "<table border=\"1\" class=\"dataframe\">\n",
       "  <thead>\n",
       "    <tr style=\"text-align: right;\">\n",
       "      <th></th>\n",
       "      <th>Negative_Review</th>\n",
       "      <th>Positive_Review</th>\n",
       "      <th>Negative_Lemma</th>\n",
       "      <th>Positive_Lemma</th>\n",
       "    </tr>\n",
       "  </thead>\n",
       "  <tbody>\n",
       "    <tr>\n",
       "      <th>0</th>\n",
       "      <td>I am so angry that i made this post available...</td>\n",
       "      <td>Only the park outside of the hotel was beauti...</td>\n",
       "      <td>['angry', 'make', 'post', 'available', 'possib...</td>\n",
       "      <td>['park', 'outside', 'hotel', 'beautiful']</td>\n",
       "    </tr>\n",
       "    <tr>\n",
       "      <th>1</th>\n",
       "      <td>No Negative</td>\n",
       "      <td>No real complaints the hotel was great great ...</td>\n",
       "      <td>['negative']</td>\n",
       "      <td>['real', 'complaint', 'hotel', 'great', 'great...</td>\n",
       "    </tr>\n",
       "  </tbody>\n",
       "</table>\n",
       "</div>"
      ],
      "text/plain": [
       "                                     Negative_Review  \\\n",
       "0   I am so angry that i made this post available...   \n",
       "1                                        No Negative   \n",
       "\n",
       "                                     Positive_Review  \\\n",
       "0   Only the park outside of the hotel was beauti...   \n",
       "1   No real complaints the hotel was great great ...   \n",
       "\n",
       "                                      Negative_Lemma  \\\n",
       "0  ['angry', 'make', 'post', 'available', 'possib...   \n",
       "1                                       ['negative']   \n",
       "\n",
       "                                      Positive_Lemma  \n",
       "0          ['park', 'outside', 'hotel', 'beautiful']  \n",
       "1  ['real', 'complaint', 'hotel', 'great', 'great...  "
      ]
     },
     "execution_count": 52,
     "metadata": {},
     "output_type": "execute_result"
    }
   ],
   "source": [
    "df.head(2)"
   ]
  },
  {
   "cell_type": "markdown",
   "metadata": {},
   "source": [
    "### Negative Reviews"
   ]
  },
  {
   "cell_type": "code",
   "execution_count": 53,
   "metadata": {},
   "outputs": [],
   "source": [
    "Negative_Lemma = df.Negative_Lemma.apply(lambda x: ast.literal_eval(x)).to_list()"
   ]
  },
  {
   "cell_type": "code",
   "execution_count": 54,
   "metadata": {},
   "outputs": [],
   "source": [
    "Negative_Words = [item for sublist in Negative_Lemma for item in sublist]"
   ]
  },
  {
   "cell_type": "code",
   "execution_count": 55,
   "metadata": {},
   "outputs": [],
   "source": [
    "Negative_Ranking = pd.DataFrame.from_dict(Counter(Negative_Words), orient='index').sort_values(by=0, ascending=False)"
   ]
  },
  {
   "cell_type": "code",
   "execution_count": 56,
   "metadata": {},
   "outputs": [
    {
     "data": {
      "text/plain": [
       "[<matplotlib.lines.Line2D at 0x1cccc694088>]"
      ]
     },
     "execution_count": 56,
     "metadata": {},
     "output_type": "execute_result"
    },
    {
     "data": {
      "image/png": "[encoded data removed]",
      "text/plain": [
       "<Figure size 432x288 with 1 Axes>"
      ]
     },
     "metadata": {
      "needs_background": "light"
     },
     "output_type": "display_data"
    }
   ],
   "source": [
    "plt.plot(range(1000), (Negative_Ranking[0].cumsum()/sum(Negative_Ranking[0]))[:1000])"
   ]
  },
  {
   "cell_type": "code",
   "execution_count": 57,
   "metadata": {},
   "outputs": [
    {
     "name": "stdout",
     "output_type": "stream",
     "text": [
      "100 0.476\n",
      "150 0.552\n",
      "200 0.606\n",
      "250 0.646\n",
      "300 0.679\n",
      "350 0.706\n",
      "400 0.729\n",
      "450 0.749\n",
      "500 0.766\n",
      "550 0.782\n",
      "600 0.795\n",
      "650 0.807\n",
      "700 0.818\n",
      "750 0.828\n",
      "800 0.837\n",
      "850 0.845\n",
      "900 0.853\n",
      "950 0.86\n"
     ]
    }
   ],
   "source": [
    "for i in range(100, 1000, 50):\n",
    "    print(i, round(Negative_Ranking[0].cumsum()/sum(Negative_Ranking[0]),3)[i])"
   ]
  },
  {
   "cell_type": "markdown",
   "metadata": {},
   "source": [
    "The top-100 most common words represent almost 50% of the total words"
   ]
  },
  {
   "cell_type": "markdown",
   "metadata": {},
   "source": [
    "I work in Excel to create and group keywords"
   ]
  },
  {
   "cell_type": "code",
   "execution_count": 58,
   "metadata": {},
   "outputs": [],
   "source": [
    "# pd.DataFrame(Negative_Ranking.index[:200]).to_excel('./data/Negative_Words.xlsx', index_label=False)"
   ]
  },
  {
   "cell_type": "code",
   "execution_count": 59,
   "metadata": {},
   "outputs": [],
   "source": [
    "food = ['breakfast','food','coffee','drink','tea','water','buffet','delicious','eat']\n",
    "staff = ['staff','service','reception','request','desk','order','help','receptionist','concierge']\n",
    "location = ['location','locate','station','centre','close','bus','walk','access','view','park','metro',\t'tram',\n",
    "            'area','center','place','shopping','central','walking','tube','airport','train','attraction',\n",
    "            'distance','transport','street','underground']\n",
    "value = ['price','expensive','pay','money','cost']\n",
    "comfort = ['small','noisy','noise','hot','old','cold','size','tiny','hear','space','uncomfortable','warm']\n",
    "room = ['bed','pillow','bathroom','shower','toilet','bath','towel','sleep']\n",
    "facilities = ['air','bar','carpet','conditioning','door','elevator','facility','internet','lift','lobby','parking',\n",
    "              'pool','restaurant','spa','terrace','tv','wall','wifi','window']\n",
    "cleanliness = ['clean','smell','dirty','cleanliness']"
   ]
  },
  {
   "cell_type": "code",
   "execution_count": 60,
   "metadata": {},
   "outputs": [],
   "source": [
    "food_score = [(len(set(i) & set(food)) > 0) * 1 for i in Negative_Lemma]\n",
    "staff_score = [(len(set(i) & set(staff)) > 0) * 1 for i in Negative_Lemma]\n",
    "location_score = [(len(set(i) & set(location)) > 0) * 1 for i in Negative_Lemma]\n",
    "value_score = [(len(set(i) & set(value)) > 0) * 1 for i in Negative_Lemma]\n",
    "comfort_score = [(len(set(i) & set(comfort)) > 0) * 1 for i in Negative_Lemma]\n",
    "room_score = [(len(set(i) & set(room)) > 0) * 1 for i in Negative_Lemma]\n",
    "facilities_score = [(len(set(i) & set(facilities)) > 0) * 1 for i in Negative_Lemma]\n",
    "cleanliness_score = [(len(set(i) & set(cleanliness)) > 0) * 1 for i in Negative_Lemma]"
   ]
  },
  {
   "cell_type": "code",
   "execution_count": 61,
   "metadata": {},
   "outputs": [],
   "source": [
    "df['food_Neg'] = food_score\n",
    "df['staff_Neg'] = staff_score\n",
    "df['location_Neg'] = location_score\n",
    "df['value_Neg'] = value_score\n",
    "df['comfort_Neg'] = comfort_score\n",
    "df['room_Neg'] = room_score\n",
    "df['facilities_Neg'] = facilities_score\n",
    "df['cleanliness_Neg'] = cleanliness_score"
   ]
  },
  {
   "cell_type": "markdown",
   "metadata": {},
   "source": [
    "### Positive Reviews"
   ]
  },
  {
   "cell_type": "code",
   "execution_count": 62,
   "metadata": {},
   "outputs": [],
   "source": [
    "Positive_Lemma = df.Positive_Lemma.apply(lambda x: ast.literal_eval(x)).to_list()"
   ]
  },
  {
   "cell_type": "code",
   "execution_count": 63,
   "metadata": {},
   "outputs": [],
   "source": [
    "Positive_Words = [item for sublist in Positive_Lemma for item in sublist]"
   ]
  },
  {
   "cell_type": "code",
   "execution_count": 64,
   "metadata": {},
   "outputs": [],
   "source": [
    "Positive_Ranking = pd.DataFrame.from_dict(Counter(Positive_Words), orient='index').sort_values(by=0, ascending=False)"
   ]
  },
  {
   "cell_type": "code",
   "execution_count": 65,
   "metadata": {},
   "outputs": [
    {
     "data": {
      "text/plain": [
       "[<matplotlib.lines.Line2D at 0x1ccce2e9f48>]"
      ]
     },
     "execution_count": 65,
     "metadata": {},
     "output_type": "execute_result"
    },
    {
     "data": {
      "image/png": "[encoded data removed]",
      "text/plain": [
       "<Figure size 432x288 with 1 Axes>"
      ]
     },
     "metadata": {
      "needs_background": "light"
     },
     "output_type": "display_data"
    }
   ],
   "source": [
    "plt.plot(range(1000), (Positive_Ranking[0].cumsum()/sum(Positive_Ranking[0]))[:1000])"
   ]
  },
  {
   "cell_type": "code",
   "execution_count": 66,
   "metadata": {},
   "outputs": [
    {
     "name": "stdout",
     "output_type": "stream",
     "text": [
      "50 0.506\n",
      "100 0.608\n",
      "150 0.67\n",
      "200 0.715\n",
      "250 0.748\n",
      "300 0.774\n",
      "350 0.796\n",
      "400 0.814\n",
      "450 0.829\n",
      "500 0.842\n",
      "550 0.853\n",
      "600 0.863\n",
      "650 0.872\n",
      "700 0.879\n",
      "750 0.886\n",
      "800 0.892\n",
      "850 0.898\n",
      "900 0.903\n",
      "950 0.908\n"
     ]
    }
   ],
   "source": [
    "for i in range(50, 1000, 50):\n",
    "    print(i, round(Positive_Ranking[0].cumsum()/sum(Positive_Ranking[0]),3)[i])"
   ]
  },
  {
   "cell_type": "markdown",
   "metadata": {},
   "source": [
    "The top-100 most common words represent more than 60% of the total words"
   ]
  },
  {
   "cell_type": "code",
   "execution_count": 67,
   "metadata": {},
   "outputs": [],
   "source": [
    "# pd.DataFrame(Positive_Ranking.index[:200]).to_excel('./data/Positive_Words.xlsx', index_label=False)"
   ]
  },
  {
   "cell_type": "code",
   "execution_count": 68,
   "metadata": {},
   "outputs": [],
   "source": [
    "food = ['breakfast','food','coffee','drink','tea','water','buffet','delicious','eat','everything','nothing']\n",
    "staff = ['staff','helpful','service','reception','polite','desk','attentive','concierge','help','order','request',\n",
    "         'receptionist','professional','everything','nothing']\n",
    "location = ['location','locate','station','centre','close','bus','walk','access','view','park','metro',\t'tram',\n",
    "            'area','center','place','shopping','central','walking','tube','airport','train','attraction',\n",
    "            'distance','transport','street','underground','everything','nothing']\n",
    "value = ['value','free','price','money','cost','everything','nothing']\n",
    "comfort = ['comfortable','quiet','comfy','large','size','convenient','big','comfort','space','huge','sleep',\n",
    "           'everything','nothing']\n",
    "room = ['bed','pillow','bathroom','shower','toilet','bath','towel','sleep','everything','nothing']\n",
    "facilities = ['air','bar','carpet','conditioning','door','elevator','facility','internet','lift','lobby','parking',\n",
    "              'pool','restaurant','spa','terrace','tv','wall','wifi','window','everything','nothing']\n",
    "cleanliness = ['cleanliness','clean','everything','nothing']"
   ]
  },
  {
   "cell_type": "code",
   "execution_count": 69,
   "metadata": {},
   "outputs": [],
   "source": [
    "food_score = [(len(set(i) & set(food)) > 0) * 1 for i in Positive_Lemma]\n",
    "staff_score = [(len(set(i) & set(staff)) > 0) * 1 for i in Positive_Lemma]\n",
    "location_score = [(len(set(i) & set(location)) > 0) * 1 for i in Positive_Lemma]\n",
    "value_score = [(len(set(i) & set(value)) > 0) * 1 for i in Positive_Lemma]\n",
    "comfort_score = [(len(set(i) & set(comfort)) > 0) * 1 for i in Positive_Lemma]\n",
    "room_score = [(len(set(i) & set(room)) > 0) * 1 for i in Positive_Lemma]\n",
    "facilities_score = [(len(set(i) & set(facilities)) > 0) * 1 for i in Positive_Lemma]\n",
    "cleanliness_score = [(len(set(i) & set(cleanliness)) > 0) * 1 for i in Positive_Lemma]"
   ]
  },
  {
   "cell_type": "code",
   "execution_count": 70,
   "metadata": {},
   "outputs": [],
   "source": [
    "df['food_Pos'] = food_score\n",
    "df['staff_Pos'] = staff_score\n",
    "df['location_Pos'] = location_score\n",
    "df['value_Pos'] = value_score\n",
    "df['comfort_Pos'] = comfort_score\n",
    "df['room_Pos'] = room_score\n",
    "df['facilities_Pos'] = facilities_score\n",
    "df['cleanliness_Pos'] = cleanliness_score"
   ]
  },
  {
   "cell_type": "markdown",
   "metadata": {},
   "source": [
    "### Create Dataframe with Individual Scores by Category"
   ]
  },
  {
   "cell_type": "code",
   "execution_count": 71,
   "metadata": {},
   "outputs": [],
   "source": [
    "df_original = pd.read_csv('./data/df_features.gz')"
   ]
  },
  {
   "cell_type": "code",
   "execution_count": 75,
   "metadata": {},
   "outputs": [],
   "source": [
    "df_original = df_original.drop(['food_Neg', 'staff_Neg',\n",
    "       'location_Neg', 'value_Neg', 'comfort_Neg', 'room_Neg',\n",
    "       'facilities_Neg', 'cleanliness_Neg', 'food_Pos', 'staff_Pos',\n",
    "       'location_Pos', 'value_Pos', 'comfort_Pos', 'room_Pos',\n",
    "       'facilities_Pos', 'cleanliness_Pos'], axis=1)"
   ]
  },
  {
   "cell_type": "code",
   "execution_count": 76,
   "metadata": {},
   "outputs": [
    {
     "data": {
      "text/plain": [
       "Index(['Hotel_Address', 'Additional_Number_of_Scoring', 'Review_Date',\n",
       "       'Average_Score', 'Hotel_Name', 'Reviewer_Nationality',\n",
       "       'Review_Total_Negative_Word_Counts', 'Total_Number_of_Reviews',\n",
       "       'Review_Total_Positive_Word_Counts',\n",
       "       'Total_Number_of_Reviews_Reviewer_Has_Given', 'Reviewer_Score',\n",
       "       'days_since_review', 'lat', 'lng', 'Diff', 'Review_Month',\n",
       "       'Review_Year', 'Country', 'City', 'Pet', 'Purpose', 'Whom', 'Room',\n",
       "       'Length', 'Device', 'Room_Recode', 'Nationality_Recode',\n",
       "       'Length_Recode', 'Close_Landmarks', 'Dist_Center', 'Dist_Airport',\n",
       "       'Dist_Train', 'Price', 'Stars', 'Length_N'],\n",
       "      dtype='object')"
      ]
     },
     "execution_count": 76,
     "metadata": {},
     "output_type": "execute_result"
    }
   ],
   "source": [
    "df_original.columns"
   ]
  },
  {
   "cell_type": "code",
   "execution_count": 77,
   "metadata": {},
   "outputs": [],
   "source": [
    "df_updated = pd.concat([df_original, df], axis=1, sort=False)"
   ]
  },
  {
   "cell_type": "code",
   "execution_count": 78,
   "metadata": {
    "scrolled": true
   },
   "outputs": [
    {
     "data": {
      "text/html": [
       "<div>\n",
       "<style scoped>\n",
       "    .dataframe tbody tr th:only-of-type {\n",
       "        vertical-align: middle;\n",
       "    }\n",
       "\n",
       "    .dataframe tbody tr th {\n",
       "        vertical-align: top;\n",
       "    }\n",
       "\n",
       "    .dataframe thead th {\n",
       "        text-align: right;\n",
       "    }\n",
       "</style>\n",
       "<table border=\"1\" class=\"dataframe\">\n",
       "  <thead>\n",
       "    <tr style=\"text-align: right;\">\n",
       "      <th></th>\n",
       "      <th>Hotel_Address</th>\n",
       "      <th>Additional_Number_of_Scoring</th>\n",
       "      <th>Review_Date</th>\n",
       "      <th>Average_Score</th>\n",
       "      <th>Hotel_Name</th>\n",
       "      <th>Reviewer_Nationality</th>\n",
       "      <th>Review_Total_Negative_Word_Counts</th>\n",
       "      <th>Total_Number_of_Reviews</th>\n",
       "      <th>Review_Total_Positive_Word_Counts</th>\n",
       "      <th>Total_Number_of_Reviews_Reviewer_Has_Given</th>\n",
       "      <th>...</th>\n",
       "      <th>facilities_Neg</th>\n",
       "      <th>cleanliness_Neg</th>\n",
       "      <th>food_Pos</th>\n",
       "      <th>staff_Pos</th>\n",
       "      <th>location_Pos</th>\n",
       "      <th>value_Pos</th>\n",
       "      <th>comfort_Pos</th>\n",
       "      <th>room_Pos</th>\n",
       "      <th>facilities_Pos</th>\n",
       "      <th>cleanliness_Pos</th>\n",
       "    </tr>\n",
       "  </thead>\n",
       "  <tbody>\n",
       "    <tr>\n",
       "      <th>0</th>\n",
       "      <td>s Gravesandestraat 55 Oost 1092 AA Amsterdam ...</td>\n",
       "      <td>194</td>\n",
       "      <td>2017-08-03</td>\n",
       "      <td>7.7</td>\n",
       "      <td>Hotel Arena</td>\n",
       "      <td>Russia</td>\n",
       "      <td>397</td>\n",
       "      <td>1403</td>\n",
       "      <td>11</td>\n",
       "      <td>7</td>\n",
       "      <td>...</td>\n",
       "      <td>1</td>\n",
       "      <td>1</td>\n",
       "      <td>0</td>\n",
       "      <td>0</td>\n",
       "      <td>1</td>\n",
       "      <td>0</td>\n",
       "      <td>0</td>\n",
       "      <td>0</td>\n",
       "      <td>0</td>\n",
       "      <td>0</td>\n",
       "    </tr>\n",
       "    <tr>\n",
       "      <th>1</th>\n",
       "      <td>s Gravesandestraat 55 Oost 1092 AA Amsterdam ...</td>\n",
       "      <td>194</td>\n",
       "      <td>2017-08-03</td>\n",
       "      <td>7.7</td>\n",
       "      <td>Hotel Arena</td>\n",
       "      <td>Ireland</td>\n",
       "      <td>0</td>\n",
       "      <td>1403</td>\n",
       "      <td>105</td>\n",
       "      <td>7</td>\n",
       "      <td>...</td>\n",
       "      <td>0</td>\n",
       "      <td>0</td>\n",
       "      <td>1</td>\n",
       "      <td>1</td>\n",
       "      <td>1</td>\n",
       "      <td>0</td>\n",
       "      <td>0</td>\n",
       "      <td>0</td>\n",
       "      <td>1</td>\n",
       "      <td>0</td>\n",
       "    </tr>\n",
       "  </tbody>\n",
       "</table>\n",
       "<p>2 rows × 55 columns</p>\n",
       "</div>"
      ],
      "text/plain": [
       "                                       Hotel_Address  \\\n",
       "0   s Gravesandestraat 55 Oost 1092 AA Amsterdam ...   \n",
       "1   s Gravesandestraat 55 Oost 1092 AA Amsterdam ...   \n",
       "\n",
       "   Additional_Number_of_Scoring Review_Date  Average_Score   Hotel_Name  \\\n",
       "0                           194  2017-08-03            7.7  Hotel Arena   \n",
       "1                           194  2017-08-03            7.7  Hotel Arena   \n",
       "\n",
       "  Reviewer_Nationality  Review_Total_Negative_Word_Counts  \\\n",
       "0              Russia                                 397   \n",
       "1             Ireland                                   0   \n",
       "\n",
       "   Total_Number_of_Reviews  Review_Total_Positive_Word_Counts  \\\n",
       "0                     1403                                 11   \n",
       "1                     1403                                105   \n",
       "\n",
       "   Total_Number_of_Reviews_Reviewer_Has_Given  ...  facilities_Neg  \\\n",
       "0                                           7  ...               1   \n",
       "1                                           7  ...               0   \n",
       "\n",
       "  cleanliness_Neg  food_Pos  staff_Pos  location_Pos  value_Pos  comfort_Pos  \\\n",
       "0               1         0          0             1          0            0   \n",
       "1               0         1          1             1          0            0   \n",
       "\n",
       "  room_Pos facilities_Pos cleanliness_Pos  \n",
       "0        0              0               0  \n",
       "1        0              1               0  \n",
       "\n",
       "[2 rows x 55 columns]"
      ]
     },
     "execution_count": 78,
     "metadata": {},
     "output_type": "execute_result"
    }
   ],
   "source": [
    "df_updated.head(2)"
   ]
  },
  {
   "cell_type": "code",
   "execution_count": 79,
   "metadata": {
    "scrolled": false
   },
   "outputs": [
    {
     "data": {
      "text/plain": [
       "Index(['Hotel_Address', 'Additional_Number_of_Scoring', 'Review_Date',\n",
       "       'Average_Score', 'Hotel_Name', 'Reviewer_Nationality',\n",
       "       'Review_Total_Negative_Word_Counts', 'Total_Number_of_Reviews',\n",
       "       'Review_Total_Positive_Word_Counts',\n",
       "       'Total_Number_of_Reviews_Reviewer_Has_Given', 'Reviewer_Score',\n",
       "       'days_since_review', 'lat', 'lng', 'Diff', 'Review_Month',\n",
       "       'Review_Year', 'Country', 'City', 'Pet', 'Purpose', 'Whom', 'Room',\n",
       "       'Length', 'Device', 'Room_Recode', 'Nationality_Recode',\n",
       "       'Length_Recode', 'Close_Landmarks', 'Dist_Center', 'Dist_Airport',\n",
       "       'Dist_Train', 'Price', 'Stars', 'Length_N', 'Negative_Review',\n",
       "       'Positive_Review', 'Negative_Lemma', 'Positive_Lemma', 'food_Neg',\n",
       "       'staff_Neg', 'location_Neg', 'value_Neg', 'comfort_Neg', 'room_Neg',\n",
       "       'facilities_Neg', 'cleanliness_Neg', 'food_Pos', 'staff_Pos',\n",
       "       'location_Pos', 'value_Pos', 'comfort_Pos', 'room_Pos',\n",
       "       'facilities_Pos', 'cleanliness_Pos'],\n",
       "      dtype='object')"
      ]
     },
     "execution_count": 79,
     "metadata": {},
     "output_type": "execute_result"
    }
   ],
   "source": [
    "df_updated.columns"
   ]
  },
  {
   "cell_type": "code",
   "execution_count": 80,
   "metadata": {},
   "outputs": [],
   "source": [
    "df_features = df_updated.drop(['Negative_Review', 'Positive_Review', 'Negative_Lemma', 'Positive_Lemma'], axis=1)"
   ]
  },
  {
   "cell_type": "markdown",
   "metadata": {},
   "source": [
    "### Create Dataframe with means by Hotel"
   ]
  },
  {
   "cell_type": "code",
   "execution_count": 103,
   "metadata": {},
   "outputs": [],
   "source": [
    "hotels_means = df_features[['Hotel_Address', 'food_Neg',\n",
    "       'staff_Neg', 'location_Neg', 'value_Neg', 'comfort_Neg', 'room_Neg',\n",
    "       'facilities_Neg', 'cleanliness_Neg', 'food_Pos', 'staff_Pos',\n",
    "       'location_Pos', 'value_Pos', 'comfort_Pos', 'room_Pos',\n",
    "       'facilities_Pos', 'cleanliness_Pos']].groupby('Hotel_Address').mean().reset_index()"
   ]
  },
  {
   "cell_type": "code",
   "execution_count": 104,
   "metadata": {},
   "outputs": [
    {
     "data": {
      "text/plain": [
       "Index(['Hotel_Address', 'food_Neg', 'staff_Neg', 'location_Neg', 'value_Neg',\n",
       "       'comfort_Neg', 'room_Neg', 'facilities_Neg', 'cleanliness_Neg',\n",
       "       'food_Pos', 'staff_Pos', 'location_Pos', 'value_Pos', 'comfort_Pos',\n",
       "       'room_Pos', 'facilities_Pos', 'cleanliness_Pos'],\n",
       "      dtype='object')"
      ]
     },
     "execution_count": 104,
     "metadata": {},
     "output_type": "execute_result"
    }
   ],
   "source": [
    "hotels_means.columns"
   ]
  },
  {
   "cell_type": "code",
   "execution_count": 105,
   "metadata": {},
   "outputs": [
    {
     "data": {
      "text/html": [
       "<div>\n",
       "<style scoped>\n",
       "    .dataframe tbody tr th:only-of-type {\n",
       "        vertical-align: middle;\n",
       "    }\n",
       "\n",
       "    .dataframe tbody tr th {\n",
       "        vertical-align: top;\n",
       "    }\n",
       "\n",
       "    .dataframe thead th {\n",
       "        text-align: right;\n",
       "    }\n",
       "</style>\n",
       "<table border=\"1\" class=\"dataframe\">\n",
       "  <thead>\n",
       "    <tr style=\"text-align: right;\">\n",
       "      <th></th>\n",
       "      <th>Hotel_Address</th>\n",
       "      <th>food_Neg</th>\n",
       "      <th>staff_Neg</th>\n",
       "      <th>location_Neg</th>\n",
       "      <th>value_Neg</th>\n",
       "      <th>comfort_Neg</th>\n",
       "      <th>room_Neg</th>\n",
       "      <th>facilities_Neg</th>\n",
       "      <th>cleanliness_Neg</th>\n",
       "      <th>food_Pos</th>\n",
       "      <th>staff_Pos</th>\n",
       "      <th>location_Pos</th>\n",
       "      <th>value_Pos</th>\n",
       "      <th>comfort_Pos</th>\n",
       "      <th>room_Pos</th>\n",
       "      <th>facilities_Pos</th>\n",
       "      <th>cleanliness_Pos</th>\n",
       "    </tr>\n",
       "  </thead>\n",
       "  <tbody>\n",
       "    <tr>\n",
       "      <th>12</th>\n",
       "      <td>1 Impasse Marteau 18th arr 75018 Paris France</td>\n",
       "      <td>0.127778</td>\n",
       "      <td>0.194444</td>\n",
       "      <td>0.638889</td>\n",
       "      <td>0.105556</td>\n",
       "      <td>0.122222</td>\n",
       "      <td>0.088889</td>\n",
       "      <td>0.227778</td>\n",
       "      <td>0.094444</td>\n",
       "      <td>0.205556</td>\n",
       "      <td>0.272222</td>\n",
       "      <td>0.222222</td>\n",
       "      <td>0.105556</td>\n",
       "      <td>0.350000</td>\n",
       "      <td>0.194444</td>\n",
       "      <td>0.150000</td>\n",
       "      <td>0.288889</td>\n",
       "    </tr>\n",
       "    <tr>\n",
       "      <th>1214</th>\n",
       "      <td>Provincialeweg 38 Zuidoost 1108 AB Amsterdam N...</td>\n",
       "      <td>0.191700</td>\n",
       "      <td>0.193676</td>\n",
       "      <td>0.501976</td>\n",
       "      <td>0.150198</td>\n",
       "      <td>0.077075</td>\n",
       "      <td>0.167984</td>\n",
       "      <td>0.187747</td>\n",
       "      <td>0.112648</td>\n",
       "      <td>0.191700</td>\n",
       "      <td>0.369565</td>\n",
       "      <td>0.330040</td>\n",
       "      <td>0.144269</td>\n",
       "      <td>0.379447</td>\n",
       "      <td>0.318182</td>\n",
       "      <td>0.215415</td>\n",
       "      <td>0.235178</td>\n",
       "    </tr>\n",
       "    <tr>\n",
       "      <th>5</th>\n",
       "      <td>1 5 Passage Ruelle 18th arr 75018 Paris France</td>\n",
       "      <td>0.368421</td>\n",
       "      <td>0.315789</td>\n",
       "      <td>0.473684</td>\n",
       "      <td>0.052632</td>\n",
       "      <td>0.263158</td>\n",
       "      <td>0.315789</td>\n",
       "      <td>0.421053</td>\n",
       "      <td>0.157895</td>\n",
       "      <td>0.052632</td>\n",
       "      <td>0.368421</td>\n",
       "      <td>0.052632</td>\n",
       "      <td>0.052632</td>\n",
       "      <td>0.210526</td>\n",
       "      <td>0.157895</td>\n",
       "      <td>0.157895</td>\n",
       "      <td>0.105263</td>\n",
       "    </tr>\n",
       "  </tbody>\n",
       "</table>\n",
       "</div>"
      ],
      "text/plain": [
       "                                          Hotel_Address  food_Neg  staff_Neg  \\\n",
       "12        1 Impasse Marteau 18th arr 75018 Paris France  0.127778   0.194444   \n",
       "1214  Provincialeweg 38 Zuidoost 1108 AB Amsterdam N...  0.191700   0.193676   \n",
       "5        1 5 Passage Ruelle 18th arr 75018 Paris France  0.368421   0.315789   \n",
       "\n",
       "      location_Neg  value_Neg  comfort_Neg  room_Neg  facilities_Neg  \\\n",
       "12        0.638889   0.105556     0.122222  0.088889        0.227778   \n",
       "1214      0.501976   0.150198     0.077075  0.167984        0.187747   \n",
       "5         0.473684   0.052632     0.263158  0.315789        0.421053   \n",
       "\n",
       "      cleanliness_Neg  food_Pos  staff_Pos  location_Pos  value_Pos  \\\n",
       "12           0.094444  0.205556   0.272222      0.222222   0.105556   \n",
       "1214         0.112648  0.191700   0.369565      0.330040   0.144269   \n",
       "5            0.157895  0.052632   0.368421      0.052632   0.052632   \n",
       "\n",
       "      comfort_Pos  room_Pos  facilities_Pos  cleanliness_Pos  \n",
       "12       0.350000  0.194444        0.150000         0.288889  \n",
       "1214     0.379447  0.318182        0.215415         0.235178  \n",
       "5        0.210526  0.157895        0.157895         0.105263  "
      ]
     },
     "execution_count": 105,
     "metadata": {},
     "output_type": "execute_result"
    }
   ],
   "source": [
    "hotels_means.sort_values('location_Neg', ascending=False).head(3)"
   ]
  },
  {
   "cell_type": "code",
   "execution_count": 106,
   "metadata": {},
   "outputs": [],
   "source": [
    "hotels_means.columns = [i+'_Hotel' if i != 'Hotel_Address' else i for i in list(hotels_means.columns) ]"
   ]
  },
  {
   "cell_type": "code",
   "execution_count": 107,
   "metadata": {},
   "outputs": [
    {
     "data": {
      "text/plain": [
       "Index(['Hotel_Address', 'food_Neg_Hotel', 'staff_Neg_Hotel',\n",
       "       'location_Neg_Hotel', 'value_Neg_Hotel', 'comfort_Neg_Hotel',\n",
       "       'room_Neg_Hotel', 'facilities_Neg_Hotel', 'cleanliness_Neg_Hotel',\n",
       "       'food_Pos_Hotel', 'staff_Pos_Hotel', 'location_Pos_Hotel',\n",
       "       'value_Pos_Hotel', 'comfort_Pos_Hotel', 'room_Pos_Hotel',\n",
       "       'facilities_Pos_Hotel', 'cleanliness_Pos_Hotel'],\n",
       "      dtype='object')"
      ]
     },
     "execution_count": 107,
     "metadata": {},
     "output_type": "execute_result"
    }
   ],
   "source": [
    "hotels_means.columns"
   ]
  },
  {
   "cell_type": "markdown",
   "metadata": {},
   "source": [
    "### Merge means by hotel to the features dataframe"
   ]
  },
  {
   "cell_type": "code",
   "execution_count": 115,
   "metadata": {
    "scrolled": true
   },
   "outputs": [],
   "source": [
    "df_features_hotels = pd.merge(df_features, hotels_means, on='Hotel_Address')"
   ]
  },
  {
   "cell_type": "code",
   "execution_count": 116,
   "metadata": {},
   "outputs": [],
   "source": [
    "df_features_hotels.to_csv('./data/df_features.gz', index_label=False, compression=\"gzip\")"
   ]
  },
  {
   "cell_type": "code",
   "execution_count": 119,
   "metadata": {},
   "outputs": [
    {
     "data": {
      "text/plain": [
       "(515738, 67)"
      ]
     },
     "execution_count": 119,
     "metadata": {},
     "output_type": "execute_result"
    }
   ],
   "source": [
    "df_features_hotels.shape"
   ]
  },
  {
   "cell_type": "code",
   "execution_count": 117,
   "metadata": {},
   "outputs": [
    {
     "data": {
      "text/plain": [
       "Index(['Hotel_Address', 'Additional_Number_of_Scoring', 'Review_Date',\n",
       "       'Average_Score', 'Hotel_Name', 'Reviewer_Nationality',\n",
       "       'Review_Total_Negative_Word_Counts', 'Total_Number_of_Reviews',\n",
       "       'Review_Total_Positive_Word_Counts',\n",
       "       'Total_Number_of_Reviews_Reviewer_Has_Given', 'Reviewer_Score',\n",
       "       'days_since_review', 'lat', 'lng', 'Diff', 'Review_Month',\n",
       "       'Review_Year', 'Country', 'City', 'Pet', 'Purpose', 'Whom', 'Room',\n",
       "       'Length', 'Device', 'Room_Recode', 'Nationality_Recode',\n",
       "       'Length_Recode', 'Close_Landmarks', 'Dist_Center', 'Dist_Airport',\n",
       "       'Dist_Train', 'Price', 'Stars', 'Length_N', 'food_Neg', 'staff_Neg',\n",
       "       'location_Neg', 'value_Neg', 'comfort_Neg', 'room_Neg',\n",
       "       'facilities_Neg', 'cleanliness_Neg', 'food_Pos', 'staff_Pos',\n",
       "       'location_Pos', 'value_Pos', 'comfort_Pos', 'room_Pos',\n",
       "       'facilities_Pos', 'cleanliness_Pos', 'food_Neg_Hotel',\n",
       "       'staff_Neg_Hotel', 'location_Neg_Hotel', 'value_Neg_Hotel',\n",
       "       'comfort_Neg_Hotel', 'room_Neg_Hotel', 'facilities_Neg_Hotel',\n",
       "       'cleanliness_Neg_Hotel', 'food_Pos_Hotel', 'staff_Pos_Hotel',\n",
       "       'location_Pos_Hotel', 'value_Pos_Hotel', 'comfort_Pos_Hotel',\n",
       "       'room_Pos_Hotel', 'facilities_Pos_Hotel', 'cleanliness_Pos_Hotel'],\n",
       "      dtype='object')"
      ]
     },
     "execution_count": 117,
     "metadata": {},
     "output_type": "execute_result"
    }
   ],
   "source": [
    "df_features_hotels.columns"
   ]
  },
  {
   "cell_type": "code",
   "execution_count": 120,
   "metadata": {},
   "outputs": [
    {
     "data": {
      "text/html": [
       "<div>\n",
       "<style scoped>\n",
       "    .dataframe tbody tr th:only-of-type {\n",
       "        vertical-align: middle;\n",
       "    }\n",
       "\n",
       "    .dataframe tbody tr th {\n",
       "        vertical-align: top;\n",
       "    }\n",
       "\n",
       "    .dataframe thead th {\n",
       "        text-align: right;\n",
       "    }\n",
       "</style>\n",
       "<table border=\"1\" class=\"dataframe\">\n",
       "  <thead>\n",
       "    <tr style=\"text-align: right;\">\n",
       "      <th></th>\n",
       "      <th>Hotel_Address</th>\n",
       "      <th>Additional_Number_of_Scoring</th>\n",
       "      <th>Review_Date</th>\n",
       "      <th>Average_Score</th>\n",
       "      <th>Hotel_Name</th>\n",
       "      <th>Reviewer_Nationality</th>\n",
       "      <th>Review_Total_Negative_Word_Counts</th>\n",
       "      <th>Total_Number_of_Reviews</th>\n",
       "      <th>Review_Total_Positive_Word_Counts</th>\n",
       "      <th>Total_Number_of_Reviews_Reviewer_Has_Given</th>\n",
       "      <th>...</th>\n",
       "      <th>facilities_Neg_Hotel</th>\n",
       "      <th>cleanliness_Neg_Hotel</th>\n",
       "      <th>food_Pos_Hotel</th>\n",
       "      <th>staff_Pos_Hotel</th>\n",
       "      <th>location_Pos_Hotel</th>\n",
       "      <th>value_Pos_Hotel</th>\n",
       "      <th>comfort_Pos_Hotel</th>\n",
       "      <th>room_Pos_Hotel</th>\n",
       "      <th>facilities_Pos_Hotel</th>\n",
       "      <th>cleanliness_Pos_Hotel</th>\n",
       "    </tr>\n",
       "  </thead>\n",
       "  <tbody>\n",
       "    <tr>\n",
       "      <th>0</th>\n",
       "      <td>s Gravesandestraat 55 Oost 1092 AA Amsterdam ...</td>\n",
       "      <td>194</td>\n",
       "      <td>2017-08-03</td>\n",
       "      <td>7.7</td>\n",
       "      <td>Hotel Arena</td>\n",
       "      <td>Russia</td>\n",
       "      <td>397</td>\n",
       "      <td>1403</td>\n",
       "      <td>11</td>\n",
       "      <td>7</td>\n",
       "      <td>...</td>\n",
       "      <td>0.239506</td>\n",
       "      <td>0.106173</td>\n",
       "      <td>0.237037</td>\n",
       "      <td>0.461728</td>\n",
       "      <td>0.51358</td>\n",
       "      <td>0.123457</td>\n",
       "      <td>0.350617</td>\n",
       "      <td>0.325926</td>\n",
       "      <td>0.249383</td>\n",
       "      <td>0.133333</td>\n",
       "    </tr>\n",
       "    <tr>\n",
       "      <th>1</th>\n",
       "      <td>s Gravesandestraat 55 Oost 1092 AA Amsterdam ...</td>\n",
       "      <td>194</td>\n",
       "      <td>2017-08-03</td>\n",
       "      <td>7.7</td>\n",
       "      <td>Hotel Arena</td>\n",
       "      <td>Ireland</td>\n",
       "      <td>0</td>\n",
       "      <td>1403</td>\n",
       "      <td>105</td>\n",
       "      <td>7</td>\n",
       "      <td>...</td>\n",
       "      <td>0.239506</td>\n",
       "      <td>0.106173</td>\n",
       "      <td>0.237037</td>\n",
       "      <td>0.461728</td>\n",
       "      <td>0.51358</td>\n",
       "      <td>0.123457</td>\n",
       "      <td>0.350617</td>\n",
       "      <td>0.325926</td>\n",
       "      <td>0.249383</td>\n",
       "      <td>0.133333</td>\n",
       "    </tr>\n",
       "    <tr>\n",
       "      <th>2</th>\n",
       "      <td>s Gravesandestraat 55 Oost 1092 AA Amsterdam ...</td>\n",
       "      <td>194</td>\n",
       "      <td>2017-07-31</td>\n",
       "      <td>7.7</td>\n",
       "      <td>Hotel Arena</td>\n",
       "      <td>Australia</td>\n",
       "      <td>42</td>\n",
       "      <td>1403</td>\n",
       "      <td>21</td>\n",
       "      <td>9</td>\n",
       "      <td>...</td>\n",
       "      <td>0.239506</td>\n",
       "      <td>0.106173</td>\n",
       "      <td>0.237037</td>\n",
       "      <td>0.461728</td>\n",
       "      <td>0.51358</td>\n",
       "      <td>0.123457</td>\n",
       "      <td>0.350617</td>\n",
       "      <td>0.325926</td>\n",
       "      <td>0.249383</td>\n",
       "      <td>0.133333</td>\n",
       "    </tr>\n",
       "    <tr>\n",
       "      <th>3</th>\n",
       "      <td>s Gravesandestraat 55 Oost 1092 AA Amsterdam ...</td>\n",
       "      <td>194</td>\n",
       "      <td>2017-07-31</td>\n",
       "      <td>7.7</td>\n",
       "      <td>Hotel Arena</td>\n",
       "      <td>United Kingdom</td>\n",
       "      <td>210</td>\n",
       "      <td>1403</td>\n",
       "      <td>26</td>\n",
       "      <td>1</td>\n",
       "      <td>...</td>\n",
       "      <td>0.239506</td>\n",
       "      <td>0.106173</td>\n",
       "      <td>0.237037</td>\n",
       "      <td>0.461728</td>\n",
       "      <td>0.51358</td>\n",
       "      <td>0.123457</td>\n",
       "      <td>0.350617</td>\n",
       "      <td>0.325926</td>\n",
       "      <td>0.249383</td>\n",
       "      <td>0.133333</td>\n",
       "    </tr>\n",
       "    <tr>\n",
       "      <th>4</th>\n",
       "      <td>s Gravesandestraat 55 Oost 1092 AA Amsterdam ...</td>\n",
       "      <td>194</td>\n",
       "      <td>2017-07-24</td>\n",
       "      <td>7.7</td>\n",
       "      <td>Hotel Arena</td>\n",
       "      <td>New Zealand</td>\n",
       "      <td>140</td>\n",
       "      <td>1403</td>\n",
       "      <td>8</td>\n",
       "      <td>3</td>\n",
       "      <td>...</td>\n",
       "      <td>0.239506</td>\n",
       "      <td>0.106173</td>\n",
       "      <td>0.237037</td>\n",
       "      <td>0.461728</td>\n",
       "      <td>0.51358</td>\n",
       "      <td>0.123457</td>\n",
       "      <td>0.350617</td>\n",
       "      <td>0.325926</td>\n",
       "      <td>0.249383</td>\n",
       "      <td>0.133333</td>\n",
       "    </tr>\n",
       "  </tbody>\n",
       "</table>\n",
       "<p>5 rows × 67 columns</p>\n",
       "</div>"
      ],
      "text/plain": [
       "                                       Hotel_Address  \\\n",
       "0   s Gravesandestraat 55 Oost 1092 AA Amsterdam ...   \n",
       "1   s Gravesandestraat 55 Oost 1092 AA Amsterdam ...   \n",
       "2   s Gravesandestraat 55 Oost 1092 AA Amsterdam ...   \n",
       "3   s Gravesandestraat 55 Oost 1092 AA Amsterdam ...   \n",
       "4   s Gravesandestraat 55 Oost 1092 AA Amsterdam ...   \n",
       "\n",
       "   Additional_Number_of_Scoring Review_Date  Average_Score   Hotel_Name  \\\n",
       "0                           194  2017-08-03            7.7  Hotel Arena   \n",
       "1                           194  2017-08-03            7.7  Hotel Arena   \n",
       "2                           194  2017-07-31            7.7  Hotel Arena   \n",
       "3                           194  2017-07-31            7.7  Hotel Arena   \n",
       "4                           194  2017-07-24            7.7  Hotel Arena   \n",
       "\n",
       "  Reviewer_Nationality  Review_Total_Negative_Word_Counts  \\\n",
       "0              Russia                                 397   \n",
       "1             Ireland                                   0   \n",
       "2           Australia                                  42   \n",
       "3      United Kingdom                                 210   \n",
       "4         New Zealand                                 140   \n",
       "\n",
       "   Total_Number_of_Reviews  Review_Total_Positive_Word_Counts  \\\n",
       "0                     1403                                 11   \n",
       "1                     1403                                105   \n",
       "2                     1403                                 21   \n",
       "3                     1403                                 26   \n",
       "4                     1403                                  8   \n",
       "\n",
       "   Total_Number_of_Reviews_Reviewer_Has_Given  ...  facilities_Neg_Hotel  \\\n",
       "0                                           7  ...              0.239506   \n",
       "1                                           7  ...              0.239506   \n",
       "2                                           9  ...              0.239506   \n",
       "3                                           1  ...              0.239506   \n",
       "4                                           3  ...              0.239506   \n",
       "\n",
       "  cleanliness_Neg_Hotel  food_Pos_Hotel  staff_Pos_Hotel  location_Pos_Hotel  \\\n",
       "0              0.106173        0.237037         0.461728             0.51358   \n",
       "1              0.106173        0.237037         0.461728             0.51358   \n",
       "2              0.106173        0.237037         0.461728             0.51358   \n",
       "3              0.106173        0.237037         0.461728             0.51358   \n",
       "4              0.106173        0.237037         0.461728             0.51358   \n",
       "\n",
       "   value_Pos_Hotel  comfort_Pos_Hotel room_Pos_Hotel facilities_Pos_Hotel  \\\n",
       "0         0.123457           0.350617       0.325926             0.249383   \n",
       "1         0.123457           0.350617       0.325926             0.249383   \n",
       "2         0.123457           0.350617       0.325926             0.249383   \n",
       "3         0.123457           0.350617       0.325926             0.249383   \n",
       "4         0.123457           0.350617       0.325926             0.249383   \n",
       "\n",
       "  cleanliness_Pos_Hotel  \n",
       "0              0.133333  \n",
       "1              0.133333  \n",
       "2              0.133333  \n",
       "3              0.133333  \n",
       "4              0.133333  \n",
       "\n",
       "[5 rows x 67 columns]"
      ]
     },
     "execution_count": 120,
     "metadata": {},
     "output_type": "execute_result"
    }
   ],
   "source": [
    "df_features_hotels.head()"
   ]
  },
  {
   "cell_type": "code",
   "execution_count": 122,
   "metadata": {},
   "outputs": [
    {
     "data": {
      "text/plain": [
       "(515738, 67)"
      ]
     },
     "execution_count": 122,
     "metadata": {},
     "output_type": "execute_result"
    }
   ],
   "source": [
    "df_features_hotels.shape"
   ]
  },
  {
   "cell_type": "code",
   "execution_count": 141,
   "metadata": {},
   "outputs": [
    {
     "data": {
      "text/plain": [
       "MultiIndex([('Diff', 'count'),\n",
       "            ('Diff',  'mean'),\n",
       "            ('Diff',   'std'),\n",
       "            ('Diff',   'min'),\n",
       "            ('Diff',   '25%'),\n",
       "            ('Diff',   '50%'),\n",
       "            ('Diff',   '75%'),\n",
       "            ('Diff',   'max')],\n",
       "           )"
      ]
     },
     "execution_count": 141,
     "metadata": {},
     "output_type": "execute_result"
    }
   ],
   "source": [
    "diff_features.columns"
   ]
  }
 ],
 "metadata": {
  "kernelspec": {
   "display_name": "Python 3",
   "language": "python",
   "name": "python3"
  },
  "language_info": {
   "codemirror_mode": {
    "name": "ipython",
    "version": 3
   },
   "file_extension": ".py",
   "mimetype": "text/x-python",
   "name": "python",
   "nbconvert_exporter": "python",
   "pygments_lexer": "ipython3",
   "version": "3.7.7"
  }
 },
 "nbformat": 4,
 "nbformat_minor": 4
}
