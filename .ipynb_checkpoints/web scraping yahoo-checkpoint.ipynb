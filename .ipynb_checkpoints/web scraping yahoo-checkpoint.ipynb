{
 "cells": [
  {
   "cell_type": "markdown",
   "metadata": {},
   "source": [
    "### Open file and prepare Data"
   ]
  },
  {
   "cell_type": "code",
   "execution_count": 1,
   "metadata": {},
   "outputs": [],
   "source": [
    "import pandas as pd\n",
    "import numpy as np"
   ]
  },
  {
   "cell_type": "code",
   "execution_count": 2,
   "metadata": {},
   "outputs": [],
   "source": [
    "df = pd.read_csv(\"515k-hotel-reviews-data-in-europe.zip\")"
   ]
  },
  {
   "cell_type": "code",
   "execution_count": 3,
   "metadata": {},
   "outputs": [
    {
     "data": {
      "text/plain": [
       "United Kingdom    262301\n",
       "Spain              60149\n",
       "France             59928\n",
       "Netherlands        57214\n",
       "Austria            38939\n",
       "Italy              37207\n",
       "Name: Country, dtype: int64"
      ]
     },
     "execution_count": 3,
     "metadata": {},
     "output_type": "execute_result"
    }
   ],
   "source": [
    "def get_country(adress):\n",
    "    country = adress.split()[-1]\n",
    "    if country == \"Kingdom\":\n",
    "        return(\"United Kingdom\")\n",
    "    else:\n",
    "        return(country)\n",
    "    \n",
    "df['Country'] = df.Hotel_Address.apply(lambda x: get_country(x))\n",
    "df.Country.value_counts()"
   ]
  },
  {
   "cell_type": "code",
   "execution_count": 4,
   "metadata": {},
   "outputs": [
    {
     "data": {
      "text/plain": [
       "London       262301\n",
       "Barcelona     60149\n",
       "Paris         59928\n",
       "Amsterdam     57214\n",
       "Vienna        38939\n",
       "Milan         37207\n",
       "Name: City, dtype: int64"
      ]
     },
     "execution_count": 4,
     "metadata": {},
     "output_type": "execute_result"
    }
   ],
   "source": [
    "def get_city(adress, country):\n",
    "    city = adress.split()[-2]\n",
    "    if country == \"United Kingdom\":\n",
    "        return(adress.split()[-5])\n",
    "    else:\n",
    "        return(city)\n",
    "\n",
    "df['City'] = df[['Hotel_Address','Country']].apply(lambda x: get_city(x[0], x[1]), axis=1)\n",
    "df.City.value_counts()"
   ]
  },
  {
   "cell_type": "markdown",
   "metadata": {},
   "source": [
    "### Scrapping Hotel Prices\n",
    "There's a lot more of information missing which we think is important to get better insights. \n",
    "To get all this information the first thing i need is to get the exact address that directs me into the booking page containing information of each Hotel. \n",
    "This first step will be done through scrapping the links in Google.\n",
    "Once scrapped the final address in booking, another scrapping exercise will be needed in order to get the desired information for each Hotel."
   ]
  },
  {
   "cell_type": "code",
   "execution_count": 5,
   "metadata": {},
   "outputs": [
    {
     "data": {
      "text/plain": [
       "0                    Hotel 11 Cadogan Gardens London\n",
       "1                               Hotel 1K Hotel Paris\n",
       "2    Hotel 25hours Hotel beim MuseumsQuartier Vienna\n",
       "3                                    Hotel 41 London\n",
       "4    Hotel 45 Park Lane Dorchester Collection London\n",
       "dtype: object"
      ]
     },
     "execution_count": 5,
     "metadata": {},
     "output_type": "execute_result"
    }
   ],
   "source": [
    "hotel_city = df[['Hotel_Name','City']].groupby(['Hotel_Name','City']).count().reset_index()\n",
    "scrap = hotel_city.apply(lambda x: ('Hotel ' + x[0] + ' ' + x[1]), axis=1)\n",
    "scrap.head()"
   ]
  },
  {
   "cell_type": "markdown",
   "metadata": {},
   "source": [
    "This is the adress i will use in Google. The idea is that i will pick the first adress coming from booking.com as the final address of the hotel in the sistem. Once i will gather all of the addresses i will try to scrap the prices in each one of them"
   ]
  },
  {
   "cell_type": "code",
   "execution_count": 65,
   "metadata": {},
   "outputs": [],
   "source": [
    "#search_address = ['https://es.search.yahoo.com/search?p=booking.com+'+i.replace(\" \", \"+\") for i in scrap]\n",
    "search_address = ['https://www.startpage.com/do/search?cmd=process_search&query=booking.com+'\n",
    "                     +i.replace(\" \", \"+\") for i in scrap]"
   ]
  },
  {
   "cell_type": "code",
   "execution_count": 66,
   "metadata": {},
   "outputs": [
    {
     "data": {
      "text/plain": [
       "'https://www.startpage.com/do/search?cmd=process_search&query=booking.com+Hotel+H+tel+Les+Dames+du+Panth+on+Paris'"
      ]
     },
     "execution_count": 66,
     "metadata": {},
     "output_type": "execute_result"
    }
   ],
   "source": [
    "search_address[442]"
   ]
  },
  {
   "cell_type": "markdown",
   "metadata": {},
   "source": [
    "Once i've got all the addresses of a Google search i start scrapping the addresses in Booking.\n",
    "\n",
    "I also save the important information just in case i need to start over again"
   ]
  },
  {
   "cell_type": "code",
   "execution_count": 10,
   "metadata": {},
   "outputs": [],
   "source": [
    "import pickle\n",
    "pickle.dump(hotel_city, open('./hotel_city.sav', 'wb'))\n",
    "pickle.dump(search_address, open('./search_address.sav', 'wb'))"
   ]
  },
  {
   "cell_type": "markdown",
   "metadata": {},
   "source": [
    "#### Scrapping of Booking addresses"
   ]
  },
  {
   "cell_type": "code",
   "execution_count": 11,
   "metadata": {},
   "outputs": [],
   "source": [
    "import requests\n",
    "from bs4 import BeautifulSoup\n",
    "import time"
   ]
  },
  {
   "cell_type": "code",
   "execution_count": null,
   "metadata": {},
   "outputs": [],
   "source": [
    "bookingaddress = []"
   ]
  },
  {
   "cell_type": "code",
   "execution_count": 87,
   "metadata": {},
   "outputs": [],
   "source": [
    "begin = 1308\n",
    "bookingaddress = bookingaddress[:begin]"
   ]
  },
  {
   "cell_type": "code",
   "execution_count": 88,
   "metadata": {
    "scrolled": true
   },
   "outputs": [
    {
     "name": "stdout",
     "output_type": "stream",
     "text": [
      "1308 https://www.booking.com/hotel/gb/abbeycourthotel.es.html\n",
      "1309 https://www.booking.com/hotel/gb/the-academy.en-gb.es.html\n",
      "1310 https://www.booking.com/hotel/gb/the-ampersand.en-gb.es.html\n",
      "1311 https://www.booking.com/hotel/gb/the-arch-london.en-gb.es.html\n",
      "1312 https://www.booking.com/hotel/gb/athenaeum.en-gb.es.html\n",
      "1313 https://www.booking.com/hotel/gb/millenniumkensington.en-gb.es.html\n",
      "1314 https://www.booking.com/hotel/gb/thebeaufort.en-gb.es.html\n",
      "1315 https://www.booking.com/hotel/gb/the-beaumont-london.es.html\n",
      "1316 https://www.booking.com/hotel/gb/the-belgrave.en-gb.es.html\n",
      "1317 https://www.booking.com/hotel/gb/the-berkeley.en-gb.es.html\n",
      "1318 https://www.booking.com/hotel/gb/the-bloomsbury.es.html\n",
      "1319 https://www.booking.com/hotel/gb/the-bryson.es.html\n",
      "1320 https://www.booking.com/hotel/gb/capitalhotel.es.html\n",
      "1321 https://www.booking.com/hotel/gb/cavendishstjames.es.html\n",
      "1322 https://www.booking.com/hotel/gb/chamberlainhotel.en-gb.es.html\n",
      "1323 https://www.booking.com/hotel/gb/the-chelsea-harbour.en-gb.es.html\n",
      "1324 https://www.booking.com/hotel/fr/the-chess.es.html\n",
      "1325 https://www.booking.com/hotel/gb/chesterfieldhotelredcarnations.en-gb.es.html\n",
      "1326 https://www.booking.com/hotel/gb/cleveland-square.es.html\n",
      "1327 https://www.booking.com/hotel/nl/thecollegehotel.en-gb.es.html\n",
      "1328 https://www.booking.com/hotel/gb/the-colonnade-london.en-gb.es.html\n",
      "1329 https://www.booking.com/hotel/gb/the-connaught-mayfair.en-gb.es.html\n",
      "1330 https://www.booking.com/hotel/es/the-corner.es.html\n",
      "1331 https://www.booking.com/hotel/gb/thecranley.en-gb.es.html\n",
      "1332 https://www.booking.com/hotel/gb/cumberlandhotellondon.en-gb.es.html\n",
      "1333 https://www.booking.com/hotel/gb/the-curtain.en-gb.es.html\n",
      "1334 https://www.booking.com/hotel/gb/the-dorchester-london.en-gb.es.html\n",
      "1335 https://www.booking.com/hotel/gb/the-drayton-court.en-gb.es.html\n",
      "1336 https://www.booking.com/hotel/nl/blakes.es.html\n",
      "1337 https://www.booking.com/hotel/gb/the-exhibitionist.en-gb.es.html\n",
      "1338 https://www.booking.com/hotel/gb/the-franklin-kensington.en-gb.es.html\n",
      "1339 https://www.booking.com/hotel/es/the-gates-diagonal-barcelona.es.html\n",
      "1340 https://www.booking.com/hotel/gb/the-gore.en-gb.es.html\n",
      "1341 https://www.booking.com/hotel/gb/the-goring.en-gb.es.html\n",
      "1342 https://www.booking.com/hotel/gb/the-grand-at-trafalgar-square.en-gb.es.html\n",
      "1343 https://www.booking.com/hotel/gb/amba-hotel-grosvenor.es.html\n",
      "1344 https://www.booking.com/hotel/at/the-guesthouse-vienna.es.html\n",
      "1345 https://www.booking.com/hotel/gb/belgraves.en-gb.es.html\n",
      "1346 https://www.booking.com/hotel/at/best-western-premier-hotel-harmonie.es.html\n",
      "1347 https://www.booking.com/hotel/gb/the-henrietta.en-gb.es.html\n",
      "1348 https://www.booking.com/hotel/nl/the-hoxton-amsterdam.es.html\n",
      "1349 https://www.booking.com/hotel/gb/the-hoxton-holborn.en-gb.es.html\n",
      "1350 https://www.booking.com/hotel/gb/hoxton.en-gb.es.html\n",
      "1351 https://www.booking.com/hotel/it/the-hub.es.html\n",
      "1352 https://www.booking.com/hotel/gb/the-justin-james-ltd.en-gb.es.html\n",
      "1353 https://www.booking.com/hotel/gb/the-kensington-london.en-gb.es.html\n",
      "1354 https://www.booking.com/hotel/gb/the-king-39-s-head-london.en-gb.es.html\n",
      "1355 https://www.booking.com/hotel/gb/the-lalit-london.en-gb.es.html\n",
      "1356 https://www.booking.com/hotel/gb/the-lanesborough.en-gb.es.html\n",
      "1357 https://www.booking.com/hotel/gb/the-langham-london.en-gb.es.html\n",
      "1358 https://www.booking.com/hotel/gb/the-laslett.en-gb.es.html\n",
      "1359 https://www.booking.com/hotel/gb/the-leonard-and-apartments.en-gb.es.html\n",
      "1360 https://www.booking.com/hotel/at/thelevanteparliament.es.html\n",
      "1361 https://www.booking.com/hotel/es/the-level-at-melia-barcelona-sky.es.html\n",
      "1362 https://www.booking.com/hotel/gb/the-levin.en-gb.es.html\n",
      "1363 https://www.booking.com/hotel/gb/bestwesternlodge.en-gb.es.html\n",
      "1364 https://www.booking.com/hotel/gb/the-london-edition.en-gb.es.html\n",
      "1365 https://www.booking.com/hotel/gb/mandeville.en-gb.es.html\n",
      "1366 https://www.booking.com/hotel/gb/the-montcalm-townhouse.en-gb.es.html\n",
      "1367 https://www.booking.com/hotel/gb/the-marylebone.en-gb.es.html\n",
      "1368 https://www.booking.com/hotel/gb/radissonedwardianmayfair.en-gb.es.html\n",
      "1369 https://www.booking.com/hotel/es/the-mirror-barcelona.es.html\n",
      "1370 https://www.booking.com/hotel/gb/montagueredcarnations.es.html\n",
      "1371 https://www.booking.com/hotel/gb/the-montcalm-london-city.en-gb.es.html\n",
      "1372 https://www.booking.com/hotel/gb/the-montcalm.en-gb.es.html\n",
      "1373 https://www.booking.com/hotel/gb/base2stay.en-gb.es.html\n",
      "1374 https://www.booking.com/hotel/gb/the-nadler-soho.en-gb.es.html\n",
      "1375 https://www.booking.com/hotel/gb/nadler-victoria.en-gb.es.html\n",
      "1376 https://www.booking.com/hotel/gb/the-ned.es.html\n",
      "1377 https://www.booking.com/hotel/es/the-one-barcelona.en-gb.es.html\n",
      "1378 https://www.booking.com/hotel/gb/parkcitykensington.en-gb.es.html\n",
      "1379 https://www.booking.com/hotel/gb/the-park-grand-london-paddington.en-gb.es.html\n",
      "1380 https://www.booking.com/hotel/gb/sheraton-park-tower.en-gb.es.html\n",
      "1381 https://www.booking.com/hotel/gb/the-pelham.en-gb.es.html\n",
      "1382 https://www.booking.com/hotel/gb/shaftesburyhotel.en-gb.es.html\n",
      "1383 https://www.booking.com/hotel/gb/the-pillar.es.html\n",
      "1384 https://www.booking.com/hotel/gb/portobello-london.es.html\n",
      "1385 https://www.booking.com/hotel/gb/shaftesbury-premier-london-notting-hill.en-gb.es.html\n",
      "1386 https://www.booking.com/hotel/gb/the-principal-london.en-gb.es.html\n",
      "1387 https://www.booking.com/hotel/gb/abba-queens-gate-london.en-gb.es.html\n",
      "1388 https://www.booking.com/hotel/gb/ace-london-shoreditch.es.html\n",
      "1389 https://www.booking.com/hotel/gb/rembrandt.en-gb.es.html\n",
      "1390 https://www.booking.com/hotel/at/the-ring.es.html\n",
      "1391 https://www.booking.com/hotel/at/the-ritz-carlton-vienna.es.html\n",
      "1392 https://www.booking.com/hotel/gb/the-ritz-london.en-gb.es.html\n",
      "1393 https://www.booking.com/hotel/gb/the-rockwell.en-gb.es.html\n",
      "1394 https://www.booking.com/hotel/gb/therookery.en-gb.es.html\n",
      "1395 https://www.booking.com/hotel/gb/royalhorseguards.en-gb.es.html\n",
      "1396 https://www.booking.com/hotel/gb/queens-london2.es.html\n",
      "1397 https://www.booking.com/hotel/gb/the-savoy.en-gb.es.html\n",
      "1398 https://www.booking.com/hotel/gb/the-soho.es.html\n",
      "1399 https://www.booking.com/hotel/it/the-square-milano-duomo.es.html\n",
      "1400 https://www.booking.com/hotel/gb/the-stafford-london.en-gb.es.html\n",
      "1401 https://www.booking.com/hotel/nl/the-student-amsterdam-city-amsterdam2.en-gb.es.html\n",
      "1402 https://www.booking.com/hotel/gb/the-sumner.en-gb.es.html\n",
      "1403 https://www.booking.com/hotel/gb/the-tophams.en-gb.es.html\n",
      "1404 https://www.booking.com/hotel/nl/toren.en-gb.es.html\n",
      "1405 https://www.booking.com/hotel/gb/thistletower.en-gb.es.html\n",
      "1406 https://www.booking.com/hotel/gb/the-trafalgar-st-james-london-curio-collection-by-hilton.en-gb.es.html\n",
      "1407 https://www.booking.com/hotel/gb/victoria-station.es.html\n",
      "1408 https://www.booking.com/hotel/gb/the-waldorf-hilton.en-gb.es.html\n",
      "1409 https://www.booking.com/hotel/gb/the-wellesley.en-gb.es.html\n",
      "1410 https://www.booking.com/hotel/gb/royalcourtapartments.en-gb.es.html\n",
      "1411 https://www.booking.com/hotel/gb/the-westbridge-limited.en-gb.es.html\n",
      "1412 https://www.booking.com/hotel/gb/westbury-hotel.en-gb.es.html\n",
      "1413 https://www.booking.com/hotel/it/westinpalacemilano.es.html\n",
      "1414 https://www.booking.com/hotel/fr/thewestinparis.es.html\n",
      "1415 https://www.booking.com/hotel/gb/the-whitechapel.en-gb.es.html\n",
      "1416 https://www.booking.com/hotel/es/the-wittmore.en-gb.es.html\n",
      "1417 https://www.booking.com/hotel/it/the-ralph-suite.en-gb.es.html\n",
      "1418 https://www.booking.com/hotel/gb/the-zetter.en-gb.es.html\n",
      "1419 https://www.booking.com/hotel/gb/the-zetter-townhouse.en-gb.es.html\n",
      "1420 https://www.booking.com/hotel/gb/the-zetter-townhouse-marylebone.en-gb.es.html\n",
      "1421 https://www.booking.com/hotel/gb/mic-and-conference-centre.en-gb.es.html\n",
      "1422 https://www.booking.com/hotel/gb/euston-square-hitel.en-gb.es.html\n",
      "1423 https://www.booking.com/hotel/gb/thistlebloomsbury.en-gb.es.html\n",
      "1424 https://www.booking.com/hotel/gb/thistlehydepark.en-gb.es.html\n",
      "1425 https://www.booking.com/hotel/gb/kensingtongardens.en-gb.es.html\n",
      "1426 https://www.booking.com/hotel/gb/thistletrafalgar.en-gb.es.html\n",
      "1427 https://www.booking.com/hotel/gb/threadneedles-london.en-gb.es.html\n"
     ]
    },
    {
     "name": "stdout",
     "output_type": "stream",
     "text": [
      "1428 https://www.booking.com/hotel/fr/timhotel-blanche-fontaine.es.html\n",
      "1429 https://www.booking.com/hotel/fr/bruyereparis.es.html\n",
      "1430 https://www.booking.com/hotel/it/town-house-galleria.es.html\n",
      "1431 https://www.booking.com/hotel/it/town-house-galleria.es.html\n",
      "1432 https://www.booking.com/hotel/it/town-house-galleria.es.html\n",
      "1433 https://www.booking.com/hotel/it/town-house-galleria.es.html\n",
      "1434 https://www.booking.com/hotel/fr/trinite.es.html\n",
      "1435 https://www.booking.com/hotel/es/solmeliaapolo.es.html\n",
      "1436 https://www.booking.com/hotel/es/hotel-barcelona-condal-mar.es.html\n",
      "1437 https://www.booking.com/hotel/gb/twentynevernsquare.en-gb.es.html\n",
      "1438 https://www.booking.com/hotel/es/nunezurgell.es.html\n",
      "1439 https://www.booking.com/hotel/it/centurytower.es.html\n",
      "1440 https://www.booking.com/hotel/it/una-cusani.es.html\n",
      "1441 https://www.booking.com/hotel/it/unamediterraneo.es.html\n",
      "1442 https://www.booking.com/hotel/it/una-scandinavia.es.html\n",
      "1443 https://www.booking.com/hotel/it/una-maison-milano.es.html\n",
      "1444 https://www.booking.com/hotel/gb/united-lodge-london.es.html\n",
      "1445 https://www.booking.com/hotel/es/upper-diagonal-barcelona.es.html\n",
      "1446 https://www.booking.com/hotel/it/uptown-palace.es.html\n",
      "1447 https://www.booking.com/hotel/nl/urban-lodge.en-gb.es.html\n",
      "1448 https://www.booking.com/hotel/fr/vice-versa.es.html\n",
      "1449 https://www.booking.com/hotel/fr/victoire-amp-germain.es.html\n",
      "1450 https://www.booking.com/hotel/fr/victoiresopera.es.html\n",
      "1451 https://www.booking.com/hotel/es/victoria-palace.es.html\n",
      "1452 https://www.booking.com/hotel/at/vienna-marriott.es.html\n",
      "1453 https://www.booking.com/hotel/at/vienna-sporthotel.es.html\n",
      "1454 https://www.booking.com/hotel/es/turo-de-vilana.es.html\n",
      "1455 https://www.booking.com/hotel/fr/villaalessandra.es.html\n",
      "1456 https://www.booking.com/hotel/fr/villabeaumarchais_paris.es.html\n",
      "1457 https://www.booking.com/hotel/fr/villaeugenie.es.html\n",
      "1458 https://www.booking.com/hotel/fr/lutece.es.html\n",
      "1459 https://www.booking.com/hotel/fr/villamontparnasse.es.html\n",
      "1460 https://www.booking.com/hotel/fr/villaoperadrouot.es.html\n",
      "1461 https://www.booking.com/hotel/fr/villapantheon.es.html\n",
      "1462 https://www.booking.com/hotel/fr/villapantheon.es.html\n",
      "1463 https://www.booking.com/hotel/es/vincci-bit.es.html\n",
      "1464 https://www.booking.com/hotel/es/vincci-gala.es.html\n",
      "1465 https://www.booking.com/hotel/es/vincci-mae.es.html\n",
      "1466 https://www.booking.com/hotel/es/vinccimaritimo.es.html\n",
      "1467 https://www.booking.com/hotel/nl/w-amsterdam.es.html\n",
      "1468 https://www.booking.com/hotel/es/w-barcelona.es.html\n",
      "1469 https://www.booking.com/hotel/gb/w-london-leicester-square.en-gb.es.html\n",
      "1470 https://www.booking.com/hotel/fr/w-paris-opa-c-ra.es.html\n",
      "1471 https://www.booking.com/hotel/gb/westfield-rooms.en-gb.es.html\n",
      "1472 https://www.booking.com/hotel/nl/waldorf-astoria-amsterdam.es.html\n",
      "1473 https://www.booking.com/hotel/fr/hotelwaldorfmadeleine.es.html\n",
      "1474 https://www.booking.com/hotel/fr/warwickchampselysees.es.html\n",
      "1475 https://www.booking.com/hotel/gb/washington-mayfair.en-gb.es.html\n",
      "1476 https://www.booking.com/hotel/nl/westcord-art-hotel-amsterdam-4-stars.es.html\n",
      "1477 https://www.booking.com/hotel/nl/westcord-fashion-hotel-amsterdam.es.html\n",
      "1478 https://www.booking.com/hotel/fr/westside-arc-de-triomphe.es.html\n",
      "1479 https://www.booking.com/hotel/es/wilson.es.html\n",
      "1480 https://www.booking.com/hotel/gb/windermerehotel.es.html\n",
      "1481 https://www.booking.com/hotel/it/windsor.es.html\n",
      "1482 https://www.booking.com/hotel/fr/windsor-opera.es.html\n",
      "1483 https://www.booking.com/hotel/it/worldhotel-cristoforo-colombo.es.html\n",
      "1484 https://www.booking.com/hotel/fr/pierrearcdetriomphe.es.html\n",
      "1485 https://www.booking.com/hotel/es/zenitbarna.es.html\n",
      "1486 https://www.booking.com/hotel/es/zenitcondeborrell.es.html\n",
      "1487 https://www.booking.com/hotel/nl/art-otel-amsterdam.es.html\n",
      "1488 https://www.booking.com/hotel/nl/citizenm-amsterdam-city.en-gb.es.html\n",
      "1489 https://www.booking.com/hotel/gb/citizenm-london-bankside.en-gb.es.html\n",
      "1490 https://www.booking.com/hotel/gb/citizenm-london-shoreditch.en-gb.es.html\n",
      "1491 https://www.booking.com/hotel/gb/citizenm-tower-of-london-london.en-gb.es.html\n",
      "1492 https://www.booking.com/hotel/gb/every-hotel-piccadilly.en-gb.es.html\n",
      "1493 https://www.booking.com/hotel/at/pentahotel-vienna.es.html\n"
     ]
    }
   ],
   "source": [
    "for i, hotel in enumerate(search_address[begin:]):\n",
    "    URL = hotel\n",
    "    page = requests.get(URL)\n",
    "    soup = BeautifulSoup(page.content, 'html.parser')\n",
    "    bkng = []\n",
    "    \n",
    "    for page in soup.find_all('a', href=True):\n",
    "        if page['href'][:30] == 'https://www.booking.com/hotel/':\n",
    "            bkng.append(page['href'])\n",
    "    \n",
    "    if bkng[0][-8:] != '.es.html':\n",
    "        addhotel = bkng[0][:-5]+'.es.html'\n",
    "        \n",
    "    bookingaddress.append(addhotel)\n",
    "    print(begin+i,addhotel)"
   ]
  },
  {
   "cell_type": "code",
   "execution_count": 89,
   "metadata": {},
   "outputs": [],
   "source": [
    "pickle.dump(bookingaddress, open('./bookingaddress.sav', 'wb'))"
   ]
  },
  {
   "cell_type": "markdown",
   "metadata": {},
   "source": [
    "#### Scrapping of other Booking information (sample of 1)"
   ]
  },
  {
   "cell_type": "code",
   "execution_count": 11,
   "metadata": {},
   "outputs": [],
   "source": [
    "import json\n",
    "i = 0"
   ]
  },
  {
   "cell_type": "code",
   "execution_count": 12,
   "metadata": {},
   "outputs": [
    {
     "name": "stdout",
     "output_type": "stream",
     "text": [
      "https://www.booking.com/hotel/gb/number-eleven.es.html\n"
     ]
    }
   ],
   "source": [
    "head = {\"User-Agent\":\"Mozilla/5.0 (X11; Linux x86_64) AppleWebKit/537.36 (KHTML, like Gecko) Chrome/50.0.2661.75 Safari/537.36\"}\n",
    "URL = bookingaddress[i]\n",
    "page = requests.get(URL, headers=head)\n",
    "soup = BeautifulSoup(page.content, 'html.parser')\n",
    "print(bookingaddress[i])"
   ]
  },
  {
   "cell_type": "markdown",
   "metadata": {},
   "source": [
    "Get the Header of the page ¿?"
   ]
  },
  {
   "cell_type": "code",
   "execution_count": 13,
   "metadata": {},
   "outputs": [],
   "source": [
    "data = soup.select(\"[type='application/ld+json']\")[0]"
   ]
  },
  {
   "cell_type": "markdown",
   "metadata": {},
   "source": [
    "Get the price from the Header"
   ]
  },
  {
   "cell_type": "code",
   "execution_count": 19,
   "metadata": {},
   "outputs": [],
   "source": [
    "pricetag = json.loads(data.text)['priceRange']\n",
    "price = int(pricetag.split(\"€\",1)[1].split()[0])"
   ]
  },
  {
   "cell_type": "markdown",
   "metadata": {},
   "source": [
    "Get the stars of the Hotel"
   ]
  },
  {
   "cell_type": "code",
   "execution_count": 21,
   "metadata": {},
   "outputs": [],
   "source": [
    "stars = soup.find(class_='star_track')['title']"
   ]
  },
  {
   "cell_type": "markdown",
   "metadata": {},
   "source": [
    "Get the name of the Hotel"
   ]
  },
  {
   "cell_type": "code",
   "execution_count": 20,
   "metadata": {},
   "outputs": [],
   "source": [
    "name = json.loads(data.text)['name']"
   ]
  },
  {
   "cell_type": "markdown",
   "metadata": {},
   "source": [
    "Get the facilities from Booking"
   ]
  },
  {
   "cell_type": "code",
   "execution_count": 26,
   "metadata": {},
   "outputs": [],
   "source": [
    "facilities = {}\n",
    "raw = soup.find_all(class_='facilitiesChecklistSection')\n",
    "for i in raw:\n",
    "    dept = i.getText().split('\\n')\n",
    "    facilities_dept = [x for x in i.getText().split('\\n') if x]\n",
    "    dept = facilities_dept[0]\n",
    "    items = facilities_dept[1:]    \n",
    "    facilities[dept] = items"
   ]
  },
  {
   "cell_type": "markdown",
   "metadata": {},
   "source": [
    "Create the Dictionary with the data"
   ]
  },
  {
   "cell_type": "code",
   "execution_count": 50,
   "metadata": {},
   "outputs": [],
   "source": [
    "hotels = {}\n",
    "hotels[name] = {'Price': price, 'Stars': stars, 'Facilities': facilities, 'Header': json.loads(data.text)}"
   ]
  },
  {
   "cell_type": "markdown",
   "metadata": {},
   "source": [
    "#### Scrapping of other Booking information (complete dataset for loop)"
   ]
  },
  {
   "cell_type": "code",
   "execution_count": 62,
   "metadata": {},
   "outputs": [],
   "source": [
    "import json"
   ]
  },
  {
   "cell_type": "code",
   "execution_count": 63,
   "metadata": {},
   "outputs": [
    {
     "name": "stdout",
     "output_type": "stream",
     "text": [
      "0 https://www.booking.com/hotel/gb/number-eleven.es.html\n",
      "1 https://www.booking.com/hotel/fr/1-k-hotel.es.html\n",
      "2 https://www.booking.com/hotel/at/25hours-wien.es.html\n",
      "3 https://www.booking.com/hotel/gb/41clubredcarnations.es.html\n",
      "4 https://www.booking.com/hotel/gb/parklane.es.html\n",
      "5 https://www.booking.com/hotel/gb/88-studios.es.html\n",
      "6 https://www.booking.com/hotel/fr/9hotel-republique.es.html\n",
      "7 https://www.booking.com/hotel/fr/a-la-villa-madame.es.html\n",
      "8 https://www.booking.com/hotel/es/abac-barcelona.es.html\n",
      "9 https://www.booking.com/hotel/es/achotelsbarcelona.es.html\n",
      "10 https://www.booking.com/hotel/es/ac-marriott-diagonal-lilla.es.html\n",
      "11 https://www.booking.com/hotel/es/acirla.es.html\n",
      "12 https://www.booking.com/hotel/it/ac-milano.es.html\n",
      "13 https://www.booking.com/hotel/fr/ac-paris-porte-maillot-by-marriott.es.html\n",
      "14 https://www.booking.com/hotel/es/ac-sants.es.html\n"
     ]
    }
   ],
   "source": [
    "head = {\"User-Agent\":\"Mozilla/5.0 (X11; Linux x86_64) AppleWebKit/537.36 (KHTML, like Gecko) Chrome/50.0.2661.75 Safari/537.36\"}\n",
    "hotels = {}\n",
    "name_scrap = []\n",
    "\n",
    "for num, url in enumerate(bookingaddress):\n",
    "    \n",
    "    print(num, url)\n",
    "    \n",
    "    URL = url\n",
    "    page = requests.get(URL, headers=head)\n",
    "    soup = BeautifulSoup(page.content, 'html.parser')\n",
    "    \n",
    "    # Get Header\n",
    "    data = soup.select(\"[type='application/ld+json']\")[0]\n",
    "    \n",
    "    # Get Hotel Name\n",
    "    name = json.loads(data.text)['name']\n",
    "    name_scrap.append(name)\n",
    "    \n",
    "    # Get Price\n",
    "    pricetag = json.loads(data.text)['priceRange']\n",
    "    price = int(pricetag.split(\"€\",1)[1].split()[0])\n",
    "    \n",
    "    # Get Stars\n",
    "    stars = soup.find(class_='star_track')['title']\n",
    "    \n",
    "    # Get Facilities    \n",
    "    facilities = {}\n",
    "    raw = soup.find_all(class_='facilitiesChecklistSection')\n",
    "    for i in raw:\n",
    "        dept = i.getText().split('\\n')\n",
    "        facilities_dept = [x for x in i.getText().split('\\n') if x]\n",
    "        dept = facilities_dept[0]\n",
    "        items = facilities_dept[1:]    \n",
    "        facilities[dept] = items\n",
    "        \n",
    "    # Append Information to Dicctionary\n",
    "    hotels[name] = {'Price': price, 'Stars': stars, 'Facilities': facilities, 'Header': json.loads(data.text)}"
   ]
  },
  {
   "cell_type": "code",
   "execution_count": 25,
   "metadata": {},
   "outputs": [],
   "source": [
    "#name_scrap"
   ]
  },
  {
   "cell_type": "code",
   "execution_count": 22,
   "metadata": {},
   "outputs": [],
   "source": [
    "#hotels"
   ]
  },
  {
   "cell_type": "code",
   "execution_count": 42,
   "metadata": {
    "scrolled": true
   },
   "outputs": [
    {
     "data": {
      "text/plain": [
       "[nan, 'The Adria Hotel']"
      ]
     },
     "execution_count": 42,
     "metadata": {},
     "output_type": "execute_result"
    }
   ],
   "source": [
    "#[i for i in hotels]"
   ]
  },
  {
   "cell_type": "code",
   "execution_count": 24,
   "metadata": {
    "scrolled": true
   },
   "outputs": [],
   "source": [
    "#for i in hotels:\n",
    "#    print(hotels[i]['Header']['url'])"
   ]
  },
  {
   "cell_type": "markdown",
   "metadata": {},
   "source": [
    "#### All the process in only one For Loop"
   ]
  },
  {
   "cell_type": "code",
   "execution_count": 70,
   "metadata": {},
   "outputs": [],
   "source": [
    "import requests\n",
    "from bs4 import BeautifulSoup\n",
    "import time"
   ]
  },
  {
   "cell_type": "code",
   "execution_count": 71,
   "metadata": {},
   "outputs": [],
   "source": [
    "hotel_city = pickle.load(open('./hotel_city.sav', 'rb'))\n",
    "google_address = pickle.load(open('./google_address.sav', 'rb'))"
   ]
  },
  {
   "cell_type": "code",
   "execution_count": 72,
   "metadata": {},
   "outputs": [],
   "source": [
    "head = {\"User-Agent\":\"Mozilla/5.0 (X11; Linux x86_64) AppleWebKit/537.36 (KHTML, like Gecko) Chrome/50.0.2661.75 Safari/537.36\"}\n",
    "bookingaddress = []\n",
    "hotels = {}\n",
    "name_scraped = []\n",
    "address_scraped = []\n",
    "begin = 0"
   ]
  },
  {
   "cell_type": "code",
   "execution_count": 73,
   "metadata": {
    "scrolled": false
   },
   "outputs": [
    {
     "name": "stdout",
     "output_type": "stream",
     "text": [
      "0 https://www.booking.com/hotel/gb/number-eleven.es.html\n",
      "1 https://www.booking.com/hotel/fr/1-k-hotel.es.html\n",
      "2 https://www.booking.com/hotel/at/25hours-wien.es.html\n",
      "3 https://www.booking.com/hotel/gb/41clubredcarnations.es.html\n",
      "4 https://www.booking.com/hotel/gb/parklane.es.html\n",
      "5 https://www.booking.com/hotel/gb/88-studios.es.html\n",
      "6 https://www.booking.com/hotel/fr/9hotel-republique.es.html\n",
      "7 https://www.booking.com/hotel/fr/a-la-villa-madame.es.html\n",
      "8 https://www.booking.com/hotel/es/abac-barcelona.es.html\n",
      "9 https://www.booking.com/hotel/es/achotelsbarcelona.es.html\n",
      "10 https://www.booking.com/hotel/es/ac-marriott-diagonal-lilla.es.html\n",
      "11 https://www.booking.com/hotel/es/acirla.es.html\n"
     ]
    },
    {
     "ename": "IndexError",
     "evalue": "list index out of range",
     "output_type": "error",
     "traceback": [
      "\u001b[1;31m---------------------------------------------------------------------------\u001b[0m",
      "\u001b[1;31mIndexError\u001b[0m                                Traceback (most recent call last)",
      "\u001b[1;32m<ipython-input-73-4ef55387cb7c>\u001b[0m in \u001b[0;36m<module>\u001b[1;34m\u001b[0m\n\u001b[0;32m      9\u001b[0m         \u001b[1;32mif\u001b[0m \u001b[0mpage\u001b[0m\u001b[1;33m[\u001b[0m\u001b[1;34m'href'\u001b[0m\u001b[1;33m]\u001b[0m\u001b[1;33m[\u001b[0m\u001b[1;33m:\u001b[0m\u001b[1;36m37\u001b[0m\u001b[1;33m]\u001b[0m \u001b[1;33m==\u001b[0m \u001b[1;34m'/url?q=https://www.booking.com/hotel/'\u001b[0m\u001b[1;33m:\u001b[0m\u001b[1;33m\u001b[0m\u001b[1;33m\u001b[0m\u001b[0m\n\u001b[0;32m     10\u001b[0m             \u001b[0mbkng\u001b[0m\u001b[1;33m.\u001b[0m\u001b[0mappend\u001b[0m\u001b[1;33m(\u001b[0m\u001b[0mpage\u001b[0m\u001b[1;33m[\u001b[0m\u001b[1;34m'href'\u001b[0m\u001b[1;33m]\u001b[0m\u001b[1;33m[\u001b[0m\u001b[1;36m7\u001b[0m\u001b[1;33m:\u001b[0m\u001b[1;33m]\u001b[0m\u001b[1;33m.\u001b[0m\u001b[0msplit\u001b[0m\u001b[1;33m(\u001b[0m\u001b[1;34m'&'\u001b[0m\u001b[1;33m,\u001b[0m \u001b[1;36m1\u001b[0m\u001b[1;33m)\u001b[0m\u001b[1;33m[\u001b[0m\u001b[1;36m0\u001b[0m\u001b[1;33m]\u001b[0m\u001b[1;33m)\u001b[0m\u001b[1;33m\u001b[0m\u001b[1;33m\u001b[0m\u001b[0m\n\u001b[1;32m---> 11\u001b[1;33m     \u001b[1;32mif\u001b[0m \u001b[0mbkng\u001b[0m\u001b[1;33m[\u001b[0m\u001b[1;36m0\u001b[0m\u001b[1;33m]\u001b[0m\u001b[1;33m[\u001b[0m\u001b[1;33m-\u001b[0m\u001b[1;36m8\u001b[0m\u001b[1;33m:\u001b[0m\u001b[1;33m]\u001b[0m \u001b[1;33m!=\u001b[0m \u001b[1;34m'.es.html'\u001b[0m\u001b[1;33m:\u001b[0m\u001b[1;33m\u001b[0m\u001b[1;33m\u001b[0m\u001b[0m\n\u001b[0m\u001b[0;32m     12\u001b[0m         \u001b[0mbkng\u001b[0m\u001b[1;33m[\u001b[0m\u001b[1;36m0\u001b[0m\u001b[1;33m]\u001b[0m \u001b[1;33m=\u001b[0m \u001b[0mbkng\u001b[0m\u001b[1;33m[\u001b[0m\u001b[1;36m0\u001b[0m\u001b[1;33m]\u001b[0m\u001b[1;33m[\u001b[0m\u001b[1;33m:\u001b[0m\u001b[1;33m-\u001b[0m\u001b[1;36m5\u001b[0m\u001b[1;33m]\u001b[0m\u001b[1;33m+\u001b[0m\u001b[1;34m'.es.html'\u001b[0m\u001b[1;33m\u001b[0m\u001b[1;33m\u001b[0m\u001b[0m\n\u001b[0;32m     13\u001b[0m \u001b[1;33m\u001b[0m\u001b[0m\n",
      "\u001b[1;31mIndexError\u001b[0m: list index out of range"
     ]
    }
   ],
   "source": [
    "for i, hotel in enumerate(google_address[begin:]):\n",
    "    \n",
    "    # Get Booking.com Address from Google\n",
    "    URL = hotel\n",
    "    page = requests.get(URL)\n",
    "    soup = BeautifulSoup(page.content, 'html.parser')\n",
    "    bkng = []\n",
    "    for page in soup.find_all('a', href=True):\n",
    "        if page['href'][:37] == '/url?q=https://www.booking.com/hotel/':\n",
    "            bkng.append(page['href'][7:].split('&', 1)[0])\n",
    "    if bkng[0][-8:] != '.es.html':\n",
    "        bkng[0] = bkng[0][:-5]+'.es.html'\n",
    "        \n",
    "    bookingaddress.append(bkng[0])\n",
    "    print(i+begin,bkng[0])\n",
    "    time.sleep(6)\n",
    "        \n",
    "    # Open Booking.com webpage\n",
    "    URL = bkng[0]\n",
    "    page = requests.get(URL, headers=head)\n",
    "    soup = BeautifulSoup(page.content, 'html.parser')\n",
    "    \n",
    "    # Get Header\n",
    "    if len(soup.select(\"[type='application/ld+json']\")) > 0:\n",
    "        data = soup.select(\"[type='application/ld+json']\")[0]\n",
    "        hotel_header = json.loads(data.text)\n",
    "    else:\n",
    "        continue\n",
    "    \n",
    "    # Get Hotel Name\n",
    "    name = json.loads(data.text)['name']\n",
    "    name_scraped.append(name)\n",
    "    address_scraped.append(hotel)\n",
    "    \n",
    "    # Get Price\n",
    "    pricetag = json.loads(data.text)['priceRange']\n",
    "    if price != None:\n",
    "        price = int(pricetag.split(\"€\",1)[1].split()[0])\n",
    "    else:\n",
    "        price = np.nan\n",
    "        \n",
    "    # Get Stars\n",
    "    if soup.find(class_='star_track') != None: \n",
    "        stars = soup.find(class_='star_track')['title']\n",
    "    else:\n",
    "        stars = np.nan\n",
    "    \n",
    "    # Get Facilities    \n",
    "    facilities = {}\n",
    "    raw = soup.find_all(class_='facilitiesChecklistSection')\n",
    "    for i in raw:\n",
    "        dept = i.getText().split('\\n')\n",
    "        facilities_dept = [x for x in i.getText().split('\\n') if x]\n",
    "        dept = facilities_dept[0]\n",
    "        items = facilities_dept[1:]    \n",
    "        facilities[dept] = items\n",
    "        \n",
    "    # Append Information to Dicctionary\n",
    "    hotels[name] = {'Price': price, 'Stars': stars, 'Facilities': facilities, 'Header': hotel_header}"
   ]
  },
  {
   "cell_type": "code",
   "execution_count": null,
   "metadata": {},
   "outputs": [],
   "source": [
    "import pickle\n",
    "pickle.dump(hotels, open('./hotels.sav', 'wb'))\n",
    "pickle.dump(bookingaddress, open('./bookingaddress.sav', 'wb'))\n",
    "pickle.dump(name_scrap, open('./name_scrap.sav', 'wb'))"
   ]
  }
 ],
 "metadata": {
  "kernelspec": {
   "display_name": "Python 3",
   "language": "python",
   "name": "python3"
  },
  "language_info": {
   "codemirror_mode": {
    "name": "ipython",
    "version": 3
   },
   "file_extension": ".py",
   "mimetype": "text/x-python",
   "name": "python",
   "nbconvert_exporter": "python",
   "pygments_lexer": "ipython3",
   "version": "3.7.4"
  },
  "toc": {
   "base_numbering": 1,
   "nav_menu": {},
   "number_sections": true,
   "sideBar": true,
   "skip_h1_title": false,
   "title_cell": "Table of Contents",
   "title_sidebar": "Contents",
   "toc_cell": false,
   "toc_position": {
    "height": "calc(100% - 180px)",
    "left": "10px",
    "top": "150px",
    "width": "312px"
   },
   "toc_section_display": true,
   "toc_window_display": false
  }
 },
 "nbformat": 4,
 "nbformat_minor": 4
}
