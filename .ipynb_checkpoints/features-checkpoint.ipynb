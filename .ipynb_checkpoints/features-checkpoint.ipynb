{
 "cells": [
  {
   "cell_type": "markdown",
   "metadata": {},
   "source": [
    "### Open file and prepare Data"
   ]
  },
  {
   "cell_type": "code",
   "execution_count": 1,
   "metadata": {},
   "outputs": [],
   "source": [
    "import pandas as pd\n",
    "import numpy as np\n",
    "import pickle\n",
    "import json"
   ]
  },
  {
   "cell_type": "code",
   "execution_count": 2,
   "metadata": {},
   "outputs": [],
   "source": [
    "df = pd.read_csv(\"./data/515k-hotel-reviews-data-in-europe.zip\")"
   ]
  },
  {
   "cell_type": "markdown",
   "metadata": {},
   "source": [
    "#### Create country column"
   ]
  },
  {
   "cell_type": "code",
   "execution_count": 3,
   "metadata": {},
   "outputs": [
    {
     "data": {
      "text/plain": [
       "United Kingdom    262301\n",
       "Spain              60149\n",
       "France             59928\n",
       "Netherlands        57214\n",
       "Austria            38939\n",
       "Italy              37207\n",
       "Name: Country, dtype: int64"
      ]
     },
     "execution_count": 3,
     "metadata": {},
     "output_type": "execute_result"
    }
   ],
   "source": [
    "def get_country(adress):\n",
    "    country = adress.split()[-1]\n",
    "    if country == \"Kingdom\":\n",
    "        return (\"United Kingdom\")\n",
    "    else:\n",
    "        return (country)\n",
    "\n",
    "\n",
    "df['Country'] = df.Hotel_Address.apply(lambda x: get_country(x))\n",
    "df.Country.value_counts()"
   ]
  },
  {
   "cell_type": "markdown",
   "metadata": {},
   "source": [
    "#### Create city column"
   ]
  },
  {
   "cell_type": "code",
   "execution_count": 4,
   "metadata": {},
   "outputs": [
    {
     "data": {
      "text/plain": [
       "London       262301\n",
       "Barcelona     60149\n",
       "Paris         59928\n",
       "Amsterdam     57214\n",
       "Vienna        38939\n",
       "Milan         37207\n",
       "Name: City, dtype: int64"
      ]
     },
     "execution_count": 4,
     "metadata": {},
     "output_type": "execute_result"
    }
   ],
   "source": [
    "def get_city(adress, country):\n",
    "    city = adress.split()[-2]\n",
    "    if country == \"United Kingdom\":\n",
    "        return (adress.split()[-5])\n",
    "    else:\n",
    "        return (city)\n",
    "\n",
    "\n",
    "df['City'] = df[['Hotel_Address',\n",
    "                 'Country']].apply(lambda x: get_city(x[0], x[1]), axis=1)\n",
    "df.City.value_counts()"
   ]
  },
  {
   "cell_type": "markdown",
   "metadata": {},
   "source": [
    "#### Create Tags columns"
   ]
  },
  {
   "cell_type": "markdown",
   "metadata": {},
   "source": [
    "Steps\n",
    "- Clean field tags of strings that make the field not to be recognised as a List\n",
    "- After some EDA we have found the patterns that define each one of the 6 possible fields in tags. Most of the cells have less than 6 tags. The strategy consisted in add blank fields in the list that filled the positions without an expected category tag\n",
    "- The third step has been to split the Tags column into a new Data Frame\n",
    "- As a last step we have merged the original Data Frame with the Data Frame with the tags separated in columns."
   ]
  },
  {
   "cell_type": "code",
   "execution_count": 5,
   "metadata": {},
   "outputs": [],
   "source": [
    "Tags = df.Tags\n",
    "Tags = Tags.apply(lambda x: x.replace(\n",
    "    '[',\n",
    "    '',\n",
    ").replace(']', '').replace(\"' \", '').replace(\" '\", '').split(', '))"
   ]
  },
  {
   "cell_type": "code",
   "execution_count": 6,
   "metadata": {
    "scrolled": true
   },
   "outputs": [],
   "source": [
    "for i, tag in enumerate(Tags):\n",
    "    if (tag[0] != 'With a pet' and tag[0] != ''):\n",
    "        Tags[i].insert(0, '')\n",
    "\n",
    "    if (tag[1] != 'Leisure trip' and tag[1] != 'Business trip'\n",
    "            and tag[1] != ''):\n",
    "        Tags[i].insert(1, '')\n",
    "\n",
    "    if (tag[2] != 'Couple' and tag[2] != 'Solo traveler' and tag[2] != 'Group'\n",
    "            and tag[2] != 'Family with young children'\n",
    "            and tag[2] != 'Family with older children'\n",
    "            and tag[2] != 'Travelers with friends' and tag[2] != ''):\n",
    "        Tags[i].insert(2, '')\n",
    "\n",
    "    if (tag[-1][:14] != 'Submitted from' and tag[-1] != ''):\n",
    "        Tags[i].append('')\n",
    "\n",
    "    if (tag[-2][:6] != 'Stayed' and tag[-2] != ''):\n",
    "        Tags[i].insert(-1, '')\n",
    "\n",
    "    if len(Tags[i]) < 6:\n",
    "        Tags[i].insert(3, '')"
   ]
  },
  {
   "cell_type": "code",
   "execution_count": 7,
   "metadata": {
    "scrolled": true
   },
   "outputs": [
    {
     "data": {
      "text/plain": [
       "6    515738\n",
       "Name: Tags, dtype: int64"
      ]
     },
     "execution_count": 7,
     "metadata": {},
     "output_type": "execute_result"
    }
   ],
   "source": [
    "# check that all the reviews have now 6 fields\n",
    "Tags.apply(lambda x: len(x)).value_counts()"
   ]
  },
  {
   "cell_type": "code",
   "execution_count": 8,
   "metadata": {},
   "outputs": [],
   "source": [
    "dfTags = pd.DataFrame(Tags)"
   ]
  },
  {
   "cell_type": "code",
   "execution_count": 9,
   "metadata": {},
   "outputs": [
    {
     "data": {
      "text/plain": [
       "(515738, 6)"
      ]
     },
     "execution_count": 9,
     "metadata": {},
     "output_type": "execute_result"
    }
   ],
   "source": [
    "dfTags_extended = pd.DataFrame(dfTags.Tags.values.tolist(), index=dfTags.index)\n",
    "dfTags_extended.columns = [\n",
    "    'Pet', 'Purpose', 'Whom', 'Room', 'Length', 'Device'\n",
    "]\n",
    "dfTags_extended.shape"
   ]
  },
  {
   "cell_type": "code",
   "execution_count": 10,
   "metadata": {},
   "outputs": [],
   "source": [
    "dfFull = pd.concat([df, dfTags_extended], axis=1, sort=False)"
   ]
  },
  {
   "cell_type": "code",
   "execution_count": 11,
   "metadata": {
    "scrolled": true
   },
   "outputs": [],
   "source": [
    "dfFull.to_csv('./data/df_with_tags.csv', index_label=False)"
   ]
  },
  {
   "cell_type": "markdown",
   "metadata": {},
   "source": [
    "##### Exploratory Analysis from Tags"
   ]
  },
  {
   "cell_type": "code",
   "execution_count": 12,
   "metadata": {},
   "outputs": [
    {
     "data": {
      "text/plain": [
       "              514333\n",
       "With a pet      1405\n",
       "Name: Pet, dtype: int64"
      ]
     },
     "execution_count": 12,
     "metadata": {},
     "output_type": "execute_result"
    }
   ],
   "source": [
    "dfTags_extended.Pet.value_counts()"
   ]
  },
  {
   "cell_type": "code",
   "execution_count": 13,
   "metadata": {},
   "outputs": [
    {
     "data": {
      "text/plain": [
       "Leisure trip     417778\n",
       "Business trip     82939\n",
       "                  15021\n",
       "Name: Purpose, dtype: int64"
      ]
     },
     "execution_count": 13,
     "metadata": {},
     "output_type": "execute_result"
    }
   ],
   "source": [
    "dfTags_extended.Purpose.value_counts()"
   ]
  },
  {
   "cell_type": "code",
   "execution_count": 14,
   "metadata": {},
   "outputs": [
    {
     "data": {
      "text/plain": [
       "Couple                        252294\n",
       "Solo traveler                 108545\n",
       "Group                          65392\n",
       "Family with young children     61015\n",
       "Family with older children     26349\n",
       "Travelers with friends          2143\n",
       "Name: Whom, dtype: int64"
      ]
     },
     "execution_count": 14,
     "metadata": {},
     "output_type": "execute_result"
    }
   ],
   "source": [
    "dfTags_extended.Whom.value_counts()"
   ]
  },
  {
   "cell_type": "code",
   "execution_count": 15,
   "metadata": {},
   "outputs": [
    {
     "data": {
      "text/plain": [
       "2388"
      ]
     },
     "execution_count": 15,
     "metadata": {},
     "output_type": "execute_result"
    }
   ],
   "source": [
    "len(dfTags_extended.Room.value_counts())"
   ]
  },
  {
   "cell_type": "code",
   "execution_count": 16,
   "metadata": {},
   "outputs": [
    {
     "data": {
      "text/plain": [
       "Stayed 1 night     193645\n",
       "Stayed 2 nights    133937\n",
       "Stayed 3 nights     95821\n",
       "Stayed 4 nights     47817\n",
       "Stayed 5 nights     20845\n",
       "Name: Length, dtype: int64"
      ]
     },
     "execution_count": 16,
     "metadata": {},
     "output_type": "execute_result"
    }
   ],
   "source": [
    "dfTags_extended.Length.value_counts().head()"
   ]
  },
  {
   "cell_type": "code",
   "execution_count": 17,
   "metadata": {},
   "outputs": [
    {
     "data": {
      "text/plain": [
       "Submitted from a mobile device    307640\n",
       "                                  208098\n",
       "Name: Device, dtype: int64"
      ]
     },
     "execution_count": 17,
     "metadata": {},
     "output_type": "execute_result"
    }
   ],
   "source": [
    "dfTags_extended.Device.value_counts().head()"
   ]
  },
  {
   "cell_type": "markdown",
   "metadata": {},
   "source": [
    "#### Create Diff column (Review Score - Hotel Average Score)"
   ]
  },
  {
   "cell_type": "code",
   "execution_count": 18,
   "metadata": {},
   "outputs": [],
   "source": [
    "dfFull['Diff'] = dfFull.Reviewer_Score - dfFull.Average_Score"
   ]
  },
  {
   "cell_type": "markdown",
   "metadata": {},
   "source": [
    "#### Save File"
   ]
  },
  {
   "cell_type": "code",
   "execution_count": 19,
   "metadata": {},
   "outputs": [],
   "source": [
    "dfFull = pd.concat([df, dfTags_extended], axis=1, sort=False)"
   ]
  },
  {
   "cell_type": "code",
   "execution_count": 20,
   "metadata": {
    "scrolled": true
   },
   "outputs": [],
   "source": [
    "dfFull.to_csv('./data/df_with_tags.csv', index_label=False)"
   ]
  }
 ],
 "metadata": {
  "kernelspec": {
   "display_name": "Python 3",
   "language": "python",
   "name": "python3"
  },
  "language_info": {
   "codemirror_mode": {
    "name": "ipython",
    "version": 3
   },
   "file_extension": ".py",
   "mimetype": "text/x-python",
   "name": "python",
   "nbconvert_exporter": "python",
   "pygments_lexer": "ipython3",
   "version": "3.7.4"
  },
  "toc": {
   "base_numbering": 1,
   "nav_menu": {},
   "number_sections": true,
   "sideBar": true,
   "skip_h1_title": false,
   "title_cell": "Table of Contents",
   "title_sidebar": "Contents",
   "toc_cell": false,
   "toc_position": {
    "height": "calc(100% - 180px)",
    "left": "10px",
    "top": "150px",
    "width": "312px"
   },
   "toc_section_display": true,
   "toc_window_display": false
  }
 },
 "nbformat": 4,
 "nbformat_minor": 4
}
