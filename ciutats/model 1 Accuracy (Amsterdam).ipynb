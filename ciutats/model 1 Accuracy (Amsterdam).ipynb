{
 "cells": [
  {
   "cell_type": "markdown",
   "metadata": {},
   "source": [
    "### Open File"
   ]
  },
  {
   "cell_type": "code",
   "execution_count": 3,
   "metadata": {},
   "outputs": [],
   "source": [
    "import pandas as pd\n",
    "import numpy as np\n",
    "import datetime as dt\n",
    "from matplotlib import pyplot as plt"
   ]
  },
  {
   "cell_type": "code",
   "execution_count": 4,
   "metadata": {},
   "outputs": [],
   "source": [
    "df = pd.read_csv('./data/df_features.gz')"
   ]
  },
  {
   "cell_type": "markdown",
   "metadata": {},
   "source": [
    "I delete the rows without a distance to city center (because in the origin hotel don't have latitude and longitude)"
   ]
  },
  {
   "cell_type": "code",
   "execution_count": 5,
   "metadata": {
    "scrolled": true
   },
   "outputs": [],
   "source": [
    "df = df.dropna(subset=['Dist_Center'])"
   ]
  },
  {
   "cell_type": "markdown",
   "metadata": {},
   "source": [
    "### Filter by City"
   ]
  },
  {
   "cell_type": "code",
   "execution_count": 6,
   "metadata": {},
   "outputs": [],
   "source": [
    "df = df[df.City == 'Amsterdam']"
   ]
  },
  {
   "cell_type": "markdown",
   "metadata": {},
   "source": [
    "### Create Predicted Category for final models (2 categories)"
   ]
  },
  {
   "cell_type": "code",
   "execution_count": 7,
   "metadata": {},
   "outputs": [],
   "source": [
    "diff_hotels = df[['Hotel_Address','Diff']].groupby('Hotel_Address').describe()\n",
    "diff_hotels = diff_hotels.Diff.reset_index()"
   ]
  },
  {
   "cell_type": "code",
   "execution_count": 8,
   "metadata": {},
   "outputs": [],
   "source": [
    "df = pd.merge(df, diff_hotels, on='Hotel_Address')"
   ]
  },
  {
   "cell_type": "code",
   "execution_count": 9,
   "metadata": {},
   "outputs": [
    {
     "data": {
      "text/plain": [
       "Good    0.842975\n",
       "Bad     0.157025\n",
       "Name: Category, dtype: float64"
      ]
     },
     "execution_count": 9,
     "metadata": {},
     "output_type": "execute_result"
    }
   ],
   "source": [
    "category = np.array(['Bad' if i < 7 else 'Good' for i in df.Reviewer_Score])\n",
    "df.loc[:, 'Category'] = category\n",
    "df.Category.value_counts() / len(df)"
   ]
  },
  {
   "cell_type": "markdown",
   "metadata": {},
   "source": [
    "### Balance Nationalities and / or Categories"
   ]
  },
  {
   "cell_type": "code",
   "execution_count": 10,
   "metadata": {},
   "outputs": [],
   "source": [
    "def balance_df(df, Balance_Nationality, Balance_Category, cut):\n",
    "    df_balance_country = df.copy()\n",
    "    if Balance_Nationality:\n",
    "        df_balance_country = None\n",
    "        for i in list(df.Nationality_Recode.value_counts().index):\n",
    "            nationality = df[df.Nationality_Recode == i]\n",
    "            n = cut\n",
    "            if len(nationality) < n:\n",
    "                n = len(nationality)\n",
    "            nationality = nationality.sample(n, random_state=1)\n",
    "            df_balance_country = pd.concat([df_balance_country, nationality])\n",
    "    \n",
    "    df_balance_class = df_balance_country.copy()\n",
    "    if Balance_Category:\n",
    "        df_balance_class = None\n",
    "        minclass = np.min(df_balance_country.Category.value_counts())\n",
    "        classes = list(df_balance_country.Category.value_counts().index)\n",
    "        for i in classes:\n",
    "            selected_class = df_balance_country[df_balance_country.Category == i].sample(minclass, random_state=1)\n",
    "            df_balance_class = pd.concat([df_balance_class, selected_class])\n",
    "    \n",
    "    return(df_balance_class)"
   ]
  },
  {
   "cell_type": "code",
   "execution_count": 11,
   "metadata": {},
   "outputs": [
    {
     "data": {
      "text/plain": [
       "(9718, 78)"
      ]
     },
     "execution_count": 11,
     "metadata": {},
     "output_type": "execute_result"
    }
   ],
   "source": [
    "df_balanced_1 = balance_df(df, Balance_Nationality=False, Balance_Category=True, cut=10000)\n",
    "df_balanced_2 = balance_df(df_balanced_1, Balance_Nationality=True, Balance_Category=True, \n",
    "                         cut=int(np.median(df_balanced_1.Nationality_Recode.value_counts())*2))\n",
    "df_balanced_2.shape"
   ]
  },
  {
   "cell_type": "code",
   "execution_count": 12,
   "metadata": {
    "scrolled": true
   },
   "outputs": [
    {
     "data": {
      "text/plain": [
       "UK & Ireland           1830\n",
       "Western Europe         1825\n",
       "North America          1624\n",
       "Middle east            1302\n",
       "Eastern Europe          921\n",
       "Asia & Pacific          919\n",
       "Oceania                 652\n",
       "Sub-Saharian Africa     246\n",
       "South/Latin America     232\n",
       "China                    88\n",
       "Arab States              79\n",
       "Name: Nationality_Recode, dtype: int64"
      ]
     },
     "execution_count": 12,
     "metadata": {},
     "output_type": "execute_result"
    }
   ],
   "source": [
    "df_balanced_2.Nationality_Recode.value_counts()"
   ]
  },
  {
   "cell_type": "markdown",
   "metadata": {},
   "source": [
    "### Prepare Data to run Models"
   ]
  },
  {
   "cell_type": "code",
   "execution_count": 13,
   "metadata": {},
   "outputs": [
    {
     "data": {
      "text/plain": [
       "(9718, 78)"
      ]
     },
     "execution_count": 13,
     "metadata": {},
     "output_type": "execute_result"
    }
   ],
   "source": [
    "if len(df_balanced_2) > 20000:\n",
    "    df_model = df_balanced_2.sample(n=20000, random_state=1)\n",
    "else:\n",
    "    df_model = df_balanced_2.copy()\n",
    "\n",
    "df_model.shape"
   ]
  },
  {
   "cell_type": "code",
   "execution_count": 14,
   "metadata": {},
   "outputs": [],
   "source": [
    "x_categorical = ['Review_Month','City','Pet','Purpose','Whom','Room_Recode','Nationality_Recode','Length_Recode','Stars']\n",
    "x_numerical = ['Average_Score', 'Total_Number_of_Reviews_Reviewer_Has_Given', 'Close_Landmarks', 'Dist_Center', \n",
    "               'Dist_Train', 'Dist_Airport','food_Neg_Hotel','staff_Neg_Hotel', 'location_Neg_Hotel', 'value_Neg_Hotel',\n",
    "               'comfort_Neg_Hotel', 'room_Neg_Hotel', 'facilities_Neg_Hotel','cleanliness_Neg_Hotel', \n",
    "               'food_Pos_Hotel', 'staff_Pos_Hotel','location_Pos_Hotel', 'value_Pos_Hotel', 'comfort_Pos_Hotel',\n",
    "               'room_Pos_Hotel', 'facilities_Pos_Hotel', 'cleanliness_Pos_Hotel','count', 'mean', 'std', 'min', '25%', \n",
    "               '50%', '75%', 'max']\n",
    "x_col = x_categorical + x_numerical\n",
    "y_col = 'Category'"
   ]
  },
  {
   "cell_type": "code",
   "execution_count": 15,
   "metadata": {},
   "outputs": [],
   "source": [
    "X_numerical = df_model[x_numerical]\n",
    "X_numerical_std = X_numerical.apply(lambda x: ((x-np.mean(x)) / np.std(x)))"
   ]
  },
  {
   "cell_type": "code",
   "execution_count": 16,
   "metadata": {
    "scrolled": true
   },
   "outputs": [],
   "source": [
    "df_model['Review_Month'] = df_model['Review_Month'].astype(str)\n",
    "X_categorical = pd.get_dummies(df_model[x_categorical], prefix_sep='_', drop_first=True)\n",
    "X_categorical = X_categorical.fillna('Not Available')"
   ]
  },
  {
   "cell_type": "code",
   "execution_count": 17,
   "metadata": {},
   "outputs": [],
   "source": [
    "X = pd.concat([X_numerical_std, X_categorical], axis=1, sort=False)\n",
    "y = df_model[y_col]"
   ]
  },
  {
   "cell_type": "markdown",
   "metadata": {},
   "source": [
    "Split into Train and Test"
   ]
  },
  {
   "cell_type": "code",
   "execution_count": 18,
   "metadata": {},
   "outputs": [],
   "source": [
    "from sklearn.model_selection import train_test_split\n",
    "X_train, X_test, y_train, y_test = train_test_split(X, y, test_size=0.5, stratify=y, random_state=1)"
   ]
  },
  {
   "cell_type": "code",
   "execution_count": 19,
   "metadata": {},
   "outputs": [
    {
     "data": {
      "text/plain": [
       "((4859, 71), (4859,), (4859, 71), (4859,))"
      ]
     },
     "execution_count": 19,
     "metadata": {},
     "output_type": "execute_result"
    }
   ],
   "source": [
    "X_test.shape, y_test.shape, X_train.shape, y_train.shape"
   ]
  },
  {
   "cell_type": "markdown",
   "metadata": {},
   "source": [
    "## MODELS"
   ]
  },
  {
   "cell_type": "markdown",
   "metadata": {},
   "source": [
    "### Evaluate Model"
   ]
  },
  {
   "cell_type": "code",
   "execution_count": 20,
   "metadata": {},
   "outputs": [],
   "source": [
    "import xgboost as xgb\n",
    "from sklearn.neighbors import KNeighborsClassifier\n",
    "from sklearn.ensemble import GradientBoostingClassifier, RandomForestClassifier\n",
    "from sklearn.linear_model import LogisticRegression\n",
    "from sklearn.tree import DecisionTreeClassifier\n",
    "from sklearn.svm import SVC\n",
    "from sklearn.naive_bayes import BernoulliNB\n",
    "from sklearn.model_selection import RandomizedSearchCV, GridSearchCV\n",
    "from sklearn.metrics import accuracy_score, cohen_kappa_score, f1_score, precision_score, recall_score, make_scorer"
   ]
  },
  {
   "cell_type": "code",
   "execution_count": 21,
   "metadata": {},
   "outputs": [],
   "source": [
    "def evaluate_model(model, X_train, X_test, y_train, y_test):\n",
    "    clf = model\n",
    "    clf.fit(X_train, y_train)\n",
    "    print_result(clf, X_train, X_test, y_train, y_test)\n",
    "    return(clf.predict(X_test))"
   ]
  },
  {
   "cell_type": "code",
   "execution_count": 22,
   "metadata": {},
   "outputs": [],
   "source": [
    "def evaluate_random(model, params, iterations, X_train, X_test, y_train, y_test, verbose = 1):\n",
    "    clf = RandomizedSearchCV(estimator = model, param_distributions = params, n_iter = iterations, \n",
    "                             n_jobs = -1, cv = 5, random_state = 27, verbose = verbose)\n",
    "    clf.fit(X_train, y_train)\n",
    "    print(clf.best_params_, clf.best_score_)\n",
    "    print_result(clf, X_train, X_test, y_train, y_test)\n",
    "    return(clf.predict(X_test))"
   ]
  },
  {
   "cell_type": "code",
   "execution_count": 23,
   "metadata": {},
   "outputs": [],
   "source": [
    "def evaluate_grid(model, params, X_train, X_test, y_train, y_test, verbose = 1):\n",
    "    f1 = make_scorer(f1_score, pos_label = \"Bad\")\n",
    "    clf = GridSearchCV(estimator = model, param_grid = params, n_jobs = -1, cv = 5, verbose = verbose)    \n",
    "    clf.fit(X_train, y_train)\n",
    "    print(clf.best_params_, clf.best_score_)\n",
    "    print_result(clf, X_train, X_test, y_train, y_test)\n",
    "    return(clf.predict(X_test))"
   ]
  },
  {
   "cell_type": "code",
   "execution_count": 24,
   "metadata": {},
   "outputs": [],
   "source": [
    "def print_result(clf, X_train, X_test, y_train, y_test):\n",
    "    print('Accuracy Test :', f'{accuracy_score(clf.predict(X_test), y_test):.4f}', \n",
    "          '| F1 Test :', f'{f1_score(clf.predict(X_test), y_test, pos_label=\"Bad\"):.4f}')\n",
    "    print('Accuracy Train:', f'{accuracy_score(clf.predict(X_train), y_train):.4f}', \n",
    "          '| F1 Train:', f'{f1_score(clf.predict(X_train), y_train, pos_label=\"Bad\"):.4f}')"
   ]
  },
  {
   "cell_type": "markdown",
   "metadata": {},
   "source": [
    "### KNN"
   ]
  },
  {
   "cell_type": "code",
   "execution_count": 25,
   "metadata": {},
   "outputs": [
    {
     "name": "stdout",
     "output_type": "stream",
     "text": [
      "Accuracy Test : 0.6040 | F1 Test : 0.6031\n",
      "Accuracy Train: 0.7345 | F1 Train: 0.7325\n"
     ]
    }
   ],
   "source": [
    "pred_knn = evaluate_model(KNeighborsClassifier(n_neighbors=5), X_train, X_test, y_train, y_test)"
   ]
  },
  {
   "cell_type": "markdown",
   "metadata": {},
   "source": [
    "### Gradient Boosted Trees"
   ]
  },
  {
   "cell_type": "code",
   "execution_count": 26,
   "metadata": {},
   "outputs": [
    {
     "name": "stdout",
     "output_type": "stream",
     "text": [
      "{'subsample': 1, 'n_estimators': 171, 'min_samples_split': 0.38181818181818183, 'min_samples_leaf': 0.10404040404040403, 'max_features': 'sqrt', 'max_depth': 4, 'learning_rate': 0.05} 0.6433414705471006\n",
      "Accuracy Test : 0.6431 | F1 Test : 0.6444\n",
      "Accuracy Train: 0.6580 | F1 Train: 0.6586\n"
     ]
    }
   ],
   "source": [
    "iterations = 100\n",
    "params = {'learning_rate':  [0.001, 0.0025, 0.005 , 0.01, 0.025, 0.05, 0.1], \n",
    "          'n_estimators': range(100, 200),\n",
    "          'max_depth': [2, 3, 4, 5],\n",
    "          'min_samples_split': np.linspace(0.1, 1.0, 100, endpoint=True),\n",
    "          'min_samples_leaf': np.linspace(0.01, 0.5, 100, endpoint=True), \n",
    "          'subsample': [1], \n",
    "          'max_features': ['sqrt']}\n",
    "\n",
    "pred_gbt = evaluate_random(GradientBoostingClassifier(), params, iterations, X_train, X_test, y_train, y_test, verbose = 0)"
   ]
  },
  {
   "cell_type": "code",
   "execution_count": 27,
   "metadata": {},
   "outputs": [],
   "source": [
    "# pred_gbt = evaluate_model(GradientBoostingClassifier(n_estimators = 165, \n",
    "#                                                      min_samples_split = 0.6272727272727272, \n",
    "#                                                      min_samples_leaf = 0.11888888888888888, \n",
    "#                                                      max_depth = 2, learning_rate = 0.001),\n",
    "#                           X_train, X_test, y_train, y_test)"
   ]
  },
  {
   "cell_type": "markdown",
   "metadata": {},
   "source": [
    "### Random Forest"
   ]
  },
  {
   "cell_type": "code",
   "execution_count": 28,
   "metadata": {},
   "outputs": [
    {
     "name": "stdout",
     "output_type": "stream",
     "text": [
      "{'n_estimators': 151, 'min_samples_split': 9, 'min_samples_leaf': 9, 'max_features': 'sqrt', 'max_depth': 1, 'bootstrap': True} 0.6392217941708731\n",
      "Accuracy Test : 0.6380 | F1 Test : 0.6404\n",
      "Accuracy Train: 0.6435 | F1 Train: 0.6470\n"
     ]
    }
   ],
   "source": [
    "iterations = 100\n",
    "params = {'bootstrap': [True, False],\n",
    "          'max_depth': range(1, 10),\n",
    "          'max_features': ['auto', 'sqrt'],\n",
    "          'min_samples_leaf': range(1, 10),\n",
    "          'min_samples_split': range(1, 10),\n",
    "          'n_estimators': range(100, 200)}\n",
    "\n",
    "pred_rf = evaluate_random(RandomForestClassifier(random_state = 1), params, iterations, \n",
    "                          X_train, X_test, y_train, y_test, verbose = 0)"
   ]
  },
  {
   "cell_type": "code",
   "execution_count": 29,
   "metadata": {},
   "outputs": [],
   "source": [
    "# pred_rf = evaluate_model(RandomForestClassifier(n_estimators = 153, min_samples_split = 5,  min_samples_leaf = 7,\n",
    "#                                                 max_features = 'auto', max_depth = 2, bootstrap = False, random_state=1), \n",
    "#                          X_train, X_test, y_train, y_test)"
   ]
  },
  {
   "cell_type": "markdown",
   "metadata": {},
   "source": [
    "### XGBoosting"
   ]
  },
  {
   "cell_type": "code",
   "execution_count": 30,
   "metadata": {},
   "outputs": [
    {
     "name": "stdout",
     "output_type": "stream",
     "text": [
      "{'n_estimators': 7, 'min_child_weight': 50, 'max_depth': 5, 'learning_rate': 0.25, 'gamma': 0.1, 'colsample_bytree': 0.6} 0.6449871372688628\n",
      "Accuracy Test : 0.6419 | F1 Test : 0.6398\n",
      "Accuracy Train: 0.6563 | F1 Train: 0.6565\n"
     ]
    }
   ],
   "source": [
    "iterations = 250\n",
    "params = {\"learning_rate\"    : [0.0001, 0.005, 0.001, 0.005, 0.01, 0.05, 0.10, 0.25, 0.50],\n",
    "          \"max_depth\"        : [2, 3, 4, 5, 6, 7, 8, 9, 10],\n",
    "          \"min_child_weight\" : [1, 3, 5, 10, 25, 50, 100, 250],\n",
    "          \"gamma\"            : [0.01, 0.05, 0.1, 0.15, 0.25, 0.50, 0.75, 0.95],\n",
    "          \"colsample_bytree\" : [0.6, 0.7, 0.8, 0.9, 1.0, 1.1, 1.2],\n",
    "          \"n_estimators\"     : [2, 3, 5, 7, 10, 15, 25, 50, 100]}\n",
    "\n",
    "pred_xgb = evaluate_random(xgb.XGBClassifier(), params, iterations, X_train, X_test, y_train, y_test, verbose = 0)"
   ]
  },
  {
   "cell_type": "code",
   "execution_count": 31,
   "metadata": {},
   "outputs": [],
   "source": [
    "# pred_xgb = evaluate_model(xgb.XGBClassifier(n_estimators = 7, min_child_weight = 5, max_depth = 3, learning_rate = 0.005,\n",
    "#                                             gamma = 0.05, colsample_bytree = 1, random_state = 1), \n",
    "#                     X_train, X_test, y_train, y_test)"
   ]
  },
  {
   "cell_type": "markdown",
   "metadata": {},
   "source": [
    "### Logistic Regresion"
   ]
  },
  {
   "cell_type": "code",
   "execution_count": 32,
   "metadata": {},
   "outputs": [
    {
     "name": "stdout",
     "output_type": "stream",
     "text": [
      "{'C': 0.0025, 'tol': 1e-05} 0.6386049340334727\n",
      "Accuracy Test : 0.6514 | F1 Test : 0.6523\n",
      "Accuracy Train: 0.6429 | F1 Train: 0.6415\n"
     ]
    }
   ],
   "source": [
    "params = {\"C\": [0.0001, 0.00025, 0.0005, 0.001, 0.0025, 0.005, 0.01, 0.025, 0.05, 0.1],\n",
    "          \"tol\": [0.00001, 0.000025, 0.00005, 0.0001, 0.00025, 0.0005, 0.001, 0.0025, 0.005, 0.01, 0.025, 0.05, 0.1]}\n",
    "\n",
    "pred_log = evaluate_grid(LogisticRegression(solver = 'lbfgs', max_iter = 1000, random_state = 1), \n",
    "                         params, X_train, X_test, y_train, y_test, verbose = 0)"
   ]
  },
  {
   "cell_type": "code",
   "execution_count": 33,
   "metadata": {
    "scrolled": true
   },
   "outputs": [],
   "source": [
    "# pred_log = evaluate_model(LogisticRegression(C = 0.1, tol = 0.00001, solver='lbfgs', max_iter=1000, random_state=1), \n",
    "#                           X_train, X_test, y_train, y_test)"
   ]
  },
  {
   "cell_type": "markdown",
   "metadata": {},
   "source": [
    "### Decision Trees"
   ]
  },
  {
   "cell_type": "code",
   "execution_count": 34,
   "metadata": {},
   "outputs": [
    {
     "name": "stdout",
     "output_type": "stream",
     "text": [
      "{'min_samples_leaf': 2, 'max_features': 2, 'max_depth': 6, 'criterion': 'gini'} 0.6375797298614554\n",
      "Accuracy Test : 0.6339 | F1 Test : 0.6413\n",
      "Accuracy Train: 0.6473 | F1 Train: 0.6518\n"
     ]
    }
   ],
   "source": [
    "iterations = 1000\n",
    "params = {\"max_depth\": range(1, 10),\n",
    "          \"max_features\": range(1, 20),\n",
    "          \"min_samples_leaf\": range(1, 20),\n",
    "          \"criterion\": [\"gini\", \"entropy\"]}\n",
    "\n",
    "pred_tree = evaluate_random(DecisionTreeClassifier(random_state = 1), params, iterations, \n",
    "                            X_train, X_test, y_train, y_test, verbose = 0)"
   ]
  },
  {
   "cell_type": "code",
   "execution_count": 35,
   "metadata": {},
   "outputs": [],
   "source": [
    "# pred_tree = evaluate_model(DecisionTreeClassifier(min_samples_leaf = 4, max_features = 19, max_depth = 3, \n",
    "#                                                   criterion = 'entropy', random_state = 1), \n",
    "#                      X_train, X_test, y_train, y_test)"
   ]
  },
  {
   "cell_type": "markdown",
   "metadata": {},
   "source": [
    "### SVM"
   ]
  },
  {
   "cell_type": "code",
   "execution_count": 36,
   "metadata": {
    "scrolled": true
   },
   "outputs": [
    {
     "name": "stdout",
     "output_type": "stream",
     "text": [
      "{'C': 1, 'degree': 3, 'kernel': 'poly'} 0.6353138124965566\n",
      "Accuracy Test : 0.6263 | F1 Test : 0.6221\n",
      "Accuracy Train: 0.6812 | F1 Train: 0.6772\n"
     ]
    }
   ],
   "source": [
    "params = {\"degree\": [2, 3, 4],\n",
    "          \"kernel\": ['poly'], \n",
    "          \"C\":      [0.001, 0.005, 0.01, 0.05, 0.1, 0.5, 1, 2.5, 5]}\n",
    "\n",
    "pred_svm = evaluate_grid(SVC(random_state = 1), params, X_train, X_test, y_train, y_test, verbose = 0)"
   ]
  },
  {
   "cell_type": "code",
   "execution_count": 37,
   "metadata": {
    "scrolled": true
   },
   "outputs": [],
   "source": [
    "# pred_svm = evaluate_model(SVC(kernel = 'poly', degree = 2, C = 0.005, random_state = 1), X_train, X_test, y_train, y_test)"
   ]
  },
  {
   "cell_type": "markdown",
   "metadata": {},
   "source": [
    "### Naive Bayes"
   ]
  },
  {
   "cell_type": "code",
   "execution_count": 38,
   "metadata": {},
   "outputs": [
    {
     "name": "stdout",
     "output_type": "stream",
     "text": [
      "{'alpha': 10, 'fit_prior': True} 0.6307845206460609\n",
      "Accuracy Test : 0.6442 | F1 Test : 0.6388\n",
      "Accuracy Train: 0.6300 | F1 Train: 0.6212\n"
     ]
    }
   ],
   "source": [
    "params = {\"alpha\": [0.1, 0.25, 0.5, 1, 2.5, 5, 10], \n",
    "          \"fit_prior\": [True, False]}\n",
    "\n",
    "pred_nb = evaluate_grid(BernoulliNB(), params, X_train, X_test, y_train, y_test, verbose = 0)"
   ]
  },
  {
   "cell_type": "code",
   "execution_count": 39,
   "metadata": {},
   "outputs": [],
   "source": [
    "# pred_nb = evaluate_model(BernoulliNB(alpha=0.25, fit_prior=True), X_train, X_test, y_train, y_test)"
   ]
  },
  {
   "cell_type": "code",
   "execution_count": null,
   "metadata": {},
   "outputs": [],
   "source": []
  },
  {
   "cell_type": "code",
   "execution_count": null,
   "metadata": {},
   "outputs": [],
   "source": []
  },
  {
   "cell_type": "code",
   "execution_count": null,
   "metadata": {},
   "outputs": [],
   "source": []
  },
  {
   "cell_type": "markdown",
   "metadata": {},
   "source": [
    "## STACKING"
   ]
  },
  {
   "cell_type": "markdown",
   "metadata": {},
   "source": [
    "Predictions using Random Forest adding the predicions of other models to the original dataset.\n",
    "I had to split the test set in 2 to create the new train/test set, otherwise i fall into overfitting because my original training set is biased vs the test set"
   ]
  },
  {
   "cell_type": "markdown",
   "metadata": {},
   "source": [
    "First I append the predictions of the model to the dataset"
   ]
  },
  {
   "cell_type": "code",
   "execution_count": 40,
   "metadata": {},
   "outputs": [],
   "source": [
    "X_2 = X_test.copy()\n",
    "y_2 = y_test.copy()"
   ]
  },
  {
   "cell_type": "code",
   "execution_count": 41,
   "metadata": {},
   "outputs": [],
   "source": [
    "X_2['logistic'] = pred_log\n",
    "X_2['gbt'] = pred_gbt\n",
    "X_2['knn'] = pred_knn\n",
    "X_2['svm'] = pred_svm\n",
    "X_2['tree'] = pred_tree\n",
    "X_2['xgb'] = pred_xgb\n",
    "X_2['nb'] = pred_nb\n",
    "X_2['rf'] = pred_rf"
   ]
  },
  {
   "cell_type": "code",
   "execution_count": 42,
   "metadata": {},
   "outputs": [
    {
     "data": {
      "text/html": [
       "<div>\n",
       "<style scoped>\n",
       "    .dataframe tbody tr th:only-of-type {\n",
       "        vertical-align: middle;\n",
       "    }\n",
       "\n",
       "    .dataframe tbody tr th {\n",
       "        vertical-align: top;\n",
       "    }\n",
       "\n",
       "    .dataframe thead th {\n",
       "        text-align: right;\n",
       "    }\n",
       "</style>\n",
       "<table border=\"1\" class=\"dataframe\">\n",
       "  <thead>\n",
       "    <tr style=\"text-align: right;\">\n",
       "      <th></th>\n",
       "      <th>logistic</th>\n",
       "      <th>gbt</th>\n",
       "      <th>knn</th>\n",
       "      <th>svm</th>\n",
       "      <th>tree</th>\n",
       "      <th>xgb</th>\n",
       "      <th>nb</th>\n",
       "      <th>rf</th>\n",
       "    </tr>\n",
       "  </thead>\n",
       "  <tbody>\n",
       "    <tr>\n",
       "      <th>4325</th>\n",
       "      <td>Good</td>\n",
       "      <td>Good</td>\n",
       "      <td>Good</td>\n",
       "      <td>Good</td>\n",
       "      <td>Good</td>\n",
       "      <td>Good</td>\n",
       "      <td>Good</td>\n",
       "      <td>Good</td>\n",
       "    </tr>\n",
       "    <tr>\n",
       "      <th>3381</th>\n",
       "      <td>Bad</td>\n",
       "      <td>Bad</td>\n",
       "      <td>Bad</td>\n",
       "      <td>Good</td>\n",
       "      <td>Bad</td>\n",
       "      <td>Good</td>\n",
       "      <td>Bad</td>\n",
       "      <td>Good</td>\n",
       "    </tr>\n",
       "  </tbody>\n",
       "</table>\n",
       "</div>"
      ],
      "text/plain": [
       "     logistic   gbt   knn   svm  tree   xgb    nb    rf\n",
       "4325     Good  Good  Good  Good  Good  Good  Good  Good\n",
       "3381      Bad   Bad   Bad  Good   Bad  Good   Bad  Good"
      ]
     },
     "execution_count": 42,
     "metadata": {},
     "output_type": "execute_result"
    }
   ],
   "source": [
    "X_2.iloc[:,-8:].head(2)"
   ]
  },
  {
   "cell_type": "code",
   "execution_count": 43,
   "metadata": {},
   "outputs": [],
   "source": [
    "X_2.iloc[:,-8:] = X_2.iloc[:,-8:].apply(lambda x: [1 if i=='Good' else 0 for i in x])"
   ]
  },
  {
   "cell_type": "code",
   "execution_count": 44,
   "metadata": {},
   "outputs": [],
   "source": [
    "X_train_2, X_test_2, y_train_2, y_test_2 = train_test_split(X_2, y_2, test_size=0.2, random_state=100)"
   ]
  },
  {
   "cell_type": "markdown",
   "metadata": {},
   "source": [
    "### Gradient Boosting Trees"
   ]
  },
  {
   "cell_type": "code",
   "execution_count": 45,
   "metadata": {},
   "outputs": [
    {
     "name": "stdout",
     "output_type": "stream",
     "text": [
      "{'subsample': 1, 'n_estimators': 131, 'min_samples_split': 0.33636363636363636, 'min_samples_leaf': 0.11888888888888888, 'max_features': 'sqrt', 'max_depth': 4, 'learning_rate': 0.05} 0.6544927593770782\n",
      "Accuracy Test : 0.6409 | F1 Test : 0.6471\n",
      "Accuracy Train: 0.6622 | F1 Train: 0.6722\n"
     ]
    }
   ],
   "source": [
    "iterations = 100\n",
    "params = {'learning_rate':  [0.001, 0.0025, 0.005 , 0.01, 0.025, 0.05, 0.1], \n",
    "          'n_estimators': range(100, 200),\n",
    "          'max_depth': [2, 3, 4, 5],\n",
    "          'min_samples_split': np.linspace(0.1, 1.0, 100, endpoint=True),\n",
    "          'min_samples_leaf': np.linspace(0.01, 0.5, 100, endpoint=True), \n",
    "          'subsample': [1], \n",
    "          'max_features': ['sqrt']}\n",
    "          \n",
    "pred_gbt_stck = evaluate_random(GradientBoostingClassifier(random_state = 1), params, iterations, \n",
    "                                X_train_2, X_test_2, y_train_2, y_test_2, verbose = 0)"
   ]
  },
  {
   "cell_type": "markdown",
   "metadata": {},
   "source": [
    "### XGB"
   ]
  },
  {
   "cell_type": "code",
   "execution_count": 46,
   "metadata": {},
   "outputs": [
    {
     "name": "stdout",
     "output_type": "stream",
     "text": [
      "{'n_estimators': 100, 'min_child_weight': 25, 'max_depth': 3, 'learning_rate': 0.005, 'gamma': 0.1, 'colsample_bytree': 0.9} 0.6555164051308011\n",
      "Accuracy Test : 0.6512 | F1 Test : 0.6607\n",
      "Accuracy Train: 0.6581 | F1 Train: 0.6690\n"
     ]
    }
   ],
   "source": [
    "iterations = 250\n",
    "params = {\"learning_rate\"    : [0.0001, 0.005, 0.001, 0.005, 0.01, 0.05, 0.10, 0.25, 0.50],\n",
    "          \"max_depth\"        : [2, 3, 4, 5, 6, 7, 8, 9, 10],\n",
    "          \"min_child_weight\" : [1, 3, 5, 10, 25, 50, 100, 250],\n",
    "          \"gamma\"            : [0.01, 0.05, 0.1, 0.15, 0.25, 0.50, 0.75, 0.95],\n",
    "          \"colsample_bytree\" : [0.6, 0.7, 0.8, 0.9, 1.0, 1.1, 1.2],\n",
    "          \"n_estimators\"     : [2, 3, 5, 7, 10, 15, 25, 50, 100]}\n",
    "\n",
    "pred_xgb_stck = evaluate_random(xgb.XGBClassifier(random_state = 1), params, iterations, \n",
    "                                X_train_2, X_test_2, y_train_2, y_test_2, verbose = 0)"
   ]
  },
  {
   "cell_type": "markdown",
   "metadata": {},
   "source": [
    "### SVM"
   ]
  },
  {
   "cell_type": "code",
   "execution_count": 47,
   "metadata": {},
   "outputs": [
    {
     "name": "stdout",
     "output_type": "stream",
     "text": [
      "{'C': 1, 'degree': 2, 'kernel': 'poly'} 0.6480554370014524\n",
      "Accuracy Test : 0.6409 | F1 Test : 0.6588\n",
      "Accuracy Train: 0.6743 | F1 Train: 0.6933\n"
     ]
    }
   ],
   "source": [
    "params = {\"degree\": [2, 3, 4],\n",
    "          \"kernel\": ['poly'], \n",
    "          \"C\":      [0.001, 0.005, 0.01, 0.05, 0.1, 0.5, 1, 2.5]}\n",
    "\n",
    "pred_svm_stck = evaluate_grid(SVC(random_state = 1), params, X_train_2, X_test_2, y_train_2, y_test_2, verbose = 0)"
   ]
  },
  {
   "cell_type": "markdown",
   "metadata": {},
   "source": [
    "### Logistic Regression"
   ]
  },
  {
   "cell_type": "code",
   "execution_count": 77,
   "metadata": {
    "scrolled": true
   },
   "outputs": [
    {
     "name": "stdout",
     "output_type": "stream",
     "text": [
      "{'C': 0.048, 'tol': 0.011} 0.6516659884269139\n",
      "Accuracy Test : 0.6492 | F1 Test : 0.6517\n",
      "Accuracy Train: 0.6692 | F1 Train: 0.6744\n"
     ]
    }
   ],
   "source": [
    "params = {\"C\": [0.0001, 0.00025, 0.0005, 0.001, 0.0025, 0.005, 0.01, 0.025, 0.05, 0.1],\n",
    "          \"tol\": [0.00001, 0.000025, 0.00005, 0.0001, 0.00025, 0.0005, 0.001, 0.0025, 0.005, 0.01, 0.025, 0.05, 0.1]}\n",
    "\n",
    "params = {\"C\": [0.046, 0.047, 0.048, 0.049, 0.05, 0.052, 0.054, 0.056, 0.058],\n",
    "          \"tol\": [0.011, 0.012, 0.013, 0.014, 0.015, 0.016, 0.017, 0.018, 0.019]}\n",
    "\n",
    "pred_log_stck = evaluate_grid(LogisticRegression(solver = 'lbfgs', max_iter = 1000, random_state = 1), \n",
    "                                params, X_train_2, X_test_2, y_train_2, y_test_2, verbose = 0)"
   ]
  },
  {
   "cell_type": "markdown",
   "metadata": {},
   "source": [
    "### Decision Trees"
   ]
  },
  {
   "cell_type": "code",
   "execution_count": 49,
   "metadata": {},
   "outputs": [
    {
     "name": "stdout",
     "output_type": "stream",
     "text": [
      "{'min_samples_leaf': 14, 'max_features': 17, 'max_depth': 2, 'criterion': 'entropy'} 0.6472891915051298\n",
      "Accuracy Test : 0.6533 | F1 Test : 0.6544\n",
      "Accuracy Train: 0.6519 | F1 Train: 0.6514\n"
     ]
    }
   ],
   "source": [
    "iterations = 200\n",
    "params = {\"max_depth\": range(1, 10),\n",
    "          \"max_features\": range(1, 20),\n",
    "          \"min_samples_leaf\": range(1, 20),\n",
    "          \"criterion\": [\"gini\", \"entropy\"]}\n",
    "\n",
    "pred_tree_stck = evaluate_random(DecisionTreeClassifier(random_state = 1), params, iterations, \n",
    "                                 X_train_2, X_test_2, y_train_2, y_test_2, verbose = 0)"
   ]
  },
  {
   "cell_type": "code",
   "execution_count": null,
   "metadata": {},
   "outputs": [],
   "source": []
  },
  {
   "cell_type": "code",
   "execution_count": null,
   "metadata": {},
   "outputs": [],
   "source": []
  },
  {
   "cell_type": "code",
   "execution_count": null,
   "metadata": {},
   "outputs": [],
   "source": []
  },
  {
   "cell_type": "markdown",
   "metadata": {},
   "source": [
    "## BACKWARD ELIMINATION"
   ]
  },
  {
   "cell_type": "code",
   "execution_count": 78,
   "metadata": {},
   "outputs": [],
   "source": [
    "import random\n",
    "from random import sample"
   ]
  },
  {
   "cell_type": "code",
   "execution_count": 79,
   "metadata": {},
   "outputs": [],
   "source": [
    "def try_seed(seed, verbose=True):\n",
    "    score = check_model('', X_train_2, X_test_2, y_train_2, y_test_2)[1]\n",
    "    varout = []\n",
    "    varin = list(X_test_2.columns)\n",
    "\n",
    "    for n in range(len(varin)):\n",
    "        max_score = score\n",
    "        max_feature = []\n",
    "        random.seed(seed)\n",
    "        \n",
    "        for i in sample(varin, len(varin)):\n",
    "            var_test = varin.copy()\n",
    "            var_test.remove(i)\n",
    "            X_train_vartest = X_train_2[var_test]\n",
    "            X_test_vartest = X_test_2[var_test]\n",
    "            check = check_model(i, X_train_vartest, X_test_vartest, y_train_2, y_test_2)\n",
    "            if check[1] > max_score:\n",
    "                max_feature = check[0]\n",
    "                max_score = check[1] \n",
    "                varin.remove(max_feature)   \n",
    "                varout.append(max_feature)\n",
    "                if verbose:\n",
    "                    print('{0:0=2d}'.format(n), 'Original Score:', f'{score:.4f}', '| New score:', f'{max_score:.4f}', \n",
    "                          end='\\r', flush=True)\n",
    "                break\n",
    "\n",
    "        if max_score > score:\n",
    "            score = max_score\n",
    "        else:\n",
    "            print('Seed:',seed, '<-', f'{score:.4f}', '                                                                 ')\n",
    "            return(varin, score)\n",
    "            break"
   ]
  },
  {
   "cell_type": "markdown",
   "metadata": {},
   "source": [
    "### Logistic Regression"
   ]
  },
  {
   "cell_type": "code",
   "execution_count": 80,
   "metadata": {},
   "outputs": [],
   "source": [
    "def check_model(variable, X_train, X_test, y_train, y_test):\n",
    "    clf = LogisticRegression(solver = 'lbfgs', max_iter = 1000, random_state = 1, tol = 0.011, C = 0.048)     \n",
    "    clf.fit(X_train, y_train)\n",
    "    score = accuracy_score(clf.predict(X_train), y_train)\n",
    "    return(variable, score)"
   ]
  },
  {
   "cell_type": "code",
   "execution_count": 81,
   "metadata": {},
   "outputs": [
    {
     "name": "stdout",
     "output_type": "stream",
     "text": [
      "Seed: 0 <- 0.6725                                                                  \n",
      "Seed: 1 <- 0.6758                                                                  \n",
      "Seed: 2 <- 0.6771                                                                  \n",
      "Seed: 3 <- 0.6748                                                                  \n",
      "Seed: 4 <- 0.6743                                                                  \n",
      "Seed: 5 <- 0.6746                                                                  \n",
      "Seed: 6 <- 0.6710                                                                  \n",
      "Seed: 7 <- 0.6758                                                                  6707\n",
      "Seed: 8 <- 0.6756                                                                  \n",
      "Seed: 9 <- 0.6753                                                                  \n"
     ]
    }
   ],
   "source": [
    "max_score = 0\n",
    "var_selec = []\n",
    "for seed in range(10):\n",
    "    varin, score = try_seed(seed, verbose=True)\n",
    "    if score > max_score:\n",
    "        max_score = score\n",
    "        var_selec = varin"
   ]
  },
  {
   "cell_type": "code",
   "execution_count": 87,
   "metadata": {
    "scrolled": true
   },
   "outputs": [
    {
     "name": "stdout",
     "output_type": "stream",
     "text": [
      "F1-Score:  0.651685393258427\n",
      "Accuracy:  0.6491769547325102\n",
      "Recall:    0.6367265469061876\n",
      "Precision: 0.6673640167364017\n"
     ]
    }
   ],
   "source": [
    "X_train_varin = X_train_2\n",
    "X_test_varin = X_test_2\n",
    "\n",
    "clf = LogisticRegression(solver = 'lbfgs', max_iter = 1000, random_state = 1, tol = 0.011, C = 0.048)\n",
    "clf.fit(X_train_varin, y_train_2)\n",
    "print(\"F1-Score: \", f1_score(clf.predict(X_test_varin), y_test_2, pos_label='Bad'))\n",
    "print(\"Accuracy: \", accuracy_score(clf.predict(X_test_varin), y_test_2))\n",
    "print(\"Recall:   \", recall_score(clf.predict(X_test_varin), y_test_2, pos_label='Bad'))\n",
    "print(\"Precision:\", precision_score(clf.predict(X_test_varin), y_test_2, pos_label='Bad'))"
   ]
  },
  {
   "cell_type": "code",
   "execution_count": 88,
   "metadata": {
    "scrolled": true
   },
   "outputs": [
    {
     "data": {
      "text/html": [
       "<div>\n",
       "<style scoped>\n",
       "    .dataframe tbody tr th:only-of-type {\n",
       "        vertical-align: middle;\n",
       "    }\n",
       "\n",
       "    .dataframe tbody tr th {\n",
       "        vertical-align: top;\n",
       "    }\n",
       "\n",
       "    .dataframe thead th {\n",
       "        text-align: right;\n",
       "    }\n",
       "</style>\n",
       "<table border=\"1\" class=\"dataframe\">\n",
       "  <thead>\n",
       "    <tr style=\"text-align: right;\">\n",
       "      <th>Category</th>\n",
       "      <th>Bad</th>\n",
       "      <th>Good</th>\n",
       "    </tr>\n",
       "    <tr>\n",
       "      <th>row_0</th>\n",
       "      <th></th>\n",
       "      <th></th>\n",
       "    </tr>\n",
       "  </thead>\n",
       "  <tbody>\n",
       "    <tr>\n",
       "      <th>Bad</th>\n",
       "      <td>319</td>\n",
       "      <td>182</td>\n",
       "    </tr>\n",
       "    <tr>\n",
       "      <th>Good</th>\n",
       "      <td>159</td>\n",
       "      <td>312</td>\n",
       "    </tr>\n",
       "  </tbody>\n",
       "</table>\n",
       "</div>"
      ],
      "text/plain": [
       "Category  Bad  Good\n",
       "row_0              \n",
       "Bad       319   182\n",
       "Good      159   312"
      ]
     },
     "execution_count": 88,
     "metadata": {},
     "output_type": "execute_result"
    }
   ],
   "source": [
    "pd.crosstab(clf.predict(X_test_varin), y_test_2)"
   ]
  },
  {
   "cell_type": "code",
   "execution_count": null,
   "metadata": {},
   "outputs": [],
   "source": []
  },
  {
   "cell_type": "code",
   "execution_count": null,
   "metadata": {},
   "outputs": [],
   "source": []
  },
  {
   "cell_type": "markdown",
   "metadata": {},
   "source": [
    "## CONFIDENCE INTERVAL"
   ]
  },
  {
   "cell_type": "code",
   "execution_count": 89,
   "metadata": {},
   "outputs": [
    {
     "name": "stdout",
     "output_type": "stream",
     "text": [
      "9999\r"
     ]
    }
   ],
   "source": [
    "predicciones = []\n",
    "\n",
    "for i in range(10000):\n",
    "    sample = np.random.randint(0, len(X_test_varin), size=len(X_test_varin))\n",
    "    X_sample = X_test_varin.iloc[sample]\n",
    "    y_sample = y_test_2.iloc[sample]\n",
    "    print(i, end='\\r', flush=True)\n",
    "    predicciones.append(accuracy_score(clf.predict(X_sample), y_sample))"
   ]
  },
  {
   "cell_type": "code",
   "execution_count": 90,
   "metadata": {},
   "outputs": [
    {
     "data": {
      "text/plain": [
       "(array([   5.,    3.,   11.,   11.,   35.,   58.,  119.,  151.,  285.,\n",
       "         316.,  525.,  503.,  878.,  696., 1069.,  811., 1056.,  681.,\n",
       "         870.,  499.,  537.,  292.,  256.,  121.,   99.,   51.,   35.,\n",
       "          12.,    8.,    7.]),\n",
       " array([0.5936214 , 0.59722222, 0.60082305, 0.60442387, 0.60802469,\n",
       "        0.61162551, 0.61522634, 0.61882716, 0.62242798, 0.62602881,\n",
       "        0.62962963, 0.63323045, 0.63683128, 0.6404321 , 0.64403292,\n",
       "        0.64763374, 0.65123457, 0.65483539, 0.65843621, 0.66203704,\n",
       "        0.66563786, 0.66923868, 0.67283951, 0.67644033, 0.68004115,\n",
       "        0.68364198, 0.6872428 , 0.69084362, 0.69444444, 0.69804527,\n",
       "        0.70164609]),\n",
       " <a list of 30 Patch objects>)"
      ]
     },
     "execution_count": 90,
     "metadata": {},
     "output_type": "execute_result"
    },
    {
     "data": {
      "image/png": "[encoded data removed]",
      "text/plain": [
       "<Figure size 432x288 with 1 Axes>"
      ]
     },
     "metadata": {
      "needs_background": "light"
     },
     "output_type": "display_data"
    }
   ],
   "source": [
    "plt.hist(predicciones, bins=30)"
   ]
  },
  {
   "cell_type": "code",
   "execution_count": 91,
   "metadata": {},
   "outputs": [
    {
     "data": {
      "text/plain": [
       "(0.6193415637860082, 0.6491769547325102, 0.6779835390946503)"
      ]
     },
     "execution_count": 91,
     "metadata": {},
     "output_type": "execute_result"
    }
   ],
   "source": [
    "np.percentile(predicciones, 2.5), np.percentile(predicciones, 50), np.percentile(predicciones, 97.5)"
   ]
  },
  {
   "cell_type": "code",
   "execution_count": null,
   "metadata": {},
   "outputs": [],
   "source": []
  }
 ],
 "metadata": {
  "kernelspec": {
   "display_name": "Python 3",
   "language": "python",
   "name": "python3"
  },
  "language_info": {
   "codemirror_mode": {
    "name": "ipython",
    "version": 3
   },
   "file_extension": ".py",
   "mimetype": "text/x-python",
   "name": "python",
   "nbconvert_exporter": "python",
   "pygments_lexer": "ipython3",
   "version": "3.7.6"
  }
 },
 "nbformat": 4,
 "nbformat_minor": 2
}
