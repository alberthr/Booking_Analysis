{
 "cells": [
  {
   "cell_type": "markdown",
   "metadata": {},
   "source": [
    "### Open File"
   ]
  },
  {
   "cell_type": "code",
   "execution_count": 113,
   "metadata": {},
   "outputs": [],
   "source": [
    "import pandas as pd\n",
    "import numpy as np\n",
    "from matplotlib import pyplot as plt"
   ]
  },
  {
   "cell_type": "code",
   "execution_count": 114,
   "metadata": {},
   "outputs": [],
   "source": [
    "df = pd.read_csv('./data/df_features.gz')"
   ]
  },
  {
   "cell_type": "markdown",
   "metadata": {},
   "source": [
    "### Select bad Reviews"
   ]
  },
  {
   "cell_type": "code",
   "execution_count": 115,
   "metadata": {},
   "outputs": [],
   "source": [
    "df['Bad'] = [1 if i < 7 else 0 for i in df.Reviewer_Score]"
   ]
  },
  {
   "cell_type": "code",
   "execution_count": 116,
   "metadata": {},
   "outputs": [],
   "source": [
    "df_bad = df[df.Bad==1]"
   ]
  },
  {
   "cell_type": "code",
   "execution_count": 118,
   "metadata": {},
   "outputs": [
    {
     "data": {
      "text/plain": [
       "Index(['Hotel_Address', 'Additional_Number_of_Scoring', 'Review_Date',\n",
       "       'Average_Score', 'Hotel_Name', 'Reviewer_Nationality',\n",
       "       'Review_Total_Negative_Word_Counts', 'Total_Number_of_Reviews',\n",
       "       'Review_Total_Positive_Word_Counts',\n",
       "       'Total_Number_of_Reviews_Reviewer_Has_Given', 'Reviewer_Score',\n",
       "       'days_since_review', 'lat', 'lng', 'Diff', 'Diff_Percentage',\n",
       "       'Review_Month', 'Review_Year', 'Country', 'City', 'Pet', 'Purpose',\n",
       "       'Whom', 'Room', 'Length', 'Device', 'Room_Recode', 'Nationality_Recode',\n",
       "       'Length_Recode', 'Close_Landmarks', 'Dist_Center', 'Dist_Airport',\n",
       "       'Dist_Train', 'Price', 'Stars', 'Length_N', 'Reservation_ADR',\n",
       "       'food_Neg', 'staff_Neg', 'location_Neg', 'value_Neg', 'comfort_Neg',\n",
       "       'room_Neg', 'facilities_Neg', 'cleanliness_Neg', 'food_Pos',\n",
       "       'staff_Pos', 'location_Pos', 'value_Pos', 'comfort_Pos', 'room_Pos',\n",
       "       'facilities_Pos', 'cleanliness_Pos', 'food_Neg_Hotel',\n",
       "       'staff_Neg_Hotel', 'location_Neg_Hotel', 'value_Neg_Hotel',\n",
       "       'comfort_Neg_Hotel', 'room_Neg_Hotel', 'facilities_Neg_Hotel',\n",
       "       'cleanliness_Neg_Hotel', 'food_Pos_Hotel', 'staff_Pos_Hotel',\n",
       "       'location_Pos_Hotel', 'value_Pos_Hotel', 'comfort_Pos_Hotel',\n",
       "       'room_Pos_Hotel', 'facilities_Pos_Hotel', 'cleanliness_Pos_Hotel',\n",
       "       'Bad'],\n",
       "      dtype='object')"
      ]
     },
     "execution_count": 118,
     "metadata": {},
     "output_type": "execute_result"
    }
   ],
   "source": [
    "df.columns"
   ]
  },
  {
   "cell_type": "code",
   "execution_count": 178,
   "metadata": {
    "scrolled": true
   },
   "outputs": [],
   "source": [
    "vars = ['Purpose','Room_Recode','Length_Recode','Pet','City']\n",
    "df_pos = None\n",
    "\n",
    "for i in vars:\n",
    "    tmp = df_bad[[i,'food_Neg', 'staff_Neg', 'location_Neg', 'value_Neg', 'comfort_Neg',\n",
    "                      'room_Neg', 'facilities_Neg', 'cleanliness_Neg']].groupby([i]).sum()\n",
    "    #tmp.rename(columns={tmp.columns[0]: \"Variable\" }, inplace = True)\n",
    "    df_pos = pd.concat([df_pos, tmp])"
   ]
  },
  {
   "cell_type": "code",
   "execution_count": 179,
   "metadata": {},
   "outputs": [
    {
     "data": {
      "text/plain": [
       "(23, 8)"
      ]
     },
     "execution_count": 179,
     "metadata": {},
     "output_type": "execute_result"
    }
   ],
   "source": [
    "df_pos.shape"
   ]
  },
  {
   "cell_type": "code",
   "execution_count": 180,
   "metadata": {},
   "outputs": [
    {
     "data": {
      "text/html": [
       "<div>\n",
       "<style scoped>\n",
       "    .dataframe tbody tr th:only-of-type {\n",
       "        vertical-align: middle;\n",
       "    }\n",
       "\n",
       "    .dataframe tbody tr th {\n",
       "        vertical-align: top;\n",
       "    }\n",
       "\n",
       "    .dataframe thead th {\n",
       "        text-align: right;\n",
       "    }\n",
       "</style>\n",
       "<table border=\"1\" class=\"dataframe\">\n",
       "  <thead>\n",
       "    <tr style=\"text-align: right;\">\n",
       "      <th></th>\n",
       "      <th>food_Neg</th>\n",
       "      <th>staff_Neg</th>\n",
       "      <th>location_Neg</th>\n",
       "      <th>value_Neg</th>\n",
       "      <th>comfort_Neg</th>\n",
       "      <th>room_Neg</th>\n",
       "      <th>facilities_Neg</th>\n",
       "      <th>cleanliness_Neg</th>\n",
       "    </tr>\n",
       "  </thead>\n",
       "  <tbody>\n",
       "    <tr>\n",
       "      <th>Business trip</th>\n",
       "      <td>4516</td>\n",
       "      <td>6051</td>\n",
       "      <td>3968</td>\n",
       "      <td>3664</td>\n",
       "      <td>9001</td>\n",
       "      <td>5320</td>\n",
       "      <td>7505</td>\n",
       "      <td>2724</td>\n",
       "    </tr>\n",
       "    <tr>\n",
       "      <th>Leisure trip</th>\n",
       "      <td>15625</td>\n",
       "      <td>21803</td>\n",
       "      <td>14571</td>\n",
       "      <td>13128</td>\n",
       "      <td>27515</td>\n",
       "      <td>20039</td>\n",
       "      <td>24241</td>\n",
       "      <td>9576</td>\n",
       "    </tr>\n",
       "    <tr>\n",
       "      <th>Deluxe</th>\n",
       "      <td>5724</td>\n",
       "      <td>8270</td>\n",
       "      <td>5352</td>\n",
       "      <td>5054</td>\n",
       "      <td>10268</td>\n",
       "      <td>7014</td>\n",
       "      <td>8649</td>\n",
       "      <td>3387</td>\n",
       "    </tr>\n",
       "    <tr>\n",
       "      <th>Executive</th>\n",
       "      <td>967</td>\n",
       "      <td>1308</td>\n",
       "      <td>816</td>\n",
       "      <td>770</td>\n",
       "      <td>1541</td>\n",
       "      <td>1103</td>\n",
       "      <td>1377</td>\n",
       "      <td>548</td>\n",
       "    </tr>\n",
       "    <tr>\n",
       "      <th>Other (Standard)</th>\n",
       "      <td>13428</td>\n",
       "      <td>18143</td>\n",
       "      <td>12261</td>\n",
       "      <td>10977</td>\n",
       "      <td>24954</td>\n",
       "      <td>17343</td>\n",
       "      <td>21745</td>\n",
       "      <td>8372</td>\n",
       "    </tr>\n",
       "    <tr>\n",
       "      <th>Studio</th>\n",
       "      <td>157</td>\n",
       "      <td>251</td>\n",
       "      <td>145</td>\n",
       "      <td>124</td>\n",
       "      <td>251</td>\n",
       "      <td>201</td>\n",
       "      <td>244</td>\n",
       "      <td>135</td>\n",
       "    </tr>\n",
       "    <tr>\n",
       "      <th>Suite</th>\n",
       "      <td>571</td>\n",
       "      <td>882</td>\n",
       "      <td>565</td>\n",
       "      <td>453</td>\n",
       "      <td>752</td>\n",
       "      <td>609</td>\n",
       "      <td>820</td>\n",
       "      <td>351</td>\n",
       "    </tr>\n",
       "    <tr>\n",
       "      <th>Stayed 1 night</th>\n",
       "      <td>7714</td>\n",
       "      <td>10495</td>\n",
       "      <td>6909</td>\n",
       "      <td>6545</td>\n",
       "      <td>14372</td>\n",
       "      <td>10173</td>\n",
       "      <td>12342</td>\n",
       "      <td>4273</td>\n",
       "    </tr>\n",
       "    <tr>\n",
       "      <th>Stayed 2 nights</th>\n",
       "      <td>5462</td>\n",
       "      <td>7528</td>\n",
       "      <td>5144</td>\n",
       "      <td>4644</td>\n",
       "      <td>10121</td>\n",
       "      <td>6855</td>\n",
       "      <td>8672</td>\n",
       "      <td>3274</td>\n",
       "    </tr>\n",
       "    <tr>\n",
       "      <th>Stayed 3 nights</th>\n",
       "      <td>3792</td>\n",
       "      <td>5208</td>\n",
       "      <td>3603</td>\n",
       "      <td>3095</td>\n",
       "      <td>6546</td>\n",
       "      <td>4555</td>\n",
       "      <td>5814</td>\n",
       "      <td>2447</td>\n",
       "    </tr>\n",
       "    <tr>\n",
       "      <th>Stayed 4 nights</th>\n",
       "      <td>1964</td>\n",
       "      <td>2731</td>\n",
       "      <td>1808</td>\n",
       "      <td>1552</td>\n",
       "      <td>3307</td>\n",
       "      <td>2365</td>\n",
       "      <td>2982</td>\n",
       "      <td>1257</td>\n",
       "    </tr>\n",
       "    <tr>\n",
       "      <th>Stayed 5 nights</th>\n",
       "      <td>883</td>\n",
       "      <td>1287</td>\n",
       "      <td>808</td>\n",
       "      <td>726</td>\n",
       "      <td>1557</td>\n",
       "      <td>1079</td>\n",
       "      <td>1388</td>\n",
       "      <td>666</td>\n",
       "    </tr>\n",
       "    <tr>\n",
       "      <th>Stayed 6 nights</th>\n",
       "      <td>386</td>\n",
       "      <td>649</td>\n",
       "      <td>348</td>\n",
       "      <td>314</td>\n",
       "      <td>705</td>\n",
       "      <td>451</td>\n",
       "      <td>654</td>\n",
       "      <td>317</td>\n",
       "    </tr>\n",
       "    <tr>\n",
       "      <th>Stayed 7 nights</th>\n",
       "      <td>352</td>\n",
       "      <td>472</td>\n",
       "      <td>265</td>\n",
       "      <td>273</td>\n",
       "      <td>624</td>\n",
       "      <td>413</td>\n",
       "      <td>525</td>\n",
       "      <td>262</td>\n",
       "    </tr>\n",
       "    <tr>\n",
       "      <th>Stayed 8 nights</th>\n",
       "      <td>126</td>\n",
       "      <td>172</td>\n",
       "      <td>98</td>\n",
       "      <td>97</td>\n",
       "      <td>194</td>\n",
       "      <td>142</td>\n",
       "      <td>164</td>\n",
       "      <td>117</td>\n",
       "    </tr>\n",
       "    <tr>\n",
       "      <th>Stayed 9+ nights</th>\n",
       "      <td>178</td>\n",
       "      <td>356</td>\n",
       "      <td>175</td>\n",
       "      <td>151</td>\n",
       "      <td>360</td>\n",
       "      <td>249</td>\n",
       "      <td>317</td>\n",
       "      <td>191</td>\n",
       "    </tr>\n",
       "    <tr>\n",
       "      <th>With a pet</th>\n",
       "      <td>66</td>\n",
       "      <td>85</td>\n",
       "      <td>54</td>\n",
       "      <td>58</td>\n",
       "      <td>83</td>\n",
       "      <td>59</td>\n",
       "      <td>80</td>\n",
       "      <td>36</td>\n",
       "    </tr>\n",
       "    <tr>\n",
       "      <th>Amsterdam</th>\n",
       "      <td>1917</td>\n",
       "      <td>3141</td>\n",
       "      <td>2402</td>\n",
       "      <td>2301</td>\n",
       "      <td>3119</td>\n",
       "      <td>2666</td>\n",
       "      <td>3064</td>\n",
       "      <td>1621</td>\n",
       "    </tr>\n",
       "    <tr>\n",
       "      <th>Barcelona</th>\n",
       "      <td>2061</td>\n",
       "      <td>2908</td>\n",
       "      <td>2198</td>\n",
       "      <td>1820</td>\n",
       "      <td>3423</td>\n",
       "      <td>2550</td>\n",
       "      <td>3610</td>\n",
       "      <td>1498</td>\n",
       "    </tr>\n",
       "    <tr>\n",
       "      <th>London</th>\n",
       "      <td>11570</td>\n",
       "      <td>15459</td>\n",
       "      <td>9660</td>\n",
       "      <td>9413</td>\n",
       "      <td>22726</td>\n",
       "      <td>15599</td>\n",
       "      <td>18228</td>\n",
       "      <td>6475</td>\n",
       "    </tr>\n",
       "    <tr>\n",
       "      <th>Milan</th>\n",
       "      <td>1868</td>\n",
       "      <td>2331</td>\n",
       "      <td>1574</td>\n",
       "      <td>1126</td>\n",
       "      <td>2367</td>\n",
       "      <td>1578</td>\n",
       "      <td>2311</td>\n",
       "      <td>888</td>\n",
       "    </tr>\n",
       "    <tr>\n",
       "      <th>Paris</th>\n",
       "      <td>2177</td>\n",
       "      <td>3184</td>\n",
       "      <td>2108</td>\n",
       "      <td>1738</td>\n",
       "      <td>4206</td>\n",
       "      <td>2481</td>\n",
       "      <td>3429</td>\n",
       "      <td>1481</td>\n",
       "    </tr>\n",
       "    <tr>\n",
       "      <th>Vienna</th>\n",
       "      <td>1264</td>\n",
       "      <td>1875</td>\n",
       "      <td>1216</td>\n",
       "      <td>999</td>\n",
       "      <td>1945</td>\n",
       "      <td>1408</td>\n",
       "      <td>2216</td>\n",
       "      <td>841</td>\n",
       "    </tr>\n",
       "  </tbody>\n",
       "</table>\n",
       "</div>"
      ],
      "text/plain": [
       "                  food_Neg  staff_Neg  location_Neg  value_Neg  comfort_Neg  \\\n",
       "Business trip         4516       6051          3968       3664         9001   \n",
       "Leisure trip         15625      21803         14571      13128        27515   \n",
       "Deluxe                5724       8270          5352       5054        10268   \n",
       "Executive              967       1308           816        770         1541   \n",
       "Other (Standard)     13428      18143         12261      10977        24954   \n",
       "Studio                 157        251           145        124          251   \n",
       "Suite                  571        882           565        453          752   \n",
       "Stayed 1 night        7714      10495          6909       6545        14372   \n",
       "Stayed 2 nights       5462       7528          5144       4644        10121   \n",
       "Stayed 3 nights       3792       5208          3603       3095         6546   \n",
       "Stayed 4 nights       1964       2731          1808       1552         3307   \n",
       "Stayed 5 nights        883       1287           808        726         1557   \n",
       "Stayed 6 nights        386        649           348        314          705   \n",
       "Stayed 7 nights        352        472           265        273          624   \n",
       "Stayed 8 nights        126        172            98         97          194   \n",
       "Stayed 9+ nights       178        356           175        151          360   \n",
       "With a pet              66         85            54         58           83   \n",
       "Amsterdam             1917       3141          2402       2301         3119   \n",
       "Barcelona             2061       2908          2198       1820         3423   \n",
       "London               11570      15459          9660       9413        22726   \n",
       "Milan                 1868       2331          1574       1126         2367   \n",
       "Paris                 2177       3184          2108       1738         4206   \n",
       "Vienna                1264       1875          1216        999         1945   \n",
       "\n",
       "                  room_Neg  facilities_Neg  cleanliness_Neg  \n",
       "Business trip         5320            7505             2724  \n",
       "Leisure trip         20039           24241             9576  \n",
       "Deluxe                7014            8649             3387  \n",
       "Executive             1103            1377              548  \n",
       "Other (Standard)     17343           21745             8372  \n",
       "Studio                 201             244              135  \n",
       "Suite                  609             820              351  \n",
       "Stayed 1 night       10173           12342             4273  \n",
       "Stayed 2 nights       6855            8672             3274  \n",
       "Stayed 3 nights       4555            5814             2447  \n",
       "Stayed 4 nights       2365            2982             1257  \n",
       "Stayed 5 nights       1079            1388              666  \n",
       "Stayed 6 nights        451             654              317  \n",
       "Stayed 7 nights        413             525              262  \n",
       "Stayed 8 nights        142             164              117  \n",
       "Stayed 9+ nights       249             317              191  \n",
       "With a pet              59              80               36  \n",
       "Amsterdam             2666            3064             1621  \n",
       "Barcelona             2550            3610             1498  \n",
       "London               15599           18228             6475  \n",
       "Milan                 1578            2311              888  \n",
       "Paris                 2481            3429             1481  \n",
       "Vienna                1408            2216              841  "
      ]
     },
     "execution_count": 180,
     "metadata": {},
     "output_type": "execute_result"
    }
   ],
   "source": [
    "df_pos"
   ]
  },
  {
   "cell_type": "code",
   "execution_count": 181,
   "metadata": {},
   "outputs": [
    {
     "name": "stdout",
     "output_type": "stream",
     "text": [
      "Explained variation per principal component: [0.99816589 0.00132309]\n"
     ]
    }
   ],
   "source": [
    "from sklearn.decomposition import PCA\n",
    "pca = PCA(n_components=2)\n",
    "coordenadas = pca.fit_transform(df_pos)\n",
    "print('Explained variation per principal component: {}'.format(pca.explained_variance_ratio_))"
   ]
  },
  {
   "cell_type": "code",
   "execution_count": 182,
   "metadata": {},
   "outputs": [
    {
     "data": {
      "text/plain": [
       "<matplotlib.collections.PathCollection at 0x24481cdc988>"
      ]
     },
     "execution_count": 182,
     "metadata": {},
     "output_type": "execute_result"
    },
    {
     "data": {
      "image/png": "[encoded data removed]",
      "text/plain": [
       "<Figure size 720x360 with 1 Axes>"
      ]
     },
     "metadata": {
      "needs_background": "light"
     },
     "output_type": "display_data"
    }
   ],
   "source": [
    "plt.figure(figsize=(10,5))\n",
    "plt.scatter(coordenadas[:,0], coordenadas[:,1])"
   ]
  },
  {
   "cell_type": "code",
   "execution_count": 183,
   "metadata": {},
   "outputs": [
    {
     "data": {
      "image/png": "[encoded data removed]",
      "text/plain": [
       "<Figure size 1080x720 with 1 Axes>"
      ]
     },
     "metadata": {
      "needs_background": "light"
     },
     "output_type": "display_data"
    }
   ],
   "source": [
    "x = coordenadas[:,0]\n",
    "y = coordenadas[:,1]\n",
    "n = df_pos.index\n",
    "\n",
    "fig, ax = plt.subplots(figsize=(15,10))\n",
    "ax.scatter(x, y)\n",
    "\n",
    "for i, txt in enumerate(n):\n",
    "    ax.annotate(txt, (x[i], y[i]))"
   ]
  },
  {
   "cell_type": "code",
   "execution_count": 151,
   "metadata": {},
   "outputs": [
    {
     "data": {
      "text/plain": [
       "(52,)"
      ]
     },
     "execution_count": 151,
     "metadata": {},
     "output_type": "execute_result"
    }
   ],
   "source": [
    "coordenadas[:,0]"
   ]
  },
  {
   "cell_type": "code",
   "execution_count": null,
   "metadata": {},
   "outputs": [],
   "source": []
  },
  {
   "cell_type": "code",
   "execution_count": null,
   "metadata": {},
   "outputs": [],
   "source": []
  },
  {
   "cell_type": "code",
   "execution_count": null,
   "metadata": {},
   "outputs": [],
   "source": []
  },
  {
   "cell_type": "code",
   "execution_count": 127,
   "metadata": {},
   "outputs": [],
   "source": [
    "variables = ['food_Neg', 'staff_Neg','location_Neg', 'value_Neg', 'comfort_Neg','room_Neg', \n",
    "             'facilities_Neg', 'cleanliness_Neg']\n",
    "df_pca = df[variables]"
   ]
  },
  {
   "cell_type": "code",
   "execution_count": 133,
   "metadata": {},
   "outputs": [
    {
     "name": "stdout",
     "output_type": "stream",
     "text": [
      "Explained variation per principal component: [0.26429301 0.15781213]\n"
     ]
    }
   ],
   "source": [
    "from sklearn.decomposition import PCA\n",
    "pca = PCA(n_components=2)\n",
    "coordenadas = pca.fit_transform(df_pca)\n",
    "print('Explained variation per principal component: {}'.format(pca.explained_variance_ratio_))"
   ]
  },
  {
   "cell_type": "code",
   "execution_count": 134,
   "metadata": {},
   "outputs": [
    {
     "data": {
      "text/plain": [
       "(515738, 2)"
      ]
     },
     "execution_count": 134,
     "metadata": {},
     "output_type": "execute_result"
    }
   ],
   "source": [
    "coordenadas.shape"
   ]
  },
  {
   "cell_type": "code",
   "execution_count": 139,
   "metadata": {},
   "outputs": [
    {
     "data": {
      "text/plain": [
       "<matplotlib.collections.PathCollection at 0x24481eb3208>"
      ]
     },
     "execution_count": 139,
     "metadata": {},
     "output_type": "execute_result"
    },
    {
     "data": {
      "image/png": "[encoded data removed]",
      "text/plain": [
       "<Figure size 720x360 with 1 Axes>"
      ]
     },
     "metadata": {
      "needs_background": "light"
     },
     "output_type": "display_data"
    }
   ],
   "source": [
    "plt.figure(figsize=(10,5))\n",
    "plt.scatter(coordenadas[:,0], coordenadas[:,1], c=df.Bad, alpha=0.01)"
   ]
  },
  {
   "cell_type": "code",
   "execution_count": null,
   "metadata": {},
   "outputs": [],
   "source": []
  }
 ],
 "metadata": {
  "kernelspec": {
   "display_name": "Python 3",
   "language": "python",
   "name": "python3"
  },
  "language_info": {
   "codemirror_mode": {
    "name": "ipython",
    "version": 3
   },
   "file_extension": ".py",
   "mimetype": "text/x-python",
   "name": "python",
   "nbconvert_exporter": "python",
   "pygments_lexer": "ipython3",
   "version": "3.7.7"
  }
 },
 "nbformat": 4,
 "nbformat_minor": 2
}
